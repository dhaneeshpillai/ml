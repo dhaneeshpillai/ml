{
 "cells": [
  {
   "cell_type": "markdown",
   "metadata": {},
   "source": [
    "# Assignment - 2"
   ]
  },
  {
   "cell_type": "markdown",
   "metadata": {},
   "source": [
    "## Task 1:"
   ]
  },
  {
   "cell_type": "markdown",
   "metadata": {},
   "source": [
    "### 1.1) Write a Python Program to implement your own myreduce() function which works exactly like Python's built-in function reduce()"
   ]
  },
  {
   "cell_type": "code",
   "execution_count": 1,
   "metadata": {},
   "outputs": [
    {
     "name": "stdout",
     "output_type": "stream",
     "text": [
      "123\n",
      "6\n"
     ]
    }
   ],
   "source": [
    "def myreduce(my_func, seq):\n",
    "    \"\"\"Function replicating the inbuilt reduce function\"\"\"\n",
    "    \n",
    "    val = seq[0]\n",
    "    for i in seq[1:]:\n",
    "        val = my_func(val, i)\n",
    "    return val\n",
    "\n",
    "def concat(a, b):\n",
    "    \"\"\"Returns a concatenation of the arguments\"\"\"\n",
    "    \n",
    "    return f'{a}{b}'\n",
    "\n",
    "def add_val(a, b):\n",
    "    \"\"\"Returns a summation of the arguments\"\"\"\n",
    "    \n",
    "    return a+b\n",
    "\n",
    "print(myreduce(concat, [1,2,3]))\n",
    "\n",
    "print(myreduce(add_val, [1,2,3]))"
   ]
  },
  {
   "cell_type": "markdown",
   "metadata": {},
   "source": [
    "### 1.2) Write a Python program to implement your own myfilter() function which works exactly like Python's built-in function filter()"
   ]
  },
  {
   "cell_type": "code",
   "execution_count": 2,
   "metadata": {},
   "outputs": [
    {
     "data": {
      "text/plain": [
       "[1, 3, 5, 7]"
      ]
     },
     "execution_count": 2,
     "metadata": {},
     "output_type": "execute_result"
    }
   ],
   "source": [
    "def myfilter(my_func, seq):\n",
    "    \"\"\"Function replicating the filter function\"\"\"\n",
    "    \n",
    "    new_seq = []\n",
    "    for i in seq:\n",
    "        if my_func(i):\n",
    "            new_seq.append(i)\n",
    "    return new_seq\n",
    "\n",
    "def check_odd(val):\n",
    "    \"\"\"Returns odd numbers\"\"\"\n",
    "    \n",
    "    if val%2 != 0:\n",
    "        return True\n",
    "\n",
    "myfilter(check_odd, [1,2,3,4,5,6,7])"
   ]
  },
  {
   "cell_type": "markdown",
   "metadata": {},
   "source": [
    "### 2)Implement List comprehensions to produce the following lists.\n",
    "Write List comprehensions to produce the following Lists\n",
    "\n",
    "['A', 'C', 'A', 'D', 'G', 'I', ’L’, ‘ D’]\n",
    "\n",
    "['x', 'xx', 'xxx', 'xxxx', 'y', 'yy', 'yyy', 'yyyy', 'z', 'zz', 'zzz', 'zzzz']\n",
    "\n",
    "['x', 'y', 'z', 'xx', 'yy', 'zz', 'xxx', 'yyy', 'zzz', 'xxxx', 'yyyy', 'zzzz']\n",
    "\n",
    "[[2], [3], [4], [3], [4], [5], [4], [5], [6]]\n",
    "\n",
    "[[2, 3, 4, 5], [3, 4, 5, 6], [4, 5, 6, 7], [5, 6, 7, 8]]\n",
    "\n",
    "[(1, 1), (2, 1), (3, 1), (1, 2), (2, 2), (3, 2), (1, 3), (2, 3), (3, 3)]"
   ]
  },
  {
   "cell_type": "code",
   "execution_count": 3,
   "metadata": {},
   "outputs": [
    {
     "name": "stdout",
     "output_type": "stream",
     "text": [
      "['A', 'C', 'A', 'D', 'G', 'I', 'L', 'D'] \n",
      "\n",
      "['x', 'xx', 'xxx', 'xxxx', 'y', 'yy', 'yyy', 'yyyy', 'z', 'zz', 'zzz', 'zzzz'] \n",
      "\n",
      "['x', 'y', 'z', 'xx', 'yy', 'zz', 'xxx', 'yyy', 'zzz', 'xxxx', 'yyyy', 'zzzz'] \n",
      "\n",
      "[[2], [3], [4], [3], [4], [5], [4], [5], [6]] \n",
      "\n",
      "[[2, 3, 4, 5], [3, 4, 5, 6], [4, 5, 6, 7], [5, 6, 7, 8]] \n",
      "\n",
      "[(1, 1), (2, 1), (3, 1), (1, 2), (2, 2), (3, 2), (1, 3), (2, 3), (3, 3)] \n",
      "\n"
     ]
    }
   ],
   "source": [
    "print([n for n in 'ACADGILD'], '\\n')\n",
    "\n",
    "print([c*n for c in 'xyz' for n in range(1,5)], '\\n')\n",
    "\n",
    "print([c*n for n in range(1,5) for c in 'xyz'], '\\n')\n",
    "\n",
    "print([[a+b] for a in range(1,4) for b in range(1,4)], '\\n')\n",
    "\n",
    "print([list(map(lambda n: a+n, range(1,5))) for a in range(1,5)], '\\n') \n",
    "\n",
    "print([(b,a) for a in range(1,4) for b in range(1,4)], '\\n')"
   ]
  },
  {
   "cell_type": "markdown",
   "metadata": {},
   "source": [
    "### 3) Implement a function longestWord() that takes a list of words and returns the longest one."
   ]
  },
  {
   "cell_type": "code",
   "execution_count": 4,
   "metadata": {},
   "outputs": [
    {
     "data": {
      "text/plain": [
       "'asfsdgsdg'"
      ]
     },
     "execution_count": 4,
     "metadata": {},
     "output_type": "execute_result"
    }
   ],
   "source": [
    "def longestWord(lst):\n",
    "    \"\"\"Returns the longest word from the given list\"\"\"\n",
    "    \n",
    "    longest_word = lst[0]\n",
    "    for i in lst[1:]:\n",
    "        if len(i) > len(longest_word):\n",
    "            longest_word = i\n",
    "    return longest_word\n",
    "\n",
    "longestWord(['asd', 'asfsdgsdg', 'asdqwe'])"
   ]
  },
  {
   "cell_type": "markdown",
   "metadata": {},
   "source": [
    "## Task 2"
   ]
  },
  {
   "cell_type": "markdown",
   "metadata": {},
   "source": [
    "### 1.1) Write a Python Program(with class concepts) to find the area of the triangle using the below formula.\n",
    "\n",
    "area = (s*(s-a)*(s-b)*(s-c)) *** 0.5\n",
    "\n",
    "Function to take the length of the sides of triangle from user should be defined in the parent\n",
    "class and function to calculate the area should be defined in subclass."
   ]
  },
  {
   "cell_type": "code",
   "execution_count": 5,
   "metadata": {},
   "outputs": [
    {
     "name": "stdout",
     "output_type": "stream",
     "text": [
      "Please enter the length of side a: 5\n",
      "Please enter the length of side b: 7\n",
      "Please enter the length of side c: 9\n"
     ]
    },
    {
     "data": {
      "text/plain": [
       "17.41228014936585"
      ]
     },
     "execution_count": 5,
     "metadata": {},
     "output_type": "execute_result"
    }
   ],
   "source": [
    "class Triangle:\n",
    "    \"\"\"Class for triangle\n",
    "    \n",
    "    Attributes:\n",
    "        a,b,c: length of sides of the triangle\n",
    "\n",
    "    \"\"\"\n",
    "    \n",
    "    def __init__(self):\n",
    "        \"\"\"Constructor for Triangle class\"\"\"\n",
    "        \n",
    "        self.a = 0\n",
    "        self.b = 0\n",
    "        self.c = 0\n",
    "        \n",
    "    def get_side_length(self):\n",
    "        \"\"\"Function to take the length of the sides of triangle from user\"\"\"\n",
    "        \n",
    "        self.a = int(input('Please enter the length of side a: '))\n",
    "        self.b = int(input('Please enter the length of side b: '))\n",
    "        self.c = int(input('Please enter the length of side c: '))\n",
    "\n",
    "class Area(Triangle):\n",
    "    \"\"\"Class for Area, subclass of Triangle class\"\"\"\n",
    "    \n",
    "    def __init__(self):\n",
    "        \"\"\"Constructor for Area class\"\"\"\n",
    "        \n",
    "        super().__init__()\n",
    "    \n",
    "    def calc_area(self):\n",
    "        \"\"\"Function for calculating the area of the triangle\n",
    "        \n",
    "        Returns: \n",
    "            float: The floating point number contains the area of the triangle\n",
    "        \"\"\"\n",
    "        \n",
    "        s = (self.a + self.b +self.c)/2\n",
    "        return (s * (s-self.a) * (s-self.b) * (s-self.c))**0.5\n",
    "    \n",
    "triangle_1 = Area()\n",
    "\n",
    "triangle_1.get_side_length()\n",
    "\n",
    "triangle_1.calc_area()        "
   ]
  },
  {
   "cell_type": "markdown",
   "metadata": {},
   "source": [
    "### 1.2) Write a function filter_long_words() that takes a list of words and an integer n and returns the list of words that are longer than n."
   ]
  },
  {
   "cell_type": "code",
   "execution_count": 6,
   "metadata": {},
   "outputs": [
    {
     "data": {
      "text/plain": [
       "['krish', 'loremipsum', 'dolor']"
      ]
     },
     "execution_count": 6,
     "metadata": {},
     "output_type": "execute_result"
    }
   ],
   "source": [
    "def filter_long_words(lst, n):\n",
    "    \"\"\"Function for filtering out words which has length more than n\n",
    "    \n",
    "    Arguments:\n",
    "        lst (list): List of words\n",
    "        n (int): integer number\n",
    "        \n",
    "    Returns:\n",
    "        list: The list contains all the words with length greater than n\n",
    "    \"\"\"\n",
    "    long_words = []\n",
    "    for i in lst:\n",
    "        if len(i)>n:\n",
    "            long_words.append(i)\n",
    "    return long_words\n",
    "\n",
    "filter_long_words(['sudh', 'krish', 'loremipsum', 'dolor', 'john', 'doe'], 4)"
   ]
  },
  {
   "cell_type": "markdown",
   "metadata": {},
   "source": [
    "### 2.1) Write a Python program using function concept that maps list of words into a list of integers representing the lengths of the corresponding words .\n",
    "\n",
    "Hint: If a list [ ab,cde,erty] is passed on to the python function output should come as [2,3,4]\n",
    "\n",
    "Here 2,3 and 4 are the lengths of the words in the list."
   ]
  },
  {
   "cell_type": "code",
   "execution_count": 7,
   "metadata": {},
   "outputs": [
    {
     "data": {
      "text/plain": [
       "[2, 3, 4]"
      ]
     },
     "execution_count": 7,
     "metadata": {},
     "output_type": "execute_result"
    }
   ],
   "source": [
    "def map_to(lst):\n",
    "    \"\"\"Function for mapping out words into their corresponding lengths\n",
    "    \n",
    "    Arguments:\n",
    "        lst (list): List of words\n",
    "        \n",
    "    Returns:\n",
    "        list: The list contains the lengths of the words\n",
    "    \"\"\"\n",
    "    \n",
    "    new_lst = []\n",
    "    for i in lst:\n",
    "        new_lst.append(len(i))\n",
    "    return new_lst\n",
    "\n",
    "map_to([ 'ab','cde','erty'])"
   ]
  },
  {
   "cell_type": "markdown",
   "metadata": {},
   "source": [
    "### 2.2) Write a Python function which takes a character (i.e. a string of length 1) and returns True if it is a vowel, False otherwise."
   ]
  },
  {
   "cell_type": "code",
   "execution_count": 8,
   "metadata": {},
   "outputs": [
    {
     "data": {
      "text/plain": [
       "True"
      ]
     },
     "execution_count": 8,
     "metadata": {},
     "output_type": "execute_result"
    }
   ],
   "source": [
    "def is_vowel(char):\n",
    "    \"\"\"Function for checking if a character is vowel or not\n",
    "    \n",
    "    Attributes:\n",
    "        vowel (list): List of vowels\n",
    "        \n",
    "    Arguments:\n",
    "        char (str): character\n",
    "        \n",
    "    Returns:\n",
    "        boolean: boolean value, True if its a vowel, else False\n",
    "    \"\"\"\n",
    "    \n",
    "    vowels = ['a', 'e', 'i', 'o', 'u']\n",
    "    if char in vowels:\n",
    "        return True\n",
    "    else:\n",
    "        return False\n",
    "    \n",
    "is_vowel('e')"
   ]
  }
 ],
 "metadata": {
  "kernelspec": {
   "display_name": "Python 3",
   "language": "python",
   "name": "python3"
  },
  "language_info": {
   "codemirror_mode": {
    "name": "ipython",
    "version": 3
   },
   "file_extension": ".py",
   "mimetype": "text/x-python",
   "name": "python",
   "nbconvert_exporter": "python",
   "pygments_lexer": "ipython3",
   "version": "3.7.3"
  }
 },
 "nbformat": 4,
 "nbformat_minor": 2
}
