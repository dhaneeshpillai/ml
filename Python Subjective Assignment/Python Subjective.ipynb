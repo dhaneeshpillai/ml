{
 "cells": [
  {
   "cell_type": "markdown",
   "metadata": {},
   "source": [
    "# Python Subjective Assignment"
   ]
  },
  {
   "cell_type": "markdown",
   "metadata": {},
   "source": [
    "## Q1. Write a Python program to get the string from the given string where all the occurrence of its first char has been changed to '$' except first char itself?\n",
    "\n",
    "Sample String: 'prospect'\n",
    "Expected Result : 'pros$ect'"
   ]
  },
  {
   "cell_type": "code",
   "execution_count": 1,
   "metadata": {},
   "outputs": [
    {
     "data": {
      "text/plain": [
       "'pros$ect'"
      ]
     },
     "execution_count": 1,
     "metadata": {},
     "output_type": "execute_result"
    }
   ],
   "source": [
    "def dolla(strng):\n",
    "    \"\"\"Function replacing recurring characters with $\n",
    "    \n",
    "    Arguments:\n",
    "        strng (string): The string that needs to be manipulated\n",
    "        \n",
    "    Returns:\n",
    "        string: Contains the manipulated string\n",
    "    \"\"\"\n",
    "    \n",
    "    lst = []\n",
    "    for s in strng:\n",
    "        if s not in lst:\n",
    "            lst.append(s)\n",
    "        else:\n",
    "            lst.append('$')\n",
    "    return ''.join(lst)\n",
    "\n",
    "dolla('prospect')"
   ]
  },
  {
   "cell_type": "markdown",
   "metadata": {},
   "source": [
    "## Q2. Write a Python program to get the single string from the two given strings, and separated by the space and swap the first two characters of each string?\n",
    "\n",
    "Sample String : 'abc', 'xyz'.\n",
    "Expected Result: 'xyc abz'"
   ]
  },
  {
   "cell_type": "code",
   "execution_count": 2,
   "metadata": {},
   "outputs": [
    {
     "data": {
      "text/plain": [
       "'xyc abz'"
      ]
     },
     "execution_count": 2,
     "metadata": {},
     "output_type": "execute_result"
    }
   ],
   "source": [
    "def swap_chars(str1,str2):\n",
    "    \"\"\"Function for swapping first two characters of two given strings and returning a single string separated by space\n",
    "    \n",
    "    Arguments:\n",
    "        str1,str2 (string): Two strings whose first two characters need to be swapped\n",
    "        \n",
    "    Returns:\n",
    "        string: contains the single string with swapped characters\n",
    "    \"\"\"\n",
    "    \n",
    "    return str2[0:2] + str1[2:] + ' ' + str1[0:2] + str2[2:]\n",
    "\n",
    "swap_chars('abc','xyz')"
   ]
  },
  {
   "cell_type": "markdown",
   "metadata": {},
   "source": [
    "## Q3. Write the Python program to add 'ing' at the end of the given string (length of the string should be at least 3). If given string already ends with 'ing,' then add 'ly' instead. If string length of the given string is less than 3, leave it unchanged?\n",
    "\n",
    "Sample string: ' abc '\n",
    "\n",
    "Expected result: ' abcing '\n",
    "\n",
    "Sample string: ' string '\n",
    "\n",
    "Expected result: ' stringly '"
   ]
  },
  {
   "cell_type": "code",
   "execution_count": 3,
   "metadata": {},
   "outputs": [
    {
     "data": {
      "text/plain": [
       "'ballingly'"
      ]
     },
     "execution_count": 3,
     "metadata": {},
     "output_type": "execute_result"
    }
   ],
   "source": [
    "def change_word(word):\n",
    "    \"\"\"Function for adding 'ing' or 'ly to the given word'\n",
    "    \n",
    "    Arguments:\n",
    "        word (string): The word that needs to be modified\n",
    "        \n",
    "    Returns:\n",
    "        string: Contains the modified word\n",
    "    \"\"\"\n",
    "    \n",
    "    if len(word) < 3:\n",
    "        return word\n",
    "    else:\n",
    "        if word[-3:] == 'ing':\n",
    "            return word + 'ly'\n",
    "        else:\n",
    "            return word + 'ing'\n",
    "\n",
    "change_word('balling')"
   ]
  },
  {
   "cell_type": "markdown",
   "metadata": {},
   "source": [
    "## Q4. Write the Python program to find the first appearance of the substring 'not' and 'poor' from the given string, if 'not' follows the 'poor', replace the whole 'not'...' poor' substring with 'good'.Return the resulting string.\n",
    "\n",
    "Sample string: 'The lyrics are not that poor!'\n",
    "\n",
    "'The lyrics are poor!'\n",
    "\n",
    "Expected Result: 'The lyrics are good!'\n",
    "\n",
    "'The lyrics are poor!'"
   ]
  },
  {
   "cell_type": "code",
   "execution_count": 4,
   "metadata": {},
   "outputs": [
    {
     "data": {
      "text/plain": [
       "'The lyrics are poor!'"
      ]
     },
     "execution_count": 4,
     "metadata": {},
     "output_type": "execute_result"
    }
   ],
   "source": [
    "def make_it_simple(strng):\n",
    "    \"\"\"Function for removing the substring 'not ....poor' if present in the given string\n",
    "    \n",
    "    Arguments:\n",
    "        strng (string): The string that needs to be checked.\n",
    "        \n",
    "    Returns:\n",
    "        string: Contains the manipulated string without the 'not ....poor' substring\n",
    "    \"\"\"\n",
    "    \n",
    "    not_substr = strng.find('not')\n",
    "    poor_substr = strng.find('poor')\n",
    "    if (not_substr > 0) and (not_substr < poor_substr):\n",
    "        return strng[:not_substr] + 'good' + strng[strng.find('poor')+4:]\n",
    "    else:\n",
    "        return strng\n",
    "\n",
    "make_it_simple('The lyrics are poor!')"
   ]
  },
  {
   "cell_type": "markdown",
   "metadata": {},
   "source": [
    "## Q5. Write the Python program to remove the characters which have odd index values of a given string."
   ]
  },
  {
   "cell_type": "code",
   "execution_count": 5,
   "metadata": {},
   "outputs": [
    {
     "data": {
      "text/plain": [
       "'ts'"
      ]
     },
     "execution_count": 5,
     "metadata": {},
     "output_type": "execute_result"
    }
   ],
   "source": [
    "def remove_odd_index(val):\n",
    "    \"\"\"Function for removing the odd indexed characters from the given string\n",
    "    \n",
    "    Arguments:\n",
    "        val (string): The string that needs to be manipulated\n",
    "        \n",
    "    Returns:\n",
    "        string: Contains the manipulated string\n",
    "    \"\"\"\n",
    "    return ''.join([x for i,x in enumerate(val) if i % 2 == 0])\n",
    "\n",
    "remove_odd_index('test')"
   ]
  },
  {
   "cell_type": "markdown",
   "metadata": {},
   "source": [
    "## Q6. Write the Python function to get a string made of 4 copies of the last two characters of the specified string (length must be at least 2).\n",
    "\n",
    "Sample function and result :\n",
    "\n",
    "insert-end ('Python') -> abababab\n",
    "\n",
    "insert-end('Exercises') -> jkjkjkjk"
   ]
  },
  {
   "cell_type": "code",
   "execution_count": 6,
   "metadata": {},
   "outputs": [
    {
     "data": {
      "text/plain": [
       "'eseseses'"
      ]
     },
     "execution_count": 6,
     "metadata": {},
     "output_type": "execute_result"
    }
   ],
   "source": [
    "def end_char_copy(val):\n",
    "    \"\"\"Function for generating a string made of 4 copies of the last 2 characters of the given string\n",
    "    Arguments:\n",
    "        val (string): The string whose last characters need to be copied\n",
    "        \n",
    "    Returns:\n",
    "        string: Contains the generated string if the given string has at least a length of 2\n",
    "    \"\"\"\n",
    "    if len(val)>1:\n",
    "        return val[-2:]*4\n",
    "    else:\n",
    "        return 'String too short'\n",
    "\n",
    "end_char_copy('Exercises')"
   ]
  },
  {
   "cell_type": "markdown",
   "metadata": {},
   "source": [
    "## Q7. Write the python function to get a string made of its first three characters of a specified string. If the length of the string is less than 3 then return the original string.\n",
    "\n",
    "Sample function and result :\n",
    "\n",
    "first-three('ipy') -> ipy\n",
    "\n",
    "first-three('python') -> pyt\n"
   ]
  },
  {
   "cell_type": "code",
   "execution_count": 7,
   "metadata": {},
   "outputs": [
    {
     "data": {
      "text/plain": [
       "'dp'"
      ]
     },
     "execution_count": 7,
     "metadata": {},
     "output_type": "execute_result"
    }
   ],
   "source": [
    "def first_three(val):\n",
    "    \"\"\"Function for generating a string of first 3 characters of any given string\n",
    "    Arguments:\n",
    "        val (string): Given string\n",
    "        \n",
    "    Returns:\n",
    "        string: Contains the generated string\n",
    "    \"\"\"\n",
    "    return val[0:3]\n",
    "\n",
    "first_three('dp')"
   ]
  },
  {
   "cell_type": "markdown",
   "metadata": {},
   "source": [
    "## Q8. Write the python program to print the following floating numbers upto 2 decimal places?"
   ]
  },
  {
   "cell_type": "code",
   "execution_count": 8,
   "metadata": {},
   "outputs": [
    {
     "data": {
      "text/plain": [
       "12.56"
      ]
     },
     "execution_count": 8,
     "metadata": {},
     "output_type": "execute_result"
    }
   ],
   "source": [
    "def upto_two(val):\n",
    "    \"\"\"Function for printing the floating numbers upto 2 decimal places of any given string\n",
    "    Arguments:\n",
    "        val (float): The floating point number \n",
    "        \n",
    "    Returns:\n",
    "        string: Contains the floating number upto 2 decimal place\n",
    "    \"\"\"\n",
    "    lst = str(val).split('.')\n",
    "    return float(lst[0]+'.'+lst[1][:2])\n",
    "\n",
    "upto_two(12.5684556)"
   ]
  },
  {
   "cell_type": "markdown",
   "metadata": {},
   "source": [
    "## Q9. Write the Python program to format a number with a percentage?"
   ]
  },
  {
   "cell_type": "code",
   "execution_count": 11,
   "metadata": {},
   "outputs": [
    {
     "data": {
      "text/plain": [
       "'58%'"
      ]
     },
     "execution_count": 11,
     "metadata": {},
     "output_type": "execute_result"
    }
   ],
   "source": [
    "def to_percentage(val):\n",
    "    \"\"\"Function to format the given number into a percentage\n",
    "    \n",
    "    Arguments:\n",
    "        val (int/float): The given number\n",
    "        \n",
    "    Returns:\n",
    "        string: Contains the number with percentage(%)\n",
    "    \"\"\"\n",
    "    return str(round(val*100)) + '%'\n",
    "\n",
    "to_percentage(0.58)\n"
   ]
  },
  {
   "cell_type": "markdown",
   "metadata": {},
   "source": [
    "## Q10. Write the Python program to count occurrences of a substring in a String?"
   ]
  },
  {
   "cell_type": "code",
   "execution_count": 10,
   "metadata": {},
   "outputs": [
    {
     "data": {
      "text/plain": [
       "3"
      ]
     },
     "execution_count": 10,
     "metadata": {},
     "output_type": "execute_result"
    }
   ],
   "source": [
    "def count_substr(strng, substr):\n",
    "    \"\"\"Function for counting the occurrences of a substring in agiven string\n",
    "    \n",
    "    Arguments:\n",
    "        strng (string): The string that needs to be checked\n",
    "        substr (string): substring\n",
    "        \n",
    "    Returns:\n",
    "        int: Contains the count of occurrences\n",
    "    \"\"\"\n",
    "    cnt = 0\n",
    "    while len(strng) > 0:\n",
    "        if substr in strng:\n",
    "            cnt += 1\n",
    "            strng = strng[strng.find(substr) + len(substr):]\n",
    "        else:\n",
    "            strng = ''\n",
    "    return cnt\n",
    "            \n",
    "count_substr('Ed, Edd n Eddy', 'Ed')"
   ]
  },
  {
   "cell_type": "markdown",
   "metadata": {},
   "source": [
    "## Q11. Write the Python program to count repeated characters in a string.\n",
    "Sample string: 'thequickbrownjumpsoverthelazydog'\n",
    "\n",
    "Expected output:\n",
    "\n",
    "o 3\n",
    "\n",
    "e 3\n",
    "\n",
    "u 2\n",
    "\n",
    "h 2\n",
    "\n",
    "r 2\n",
    "\n",
    "t 2"
   ]
  },
  {
   "cell_type": "code",
   "execution_count": 53,
   "metadata": {},
   "outputs": [
    {
     "name": "stdout",
     "output_type": "stream",
     "text": [
      "o 3\n",
      "e 3\n",
      "u 2\n",
      "t 2\n",
      "r 2\n",
      "h 2\n"
     ]
    }
   ],
   "source": [
    "import operator\n",
    "val = 'thequickbrownjumpsoverthelazydog'\n",
    "\n",
    "lst = []\n",
    "for char in val:\n",
    "    if (val.count(char), char) not in lst:\n",
    "        if val.count(char)>1:\n",
    "            lst.append((val.count(char), char))\n",
    "\n",
    "lst.sort(key=lambda x: (x[0],x[1]), reverse=True)\n",
    "\n",
    "for i,j in lst:\n",
    "    print(j,i)"
   ]
  },
  {
   "cell_type": "markdown",
   "metadata": {},
   "source": []
  },
  {
   "cell_type": "code",
   "execution_count": 1,
   "metadata": {},
   "outputs": [
    {
     "name": "stdout",
     "output_type": "stream",
     "text": [
      "3₂\n"
     ]
    }
   ],
   "source": [
    "print(f'3\\N{SUBSCRIPT TWO}')"
   ]
  },
  {
   "cell_type": "markdown",
   "metadata": {},
   "source": [
    "## Q12. Write the Python program to print the square and cube symbol in the area of a rectangle and volume of a cylinder?\n",
    "\n",
    "Sample output\n",
    "\n",
    "The area of the rectangle is 1256.66cm2\n",
    "\n",
    "The volume of the cylinder is 1254.725cm3"
   ]
  },
  {
   "cell_type": "code",
   "execution_count": 2,
   "metadata": {},
   "outputs": [
    {
     "name": "stdout",
     "output_type": "stream",
     "text": [
      "The area of the rectangle is 1256.66cm²\n",
      "The volume of the cylinder is 1254.725cm³\n"
     ]
    }
   ],
   "source": [
    "print(f'The area of the rectangle is 1256.66cm\\u00b2')\n",
    "print(f'The volume of the cylinder is 1254.725cm\\u00b3')"
   ]
  },
  {
   "cell_type": "markdown",
   "metadata": {},
   "source": [
    "## Q13. Write the Python program to check if a string contains all letters of the alphabet?"
   ]
  },
  {
   "cell_type": "code",
   "execution_count": 33,
   "metadata": {},
   "outputs": [
    {
     "data": {
      "text/plain": [
       "True"
      ]
     },
     "execution_count": 33,
     "metadata": {},
     "output_type": "execute_result"
    }
   ],
   "source": [
    "def a_to_z(val):\n",
    "    is_a_to_z = False\n",
    "    for char in list(map(chr,range(ord('a'), ord('z')+1))):\n",
    "        if char in val.lower():\n",
    "            is_a_to_z = True\n",
    "        else:\n",
    "            is_a_to_z = False\n",
    "            return is_a_to_z\n",
    "    return is_a_to_z\n",
    "\n",
    "a_to_z('The quick brown fox jumps over the lazy dog')"
   ]
  },
  {
   "cell_type": "markdown",
   "metadata": {},
   "source": [
    "## Q14. Write the Python program to find the second most repeated word in a given string?"
   ]
  },
  {
   "cell_type": "code",
   "execution_count": 56,
   "metadata": {},
   "outputs": [
    {
     "data": {
      "text/plain": [
       "'the'"
      ]
     },
     "execution_count": 56,
     "metadata": {},
     "output_type": "execute_result"
    }
   ],
   "source": [
    "def sec_most_rep(val):\n",
    "    word_list = val.lower().split(' ')\n",
    "    lst = []\n",
    "    for word in word_list:\n",
    "        if (word, word_list.count(word)) not in lst:\n",
    "            lst.append((word, word_list.count(word)))\n",
    "            \n",
    "    return sorted(lst, key=lambda x: x[1] , reverse=True)[1][0]\n",
    "\n",
    "sec_most_rep('The quick quick quick brown fox jumps over the lazy dog')"
   ]
  },
  {
   "cell_type": "markdown",
   "metadata": {},
   "source": [
    "## Q15. Write the Python program to find the minimum window in the given string, which will contains all the characters of another given strings?\n",
    "\n",
    "Example 1 \n",
    "\n",
    "Input : string1 = \"PRWSOERIUSFK\" string2 = \"OSU\" \n",
    "\n",
    "Output: Minimum window is \"OERIUS\""
   ]
  },
  {
   "cell_type": "code",
   "execution_count": 55,
   "metadata": {},
   "outputs": [
    {
     "data": {
      "text/plain": [
       "'SOERIU'"
      ]
     },
     "execution_count": 55,
     "metadata": {},
     "output_type": "execute_result"
    }
   ],
   "source": [
    "def min_window(strng1, strng2):\n",
    "    \"\"\"Function for finding the minimum window in the given string, which contains all characters of another string\n",
    "    \n",
    "    Arguments:\n",
    "        strng1 (string): Given String in which the minimum window needs to be found.\n",
    "        strng2 (string): Another string\n",
    "        \n",
    "    Returns:\n",
    "        string: Contains the minimum window or descriptive text if not found\n",
    "    \"\"\" \n",
    "    \n",
    "    win_size = len(strng2)                               # Setting the length of string2 as the inital window size. \n",
    "    while win_size <= len(strng1):\n",
    "        for i in range(0,len(strng1)-win_size+1):        # Scaning the string1 based on the set window size.\n",
    "            if set(strng2) <= set(strng1[i:i+win_size]): # Checking if the window contains all characters of string2, \n",
    "                                                         # using the subset relationship.\n",
    "                return strng1[i:i+win_size]           # Selecting the window if true.\n",
    "        win_size += 1                                    # Incrementing the size of the window by 1.\n",
    "    return 'Couldn\\'t find minimum window'\n",
    "min_window('PRWSOERIUSFK', 'OSU')"
   ]
  },
  {
   "cell_type": "markdown",
   "metadata": {},
   "source": [
    "## Q16. Write the Python program to find smallest window that contains all characters of the given string?\n",
    "\n",
    "Original\n",
    "\n",
    "Strings: asdaewsqgtwwsa \n",
    "\n",
    "Smallest window that contains all characters of the said string: Daewsqgt"
   ]
  },
  {
   "cell_type": "code",
   "execution_count": 56,
   "metadata": {},
   "outputs": [
    {
     "data": {
      "text/plain": [
       "'daewsqgt'"
      ]
     },
     "execution_count": 56,
     "metadata": {},
     "output_type": "execute_result"
    }
   ],
   "source": [
    "def smallest_window(val):\n",
    "    \"\"\"Function for finding the smallest window in the given string, which contains all characters of the string\n",
    "    \n",
    "    Arguments:\n",
    "        val (string): Given String in which the smallest window needs to be found.\n",
    "        \n",
    "    Returns:\n",
    "        string: Contains the smallest window \n",
    "    \"\"\" \n",
    "    \n",
    "    win_size = len(set(val))\n",
    "    while win_size <= len(val):\n",
    "        for i in range(0, len(val) - win_size + 1):\n",
    "            if set(val) <= set(val[i:i + win_size]):\n",
    "                return val[i:i + win_size]\n",
    "        win_size += 1\n",
    "\n",
    "smallest_window('asdaewsqgtwwsa')"
   ]
  },
  {
   "cell_type": "markdown",
   "metadata": {},
   "source": [
    "## Q17. Write the Python program to count number of substrings from a given string of lowercase alphabets with exactly k distinct (given) characters?\n",
    "\n",
    "Input a string (lowercase alphabets): wolf \n",
    "\n",
    "Input k: 4 \n",
    "\n",
    "Number of substrings with exactly 4 distinct characters: 1"
   ]
  },
  {
   "cell_type": "code",
   "execution_count": 10,
   "metadata": {},
   "outputs": [
    {
     "name": "stdout",
     "output_type": "stream",
     "text": [
      "Input a string (lowercase alphabets): wolf\n",
      "Input k (no. of distinct characters): 4\n"
     ]
    },
    {
     "data": {
      "text/plain": [
       "1"
      ]
     },
     "execution_count": 10,
     "metadata": {},
     "output_type": "execute_result"
    }
   ],
   "source": [
    "def count_disticnt(val, k):\n",
    "    \"\"\"Function for counting substrings with k distinct characters\n",
    "\n",
    "    Arguments:\n",
    "        val (string): Given string in lowercase\n",
    "        k (int): Number of distinct characters\n",
    "        \n",
    "    Returns:\n",
    "        int: contains the no. of substrings with exactly k distinct characters\n",
    "    \"\"\"\n",
    "    \n",
    "    substr_size = int(k)\n",
    "    substr_list = []\n",
    "    while substr_size <= len(val):\n",
    "        for i in range(0, len(val) - substr_size + 1):\n",
    "            if val[i:i + substr_size] not in substr_list:\n",
    "                if len(set(val[i:i + substr_size])) == int(k):\n",
    "                    substr_list.append(val[i:i + substr_size])\n",
    "        substr_size += 1\n",
    "#     print(substr_list)\n",
    "    return len(substr_list)\n",
    "\n",
    "\n",
    "count_disticnt(input('Input a string (lowercase alphabets): '), input('Input k (no. of distinct characters): '))"
   ]
  },
  {
   "cell_type": "markdown",
   "metadata": {},
   "source": [
    "## Q18. Write the Python program to count number of non-empty substrings of the given string? \n",
    "\n",
    "Input a string: w3resource \n",
    "\n",
    "Number of substrings: 55"
   ]
  },
  {
   "cell_type": "code",
   "execution_count": 18,
   "metadata": {},
   "outputs": [
    {
     "name": "stdout",
     "output_type": "stream",
     "text": [
      "Input a string: w3resource\n",
      "Number of substrings: 55\n"
     ]
    }
   ],
   "source": [
    "def count_non_empty_substr(val):\n",
    "    \"\"\"Function for counting number of non-empty substrings of the given string\n",
    "    \n",
    "    Arguments:\n",
    "        val (string): given string\n",
    "        \n",
    "    Returns:\n",
    "        int: Count of non-empty substrings\n",
    "    \"\"\"\n",
    "    return f'Number of substrings: {round(len(val)*(len(val)+1)/2)}'\n",
    "\n",
    "print(count_non_empty_substr(input('Input a string: ')))"
   ]
  },
  {
   "cell_type": "markdown",
   "metadata": {},
   "source": [
    "## Q19. Write the Python program to count number of substrings with same first and last characters of the given string?\n",
    "\n",
    "Input a string: abcd \n",
    "\n",
    "4"
   ]
  },
  {
   "cell_type": "code",
   "execution_count": 40,
   "metadata": {},
   "outputs": [
    {
     "data": {
      "text/plain": [
       "7"
      ]
     },
     "execution_count": 40,
     "metadata": {},
     "output_type": "execute_result"
    }
   ],
   "source": [
    "def count_substr(val):\n",
    "    \"\"\"Function for counting number of substrings with same first and last characters\n",
    "    \n",
    "    Arguments:\n",
    "        val (string): given string\n",
    "        \n",
    "    Returns:\n",
    "        int: Count of substrings\n",
    "    \"\"\"\n",
    "    \n",
    "    substr_list = []\n",
    "    win = 1\n",
    "    while win <= len(val):\n",
    "        for i in range(0, len(val) - win + 1):\n",
    "            if val[i:i + win][0] == val[i:i + win][-1]:\n",
    "                substr_list.append(val[i:i + win])\n",
    "        win += 1\n",
    "    return len(substr_list)\n",
    "\n",
    "count_substr('abcab')"
   ]
  },
  {
   "cell_type": "markdown",
   "metadata": {},
   "source": [
    "## Q20. Write the Python program to count the number of strings where the string length is 2 or more, and first and last character are same from a given list of strings.\n",
    "\n",
    "Sample List : ['abc', 'xyz', 'wxw', '1331'] \n",
    "\n",
    "Expected Result: 2"
   ]
  },
  {
   "cell_type": "code",
   "execution_count": 46,
   "metadata": {},
   "outputs": [
    {
     "data": {
      "text/plain": [
       "2"
      ]
     },
     "execution_count": 46,
     "metadata": {},
     "output_type": "execute_result"
    }
   ],
   "source": [
    "def analyse_list(lst):\n",
    "    \"\"\"Function for counting number of strings with same first and last characters in the given list\n",
    "    \n",
    "    Arguments:\n",
    "        val (string): given list of strings\n",
    "        \n",
    "    Returns:\n",
    "        int: Count of strings with same first and last characters and length greater than or equal to 2\n",
    "    \"\"\"\n",
    "    \n",
    "    count = 0\n",
    "    for i in range(0,len(lst)):\n",
    "        if (len(lst[i]) >= 2) and (lst[i][0] == lst[i][-1]):\n",
    "            count += 1\n",
    "    return count\n",
    "\n",
    "analyse_list(['abc', 'xyz', 'wxw', '1331'])"
   ]
  },
  {
   "cell_type": "markdown",
   "metadata": {},
   "source": [
    "## Q21. Write the Python program to get a list, sorted in increasing order by the last element in each tuple from the given list of non-empty tuples?\n",
    "\n",
    "Sample List - [ (2, 5), (1, 2), (4, 4), (2, 3), (2, 1) ] \n",
    "\n",
    "Expected Result - [ (2, 1), (1, 2), (2, 3), (4, 4), (2, 5) ]"
   ]
  },
  {
   "cell_type": "code",
   "execution_count": 51,
   "metadata": {},
   "outputs": [
    {
     "data": {
      "text/plain": [
       "[(2, 1), (1, 2), (2, 3), (4, 4), (2, 5)]"
      ]
     },
     "execution_count": 51,
     "metadata": {},
     "output_type": "execute_result"
    }
   ],
   "source": [
    "def sort_by_sec_ele(lst):\n",
    "    \"\"\"Function for sorting the list of tuples in increasing order by the last element of each tuple\n",
    "    \n",
    "    Arguments:\n",
    "        lst (list): given list of tuples\n",
    "        \n",
    "    Returns:\n",
    "        list: sorted list\n",
    "    \"\"\"\n",
    "    return sorted(lst, key= lambda x: x[-1])\n",
    "\n",
    "sort_by_sec_ele([ (2, 5), (1, 2), (4, 4), (2, 3), (2, 1) ])"
   ]
  },
  {
   "cell_type": "markdown",
   "metadata": {},
   "source": [
    "## Q22. Write the Python program to remove duplicates from a list?"
   ]
  },
  {
   "cell_type": "code",
   "execution_count": 57,
   "metadata": {},
   "outputs": [
    {
     "data": {
      "text/plain": [
       "[1, 3, 5, 6, 7, 9, 'a', 'b']"
      ]
     },
     "execution_count": 57,
     "metadata": {},
     "output_type": "execute_result"
    }
   ],
   "source": [
    "def rem_duplicates(lst):\n",
    "    \"\"\"Function for removing duplicates from a list\n",
    "    \n",
    "    Arguments:\n",
    "        lst (list): given list\n",
    "        \n",
    "    Returns:\n",
    "        list: list with unique elements\n",
    "    \"\"\"\n",
    "    \n",
    "    return list(set(lst))\n",
    "\n",
    "rem_duplicates([1,1,5,6,7,9,6,5,3,'a','b','a'])"
   ]
  },
  {
   "cell_type": "markdown",
   "metadata": {},
   "source": [
    "## Q23. Write the Python program to find the list of words that are longer than n from a given list of words?"
   ]
  },
  {
   "cell_type": "code",
   "execution_count": 63,
   "metadata": {},
   "outputs": [
    {
     "data": {
      "text/plain": [
       "['lorem', 'ipsum']"
      ]
     },
     "execution_count": 63,
     "metadata": {},
     "output_type": "execute_result"
    }
   ],
   "source": [
    "def filter_by_length(lst, n):\n",
    "    \"\"\"Function for finding list of words longer than a given number\n",
    "    \n",
    "    Arguments:\n",
    "        lst (list): given list\n",
    "        n (int): given number\n",
    "        \n",
    "    Returns:\n",
    "        list: list of words longer than the given number\n",
    "    \"\"\"\n",
    "    \n",
    "    return [i for i in lst if len(i) > n]\n",
    "\n",
    "filter_by_length(['test', 'lorem', 'ipsum', 'sit', 'amet', 'ab', 'c'], 4)"
   ]
  },
  {
   "cell_type": "markdown",
   "metadata": {},
   "source": [
    "## Q24. Write the Python program to print a specified list after removing the 0th, 4th, and 5th elements?\n",
    "\n",
    "Sample List - ['Red', 'Green', 'White', 'Black', 'Pink', 'Yellow'] \n",
    "\n",
    "Expected Output - ['Green', 'White', 'Black']"
   ]
  },
  {
   "cell_type": "code",
   "execution_count": 69,
   "metadata": {},
   "outputs": [
    {
     "name": "stdout",
     "output_type": "stream",
     "text": [
      "['Green', 'White', 'Black']\n"
     ]
    }
   ],
   "source": [
    "def rem_specific(lst):\n",
    "    \"\"\"Function for creating list after removing the 0th, 4th, and 5th elements from the given list\n",
    "    \n",
    "    Arguments:\n",
    "        lst (list): given list\n",
    "        \n",
    "    Returns:\n",
    "        list: list with removed elements\n",
    "    \"\"\"\n",
    "    return [x for i,x in enumerate(lst) if i not in [0,4,5]]\n",
    "\n",
    "print(rem_specific(['Red', 'Green', 'White', 'Black', 'Pink', 'Yellow']))"
   ]
  },
  {
   "cell_type": "markdown",
   "metadata": {},
   "source": [
    "## Q25. Write the Python program to generate all permutations of a list in Python?"
   ]
  },
  {
   "cell_type": "code",
   "execution_count": 3,
   "metadata": {},
   "outputs": [
    {
     "data": {
      "text/plain": [
       "[(1, 2, 3), (1, 3, 2), (2, 1, 3), (2, 3, 1), (3, 1, 2), (3, 2, 1)]"
      ]
     },
     "execution_count": 3,
     "metadata": {},
     "output_type": "execute_result"
    }
   ],
   "source": [
    "from itertools import permutations\n",
    "\n",
    "def all_permutaions(lst):\n",
    "        \n",
    "    return list(permutations(lst))\n",
    "\n",
    "all_permutaions([1,2,3])"
   ]
  },
  {
   "cell_type": "markdown",
   "metadata": {},
   "source": [
    "## Q26. Write the Python program to convert a pair of values into a sorted unique array?\n",
    "\n",
    "Original List- [ (1, 2), (3, 4), (1, 2), (5, 6), (7, 8), (1, 2), (3, 4), (3, 4), (7, 8), (9, 10) ] \n",
    "\n",
    "Sorted Unique Data- [ 1, 2, 3, 4, 5, 6, 7, 8, 9, 10 ]"
   ]
  },
  {
   "cell_type": "code",
   "execution_count": 39,
   "metadata": {},
   "outputs": [
    {
     "data": {
      "text/plain": [
       "[1, 2, 3, 4, 5, 6, 7, 8, 9, 10]"
      ]
     },
     "execution_count": 39,
     "metadata": {},
     "output_type": "execute_result"
    }
   ],
   "source": [
    "def convert_sort(lst):\n",
    "    new_lst = []\n",
    "\n",
    "    for i in lst:\n",
    "        new_lst  += i\n",
    "    \n",
    "    return sorted(list(set(new_lst)))\n",
    "\n",
    "\n",
    "convert_sort([(1, 2), (3, 4), (1, 2), (5, 6), (7, 8), (1, 2), (3, 4), (3, 4), (7, 8), (9, 10) ])\n"
   ]
  },
  {
   "cell_type": "markdown",
   "metadata": {},
   "source": [
    "## Q27. Write the Python class to convert an integer to a roman numeral?"
   ]
  },
  {
   "cell_type": "code",
   "execution_count": 135,
   "metadata": {},
   "outputs": [
    {
     "data": {
      "text/plain": [
       "''"
      ]
     },
     "execution_count": 135,
     "metadata": {},
     "output_type": "execute_result"
    }
   ],
   "source": [
    "class Roman_numbers:\n",
    "\n",
    "    def __init__(self, int_num=0):\n",
    "        self.int_num = int_num\n",
    "        self.roman_num = {1:['I','II','III','IV','V','VI','VII','VIII','IX'],\n",
    "                        10:['X','XX','XXX','XL','L','LX','LXX','LXXX','XC'],\n",
    "                        100:['C','CC','CCC','CD','D','DC','DCC','DCCC','CM'],\n",
    "                        1000:['M','MM','MMM']}\n",
    "        \n",
    "    def to_roman(self):\n",
    "        n = len(str(self.int_num))\n",
    "        rom = ''\n",
    "        for i in range(0,n):\n",
    "            win_num = int('1' + '0'*(n-i-1))\n",
    "            num = int(str(self.int_num)[i])\n",
    "            if win_num >= 1000 and num > 3:\n",
    "                \n",
    "                if num != 0:\n",
    "                    rom += self.roman_num.get(1000)[0] * (int(win_num/1000)*num)\n",
    "            else:\n",
    "                if num != 0:\n",
    "                    rom += self.roman_num.get(win_num)[num-1]\n",
    "        return rom\n",
    "    \n",
    "    \n",
    "test = Roman_numbers()\n",
    "test.to_roman()"
   ]
  },
  {
   "cell_type": "markdown",
   "metadata": {},
   "source": [
    "## Q28 Write the Python class to convert a Roman numeral to an integer?"
   ]
  },
  {
   "cell_type": "code",
   "execution_count": 133,
   "metadata": {},
   "outputs": [
    {
     "data": {
      "text/plain": [
       "3986"
      ]
     },
     "execution_count": 133,
     "metadata": {},
     "output_type": "execute_result"
    }
   ],
   "source": [
    "class Roman_to_integers:\n",
    "\n",
    "    def __init__(self, rom):\n",
    "        self.rom = rom\n",
    "        self.roman_nums = {\"I\":1, \"V\":5, \"X\":10, \"L\":50, \"C\":100, \"D\":500, \"M\":1000}\n",
    "        \n",
    "    def to_integer(self):\n",
    "\n",
    "        if not self.rom:\n",
    "            return 0\n",
    "        n = len(self.rom)\n",
    "        total = self.roman_nums[self.rom[n-1]]\n",
    "        for i in range(n-1,0,-1):\n",
    "            current = self.roman_nums[self.rom[i]]\n",
    "            prev = self.roman_nums[self.rom[i-1]]\n",
    "            total += prev if prev >= current else -prev\n",
    "        return total\n",
    "        \n",
    "        \n",
    "    \n",
    "    \n",
    "test = Roman_to_integers('MMMCMLXXXVI')\n",
    "test.to_integer()"
   ]
  },
  {
   "cell_type": "markdown",
   "metadata": {},
   "source": [
    "## Q29. Write the Python class to find the validity of the string of the parentheses, '(', ')', '{', '}', '[' and '] and the brackets must be closed in the correct order, example - \"()\" and \"()[]{}\" are valid but \"[)\", \"({[)]\" and \"{{{\" are invalid."
   ]
  },
  {
   "cell_type": "code",
   "execution_count": 147,
   "metadata": {},
   "outputs": [
    {
     "data": {
      "text/plain": [
       "False"
      ]
     },
     "execution_count": 147,
     "metadata": {},
     "output_type": "execute_result"
    }
   ],
   "source": [
    "class Parentheses:\n",
    "    \n",
    "    def __init__(self, s):\n",
    "        self.s = s\n",
    "        self.is_valid = False\n",
    "        \n",
    "    def is_match(self,s1,s2):\n",
    "        if s1 == '(' and s2 == ')':\n",
    "            return True\n",
    "        elif s1 == '{' and s2 == '}':\n",
    "            return True\n",
    "        elif s1 == '[' and s2 == ']':\n",
    "            return True\n",
    "        else:\n",
    "            return False\n",
    "        \n",
    "    def check_validity(self):\n",
    "        if len(self.s) % 2 != 0:\n",
    "            return self.is_valid\n",
    "        \n",
    "        temp = []\n",
    "        for i in self.s:\n",
    "            if i in '({[':\n",
    "                temp.append(i)\n",
    "            else:\n",
    "                if len(temp) == 0:\n",
    "                    self.is_valid = False\n",
    "                else:\n",
    "                    if self.is_match(temp.pop(), i):\n",
    "                        self.is_valid = True\n",
    "        return self.is_valid\n",
    "    \n",
    "test_par = Parentheses('{{')\n",
    "test_par.check_validity()"
   ]
  },
  {
   "cell_type": "markdown",
   "metadata": {},
   "source": [
    "## Q30. Write the Python class to get all possible unique subsets from a set of distinct integers?\n",
    "\n",
    "Input - [4, 5, 6] \n",
    "\n",
    "Output - [[], [6], [5], [5, 6], [4], [4, 6], [4, 5], [4, 5, 6]]"
   ]
  },
  {
   "cell_type": "code",
   "execution_count": 2,
   "metadata": {},
   "outputs": [
    {
     "data": {
      "text/plain": [
       "[[], [4], [5], [6], [4, 5], [4, 6], [5, 6], [4, 5, 6]]"
      ]
     },
     "execution_count": 2,
     "metadata": {},
     "output_type": "execute_result"
    }
   ],
   "source": [
    "from itertools import combinations\n",
    "\n",
    "def unique_subset(lst):\n",
    "    subset = []\n",
    "    for i in range(len(lst)+1):\n",
    "        subset += (list(combinations(lst,i)))\n",
    "    return [list(x) for x in subset]\n",
    "\n",
    "unique_subset([4, 5, 6])"
   ]
  },
  {
   "cell_type": "markdown",
   "metadata": {},
   "source": [
    "## Q31. Write the Python class to find a pair of elements (indices of the two numbers) from a given array whose sum equals the specific target number?\n",
    "\n",
    "Input: numbers- [10,20,10,40,50,60,70], target=50 \n",
    "\n",
    "Output- 3, 4"
   ]
  },
  {
   "cell_type": "code",
   "execution_count": 13,
   "metadata": {},
   "outputs": [
    {
     "data": {
      "text/plain": [
       "[1, 6]"
      ]
     },
     "execution_count": 13,
     "metadata": {},
     "output_type": "execute_result"
    }
   ],
   "source": [
    "class EqualsSum:\n",
    "    def __init__(self, numbers, target):\n",
    "        self.numbers = numbers\n",
    "        self.target = target\n",
    "        \n",
    "    def get_equal_sum_numbers(self):\n",
    "        temp = []\n",
    "        for i,x in enumerate(self.numbers):\n",
    "            num1 = x\n",
    "            num2 = self.target - num1\n",
    "            if num2 in self.numbers:\n",
    "                temp = [i, self.numbers.index(num2)]\n",
    "                return temp\n",
    "            else:\n",
    "                continue\n",
    "        return temp\n",
    "    \n",
    "test_nums = EqualsSum([10,20,10,40,50,60,70], 90)\n",
    "test_nums.get_equal_sum_numbers()"
   ]
  },
  {
   "cell_type": "markdown",
   "metadata": {},
   "source": [
    "## Q32. Write the Python class to find the three elements that sum to zero from the set of n real numbers?\n",
    "\n",
    "Input array- [-25, -10, -7, -3, 2, 4, 8, 10] \n",
    "\n",
    "Output - [[-10, 2, 8], [-7, -3, 10]]"
   ]
  },
  {
   "cell_type": "code",
   "execution_count": 11,
   "metadata": {},
   "outputs": [
    {
     "data": {
      "text/plain": [
       "[[-10, 2, 8], [-7, -3, 10]]"
      ]
     },
     "execution_count": 11,
     "metadata": {},
     "output_type": "execute_result"
    }
   ],
   "source": [
    "class ZeroSum:\n",
    "    def __init__(self, numbers):\n",
    "        self.numbers = numbers\n",
    "        \n",
    "    def get_3_zero_sum_nums(self):\n",
    "        temp = []\n",
    "        n = len(self.numbers)\n",
    "        for i in range(0, n-2): \n",
    "\n",
    "            for j in range(i+1, n-1): \n",
    "\n",
    "                for k in range(j+1, n): \n",
    "                    if (self.numbers[i] + self.numbers[j] + self.numbers[k] == 0): \n",
    "                        temp.append([self.numbers[i], self.numbers[j], self.numbers[k]])\n",
    "        return temp\n",
    "    \n",
    "    \n",
    "new_nos = ZeroSum([-25, -10, -7, -3, 2, 4, 8, 10])\n",
    "new_nos.get_3_zero_sum_nums()\n"
   ]
  },
  {
   "cell_type": "markdown",
   "metadata": {},
   "source": [
    "## Q33. Write the Python class to implement pow(x, n)?"
   ]
  },
  {
   "cell_type": "code",
   "execution_count": 21,
   "metadata": {},
   "outputs": [
    {
     "data": {
      "text/plain": [
       "32"
      ]
     },
     "execution_count": 21,
     "metadata": {},
     "output_type": "execute_result"
    }
   ],
   "source": [
    "class Power:\n",
    "    def pow(self, x, n):\n",
    "        return x ** n\n",
    "    \n",
    "new_pow = Power()\n",
    "new_pow.pow(2,5)"
   ]
  },
  {
   "cell_type": "markdown",
   "metadata": {},
   "source": [
    "## Q34. Write the Python class which has two methods get_String and print_String. get_String accept the string from the user and print_String print the string in upper case."
   ]
  },
  {
   "cell_type": "code",
   "execution_count": 24,
   "metadata": {
    "scrolled": true
   },
   "outputs": [
    {
     "name": "stdout",
     "output_type": "stream",
     "text": [
      "Please enter a string: test\n",
      "TEST\n"
     ]
    }
   ],
   "source": [
    "class StringUpper:\n",
    "    def __init__(self):\n",
    "        self.user_input = ''\n",
    "        \n",
    "    def get_string(self):\n",
    "        self.user_input = input('Please enter a string: ')\n",
    "        \n",
    "    def print_string(self):\n",
    "        print(self.user_input.upper())\n",
    "        \n",
    "test_string = StringUpper()\n",
    "test_string.get_string()\n",
    "test_string.print_string()"
   ]
  },
  {
   "cell_type": "markdown",
   "metadata": {},
   "source": [
    "## Q35. Write the Python class named Rectangle constructed by a length and width and the method which will compute the area of the rectangle?"
   ]
  },
  {
   "cell_type": "code",
   "execution_count": 25,
   "metadata": {},
   "outputs": [
    {
     "data": {
      "text/plain": [
       "15"
      ]
     },
     "execution_count": 25,
     "metadata": {},
     "output_type": "execute_result"
    }
   ],
   "source": [
    "class Rectangle:\n",
    "    def __init__(self, length, width):\n",
    "        self.length = length\n",
    "        self.width = width\n",
    "        \n",
    "    def area(self):\n",
    "        return self.length * self.width\n",
    "    \n",
    "shape = Rectangle(3,5)\n",
    "shape.area()"
   ]
  },
  {
   "cell_type": "markdown",
   "metadata": {},
   "source": [
    "## Q36. Write the Python class named Circle constructed by the radius and two methods which will compute the area and perimeter of the circle?"
   ]
  },
  {
   "cell_type": "code",
   "execution_count": 26,
   "metadata": {},
   "outputs": [
    {
     "name": "stdout",
     "output_type": "stream",
     "text": [
      "Area of the circle:  78.53981633974483\n",
      "Perimeter of the circle:  31.41592653589793\n"
     ]
    }
   ],
   "source": [
    "from math import pi\n",
    "\n",
    "class Circle:\n",
    "    \n",
    "    def __init__(self, radius):\n",
    "        self.radius = radius\n",
    "        \n",
    "    def area(self):\n",
    "        return pi * (self.radius ** 2)\n",
    "    \n",
    "    def perimeter(self):\n",
    "        return 2 * pi * self.radius\n",
    "    \n",
    "shape = Circle(5)\n",
    "print('Area of the circle: ', shape.area())\n",
    "print('Perimeter of the circle: ', shape.perimeter())"
   ]
  },
  {
   "cell_type": "markdown",
   "metadata": {},
   "source": [
    "## Q37. Write the Python program to get the class name of an instance in Python?"
   ]
  },
  {
   "cell_type": "code",
   "execution_count": 27,
   "metadata": {},
   "outputs": [
    {
     "data": {
      "text/plain": [
       "'Circle'"
      ]
     },
     "execution_count": 27,
     "metadata": {},
     "output_type": "execute_result"
    }
   ],
   "source": [
    "def whats_my_class(ins):\n",
    "    return type(ins).__name__\n",
    "\n",
    "whats_my_class(shape)"
   ]
  },
  {
   "cell_type": "markdown",
   "metadata": {},
   "source": [
    "## Q38. Write the Python program to count the number of students of individual class?\n",
    "\n",
    "Sample data- classes = ( ('V', 1), ('VI', 1), ('V', 2), ('VI', 2), ('VI', 3), ('VII', 1), ) \n",
    "\n",
    "Expected Output- Counter({'VI': 3, 'V': 2, 'VII': 1})"
   ]
  },
  {
   "cell_type": "code",
   "execution_count": 36,
   "metadata": {},
   "outputs": [
    {
     "name": "stdout",
     "output_type": "stream",
     "text": [
      "Counter({'VI': 3, 'V': 2, 'VII': 1})\n"
     ]
    }
   ],
   "source": [
    "from collections import Counter\n",
    "\n",
    "students = ( ('V', 1), ('VI', 1), ('V', 2), ('VI', 2), ('VI', 3), ('VII', 1), )\n",
    "\n",
    "print(Counter(elem[0] for elem in students))\n"
   ]
  },
  {
   "cell_type": "markdown",
   "metadata": {},
   "source": [
    "## Q39. Write the Python program to create an instance of an OrderedDict using the given dictionary and sort dictionary during the creation and print members of the dictionary in reverse order?\n",
    "\n",
    "Expected Output- \n",
    "Angola 244. \n",
    "Andorra 376. \n",
    "Algeria 213. \n",
    "Afghanistan 93. \n",
    "Albania 355. \n",
    "\n",
    "In reverse order- \n",
    "Albania 355. \n",
    "Afghanistan 93. \n",
    "Algeria 213. \n",
    "Andorra 376. \n",
    "Angola 244."
   ]
  },
  {
   "cell_type": "code",
   "execution_count": 39,
   "metadata": {},
   "outputs": [
    {
     "name": "stdout",
     "output_type": "stream",
     "text": [
      "Angola 244\n",
      "Andorra 376\n",
      "Algeria 213\n",
      "Afghanistan 93\n",
      "Albania 355\n",
      "In reverse order-\n",
      "Albania 355\n",
      "Afghanistan 93\n",
      "Algeria 213\n",
      "Andorra 376\n",
      "Angola 244\n"
     ]
    }
   ],
   "source": [
    "from collections import OrderedDict\n",
    "\n",
    "dict = {'Angola': 244,  'Andorra': 376, 'Algeria': 213, 'Afghanistan': 93, 'Albania': 355}\n",
    "new_dict = OrderedDict(dict.items())\n",
    "for key in new_dict:\n",
    "    print (key, new_dict[key])\n",
    "\n",
    "print(\"In reverse order-\")\n",
    "for key in reversed(new_dict):\n",
    "    print (key, new_dict[key])"
   ]
  },
  {
   "cell_type": "markdown",
   "metadata": {},
   "source": [
    "## Q40. Write the Python program to compare two unordered lists (not sets)?\n",
    "\n",
    "Expected Output: False"
   ]
  },
  {
   "cell_type": "code",
   "execution_count": 45,
   "metadata": {},
   "outputs": [
    {
     "data": {
      "text/plain": [
       "True"
      ]
     },
     "execution_count": 45,
     "metadata": {},
     "output_type": "execute_result"
    }
   ],
   "source": [
    "def compare(list1, list2):\n",
    "    if list1.sort() == list2.sort():\n",
    "        return True\n",
    "    else:\n",
    "        return False\n",
    "    \n",
    "compare([1,2,3],[3,1,2])"
   ]
  },
  {
   "cell_type": "markdown",
   "metadata": {},
   "source": [
    "## Q41. Write the Python program to get an array buffer information? \n",
    "\n",
    "Expected Output- \n",
    "\n",
    "Array buffer start address in memory and number of elements.\n",
    "\n",
    "(25855056, 2)"
   ]
  },
  {
   "cell_type": "code",
   "execution_count": 49,
   "metadata": {},
   "outputs": [
    {
     "name": "stdout",
     "output_type": "stream",
     "text": [
      "Array buffer start address in memory and number of elements.\n",
      "(2944240598960, 2)\n"
     ]
    }
   ],
   "source": [
    "from array import array\n",
    "\n",
    "a = array(\"I\", (20,11))\n",
    "\n",
    "print(\"Array buffer start address in memory and number of elements.\")\n",
    "\n",
    "print(a.buffer_info())"
   ]
  },
  {
   "cell_type": "markdown",
   "metadata": {},
   "source": [
    "## Q42. Write the Python program to convert an array to an array of machine values and return the bytes representation?\n",
    "\n",
    "Expected Output- \n",
    "\n",
    "Original array- \n",
    "\n",
    "A1: array('i', [1, 2, 3, 4, 5, 6]) \n",
    "\n",
    "Array of bytes: \n",
    "\n",
    "b'010000000200000003000000040000000500000006000000'"
   ]
  },
  {
   "cell_type": "code",
   "execution_count": 63,
   "metadata": {},
   "outputs": [
    {
     "name": "stdout",
     "output_type": "stream",
     "text": [
      "Original array-\n",
      "A1: array('i', [1, 2, 3, 4, 5, 6])\n",
      "Array of bytes:\n",
      "b'010000000200000003000000040000000500000006000000'\n"
     ]
    }
   ],
   "source": [
    "from array import array\n",
    "import binascii\n",
    "\n",
    "a1 = array('i', [1, 2, 3, 4, 5, 6])\n",
    "\n",
    "print('Original array-')\n",
    "print('A1:',a1)\n",
    "\n",
    "print('Array of bytes:')\n",
    "print(binascii.hexlify(a1))"
   ]
  },
  {
   "cell_type": "markdown",
   "metadata": {},
   "source": [
    "## Q43. Write the Python program to read a string and interpreting the string as an array of machine values?\n",
    "\n",
    "Expected Output- \n",
    "\n",
    "array1- array('i', [7, 8, 9, 10]) \n",
    "\n",
    "Bytes- b'0700000008000000090000000a000000' \n",
    "\n",
    "array2- array('i', [7, 8, 9, 10])"
   ]
  },
  {
   "cell_type": "code",
   "execution_count": 65,
   "metadata": {},
   "outputs": [
    {
     "name": "stdout",
     "output_type": "stream",
     "text": [
      "array1- array('i', [7, 8, 9, 10])\n",
      "Bytes- b'0700000008000000090000000a000000'\n",
      "array2- array('i', [7, 8, 9, 10])\n"
     ]
    }
   ],
   "source": [
    "from array import array\n",
    "import binascii\n",
    "\n",
    "\n",
    "a1 = array('i', [7, 8, 9, 10])\n",
    "print('array1-', a1)\n",
    "\n",
    "a1_bytes = a1.tobytes()\n",
    "print('Bytes-', binascii.hexlify(a1_bytes))\n",
    "\n",
    "a2 = array('i')\n",
    "a2.frombytes(a1_bytes)\n",
    "print('array2-', a2)"
   ]
  },
  {
   "cell_type": "markdown",
   "metadata": {},
   "source": [
    "## Q44. Write the Python program to push three items into the heap and return the smallest item from the heap. Also, return and pop the smallest item from the heap?\n",
    "\n",
    "Expected Output- Items in the heap- \n",
    "\n",
    "('VI', 1). \n",
    "\n",
    "('VII', 3). \n",
    "\n",
    "('VIII', 2). \n",
    "\n",
    "---------------------- \n",
    "\n",
    "The smallest item in the heap: \n",
    "\n",
    "('VI', 1). \n",
    "\n",
    "---------------------- \n",
    "\n",
    "Pop the smallest item in the heap: \n",
    "\n",
    "('VII', 2). \n",
    "\n",
    "('VIII', 3)."
   ]
  },
  {
   "cell_type": "code",
   "execution_count": 4,
   "metadata": {},
   "outputs": [
    {
     "name": "stdout",
     "output_type": "stream",
     "text": [
      "Items in the heap-\n",
      "('VI', 1)\n",
      "('VII', 3)\n",
      "('VIII', 2)\n",
      "-------------------\n",
      "The smallest item in the heap:\n",
      "('VI', 1)\n",
      "-------------------\n",
      "Pop the smallest item in the heap:\n",
      "('VII', 3)\n",
      "('VIII', 2)\n"
     ]
    }
   ],
   "source": [
    "import heapq\n",
    "\n",
    "heap = []\n",
    "\n",
    "heapq.heappush(heap,('VI', 1))\n",
    "heapq.heappush(heap,('VII', 3))\n",
    "heapq.heappush(heap,('VIII', 2))\n",
    "\n",
    "print('Items in the heap-')\n",
    "\n",
    "for i in heap:\n",
    "    print(i)\n",
    "    \n",
    "print('-------------------')\n",
    "print('The smallest item in the heap:')\n",
    "print(heap[0])\n",
    "\n",
    "print('-------------------')\n",
    "print('Pop the smallest item in the heap:')\n",
    "heapq.heappop(heap)\n",
    "for i in heap:\n",
    "    print(i)"
   ]
  },
  {
   "cell_type": "markdown",
   "metadata": {},
   "source": [
    "## Q45. Write the Python program to locate the left insertion point for a specified value in sorted order? \n",
    "\n",
    "Expected Output: 4 2"
   ]
  },
  {
   "cell_type": "code",
   "execution_count": null,
   "metadata": {},
   "outputs": [],
   "source": []
  },
  {
   "cell_type": "markdown",
   "metadata": {},
   "source": [
    "## Q46. Write the Python program to create the FIFO queue? \n",
    "\n",
    "Expected Output: 0 1 2 3"
   ]
  },
  {
   "cell_type": "code",
   "execution_count": 10,
   "metadata": {},
   "outputs": [
    {
     "name": "stdout",
     "output_type": "stream",
     "text": [
      "0 1 2 3 "
     ]
    }
   ],
   "source": [
    "import queue\n",
    "\n",
    "q = queue.Queue()\n",
    "\n",
    "for i in range(4):\n",
    "    q.put(i)\n",
    "    \n",
    "for _ in range(q.qsize()):\n",
    "    print(q.get(), end = ' ')"
   ]
  },
  {
   "cell_type": "markdown",
   "metadata": {},
   "source": [
    "## Q47. Write the Python program to calculate the harmonic sum of n-1. Note: The harmonic sum is the sum of reciprocals of the positive Integers?"
   ]
  },
  {
   "cell_type": "code",
   "execution_count": 15,
   "metadata": {},
   "outputs": [
    {
     "data": {
      "text/plain": [
       "2.283333333333333"
      ]
     },
     "execution_count": 15,
     "metadata": {},
     "output_type": "execute_result"
    }
   ],
   "source": [
    "def harmonic_sum(n):\n",
    "    h_sum = 0\n",
    "    for i in range(1,n+1):\n",
    "        h_sum += 1/i\n",
    "    return h_sum\n",
    "\n",
    "harmonic_sum(5)"
   ]
  },
  {
   "cell_type": "markdown",
   "metadata": {},
   "source": [
    "## Q48. Write the NumPy program to create a 2d array with 6 on the border and 0 inside?\n",
    "\n",
    "Expected Output- \n",
    "\n",
    "Original array- \n",
    "\n",
    "[ [6 6 6 6 6] \n",
    "  [6 6 6 6 6] \n",
    "  [6 6 6 6 6] \n",
    "  [6 6 6 6 6] \n",
    "  [6 6 6 6 6] ].\n",
    "  \n",
    "6 on the border and 0 inside in the array- \n",
    "[[ 6 6 6 6 6] [ 6 0 0 0 6] [ 6 0 0 0 6] [ 6 0 0 0 6] [ 6 6 6 6 6]]."
   ]
  },
  {
   "cell_type": "code",
   "execution_count": 31,
   "metadata": {},
   "outputs": [
    {
     "data": {
      "text/plain": [
       "array([[6, 6, 6, 6, 6],\n",
       "       [6, 0, 0, 0, 6],\n",
       "       [6, 0, 0, 0, 6],\n",
       "       [6, 0, 0, 0, 6],\n",
       "       [6, 6, 6, 6, 6]])"
      ]
     },
     "execution_count": 31,
     "metadata": {},
     "output_type": "execute_result"
    }
   ],
   "source": [
    "import numpy as np\n",
    "\n",
    "arr = np.full((5,5), 6, dtype='int')\n",
    "arr[1:4,1:4] = 0\n",
    "arr"
   ]
  },
  {
   "cell_type": "markdown",
   "metadata": {},
   "source": [
    "## Q49. Write the NumPy program to create a 8x8 matrix and fill it with the checkerboard pattern?\n",
    "\n",
    "Checkerboard pattern- \n",
    "\n",
    "[[3 9 3 9 3 9 3 9] [9 3 9 3 9 3 9 3] [3 9 3 9 3 9 3 9] [9 3 9 3 9 3 9 3] [3 9 3 9 3 9 3 9] [9 3 9 3 9 3 9 3] [3 9 3 9 3 9 3 9] [9 3 9 3 9 3 9 3]]."
   ]
  },
  {
   "cell_type": "code",
   "execution_count": 32,
   "metadata": {},
   "outputs": [
    {
     "data": {
      "text/plain": [
       "array([[3, 9, 3, 9, 3, 9, 3, 9],\n",
       "       [3, 9, 3, 9, 3, 9, 3, 9],\n",
       "       [3, 9, 3, 9, 3, 9, 3, 9],\n",
       "       [3, 9, 3, 9, 3, 9, 3, 9],\n",
       "       [3, 9, 3, 9, 3, 9, 3, 9],\n",
       "       [3, 9, 3, 9, 3, 9, 3, 9],\n",
       "       [3, 9, 3, 9, 3, 9, 3, 9],\n",
       "       [3, 9, 3, 9, 3, 9, 3, 9]])"
      ]
     },
     "execution_count": 32,
     "metadata": {},
     "output_type": "execute_result"
    }
   ],
   "source": [
    "import numpy as np\n",
    "\n",
    "arr = np.ones((8,8), dtype='int')\n",
    "arr[:,[0,2,4,6]] = 3\n",
    "arr[:,[1,3,5,7]] = 9\n",
    "arr"
   ]
  },
  {
   "cell_type": "markdown",
   "metadata": {},
   "source": [
    "## Q50. Write the NumPy program to create an empty and a full array."
   ]
  },
  {
   "cell_type": "code",
   "execution_count": 38,
   "metadata": {},
   "outputs": [
    {
     "name": "stdout",
     "output_type": "stream",
     "text": [
      "[[0. 0. 0. 0.]\n",
      " [0. 0. 0. 0.]\n",
      " [0. 0. 0. 0.]]\n",
      "[[6 6 6]\n",
      " [6 6 6]\n",
      " [6 6 6]]\n"
     ]
    }
   ],
   "source": [
    "import numpy as np\n",
    "\n",
    "emp = np.empty((3,4))\n",
    "print(emp)\n",
    "\n",
    "six = np.full((3,3), 6, dtype='int')\n",
    "print(six)"
   ]
  },
  {
   "cell_type": "markdown",
   "metadata": {},
   "source": [
    "## Q51. Write the NumPy program to convert the values of Centigrade degrees into the Fahrenheit degrees and the centigrade values are stored in the NumPy array.\n",
    "\n",
    "Sample Array -\n",
    "\n",
    "[0, 12, 45.21 ,34, 99.91] \n",
    "\n",
    "Expected Output- \n",
    "\n",
    "Values in Fahrenheit degrees- \n",
    "\n",
    "[ 0. 12. 45.21 34. 99.91] \n",
    "\n",
    "Values in Centigrade degrees- \n",
    "\n",
    "[-17.77777778 -11.11111111 7.33888889 1.11111111 37.72777778]"
   ]
  },
  {
   "cell_type": "code",
   "execution_count": 41,
   "metadata": {},
   "outputs": [
    {
     "name": "stdout",
     "output_type": "stream",
     "text": [
      "Values in Fahrenheit degrees-\n",
      " [ 0.   12.   45.21 34.   99.91]\n",
      "Values in Centigrade degrees-\n",
      " [-17.77777778 -11.11111111   7.33888889   1.11111111  37.72777778]\n"
     ]
    }
   ],
   "source": [
    "import numpy as np\n",
    "\n",
    "fah = np.array([0, 12, 45.21 ,34, 99.91])\n",
    "print('Values in Fahrenheit degrees-\\n', fah)\n",
    "\n",
    "cen = np.apply_along_axis(lambda x: ((x-32)*5/9), 0, fah)\n",
    "\n",
    "print('Values in Centigrade degrees-\\n',cen)"
   ]
  },
  {
   "cell_type": "markdown",
   "metadata": {},
   "source": [
    "## Q52. Write the NumPy program to find the real and imaginary parts of an array of complex numbers?\n",
    "\n",
    "Expected Output- \n",
    "\n",
    "Original array [ 1.00000000+0.j, 0.70710678+0.70710678j] \n",
    "\n",
    "Real part of the array- [ 1. 0.70710678] \n",
    "\n",
    "Imaginary part of the array- [ 0. 0.70710678]"
   ]
  },
  {
   "cell_type": "code",
   "execution_count": 46,
   "metadata": {
    "scrolled": true
   },
   "outputs": [
    {
     "name": "stdout",
     "output_type": "stream",
     "text": [
      "Original array- \n",
      " [1.        +0.j         0.70710678+0.70710678j]\n",
      "Real part of the array- \n",
      " [1.         0.70710678]\n",
      "Imaginary part of the array- \n",
      " [0.         0.70710678]\n"
     ]
    }
   ],
   "source": [
    "import numpy as np\n",
    "\n",
    "cmp_no = np.array([1.00000000+0.j, 0.70710678+0.70710678j])\n",
    "print('Original array- \\n', cmp_no)\n",
    "\n",
    "print('Real part of the array- \\n', cmp_no.real)\n",
    "\n",
    "print('Imaginary part of the array- \\n', cmp_no.imag)"
   ]
  },
  {
   "cell_type": "markdown",
   "metadata": {},
   "source": [
    "## Q53. Write the NumPy program to test whether each element of a 1-D array is also present in the second array?\n",
    "\n",
    "Expected Output- \n",
    "\n",
    "Array1: [ 0 10 20 40 60] \n",
    "\n",
    "Array2: [0, 40] \n",
    "\n",
    "Compare each element of array1 and array2 \n",
    "\n",
    "[ True False False True False]"
   ]
  },
  {
   "cell_type": "code",
   "execution_count": 55,
   "metadata": {},
   "outputs": [
    {
     "name": "stdout",
     "output_type": "stream",
     "text": [
      "Array1:  [ 0 10 20 40 60]\n",
      "Array2:  [ 0 40]\n",
      "Compare each element of array1 and array2\n",
      " [ True False False  True False]\n"
     ]
    }
   ],
   "source": [
    "import numpy as np\n",
    "\n",
    "arr1 = np.array([0, 10, 20, 40, 60])\n",
    "print('Array1: ',arr1)\n",
    "\n",
    "arr2 = np.array([0, 40])\n",
    "print('Array2: ',arr2)\n",
    "\n",
    "\n",
    "print('Compare each element of array1 and array2\\n', np.in1d(arr1,arr2))"
   ]
  },
  {
   "cell_type": "markdown",
   "metadata": {},
   "source": [
    "## Q54. Write the NumPy program to find common values between two arrays? \n",
    "\n",
    "Expected Output- \n",
    "\n",
    "Array1: [ 0 10 20 40 60] \n",
    "\n",
    "Array2: [10, 30, 40] \n",
    "\n",
    "Common values between two arrays- \n",
    "\n",
    "[10 40]"
   ]
  },
  {
   "cell_type": "code",
   "execution_count": 56,
   "metadata": {},
   "outputs": [
    {
     "name": "stdout",
     "output_type": "stream",
     "text": [
      "Array1:  [ 0 10 20 40 60]\n",
      "Array2:  [10 30 40]\n",
      "Common values between two arrays-\n",
      " [10 40]\n"
     ]
    }
   ],
   "source": [
    "import numpy as np\n",
    "\n",
    "arr1 = np.array([0, 10, 20, 40, 60])\n",
    "print('Array1: ',arr1)\n",
    "\n",
    "arr2 = np.array([10, 30, 40])\n",
    "print('Array2: ',arr2)\n",
    "\n",
    "\n",
    "print('Common values between two arrays-\\n', np.intersect1d(arr1,arr2))"
   ]
  },
  {
   "cell_type": "markdown",
   "metadata": {},
   "source": [
    "## Q55. Write the NumPy program to get the unique elements of an array?\n",
    "\n",
    "Expected Output- \n",
    "\n",
    "Original array- \n",
    "\n",
    "[10 10 20 20 30 30] \n",
    "\n",
    "Unique elements of the above array- \n",
    "\n",
    "[10 20 30]\n",
    "\n",
    "Original array- \n",
    "\n",
    "[[1 1] [2 3]] \n",
    "\n",
    "Unique elements of the above array-\n",
    "\n",
    "[1 2 3]"
   ]
  },
  {
   "cell_type": "code",
   "execution_count": 63,
   "metadata": {},
   "outputs": [
    {
     "name": "stdout",
     "output_type": "stream",
     "text": [
      "Original array-\n",
      " [10 10 20 20 30 30]\n",
      "Unique elements of the above array-\n",
      " [10 20 30]\n",
      "Original array-\n",
      " [[1 1]\n",
      " [2 3]]\n",
      "Unique elements of the above array-\n",
      " [1 2 3]\n"
     ]
    }
   ],
   "source": [
    "import numpy as np\n",
    "\n",
    "arr = np.array([10, 10, 20, 20, 30, 30])\n",
    "print('Original array-\\n',arr)\n",
    "print('Unique elements of the above array-\\n', np.unique(arr))\n",
    "\n",
    "arr_1 = np.array([[1, 1], [2, 3]])\n",
    "print('Original array-\\n',arr_1)\n",
    "print('Unique elements of the above array-\\n', np.unique(arr_1))"
   ]
  },
  {
   "cell_type": "markdown",
   "metadata": {},
   "source": [
    "## Q56. Write the NumPy program to find the set exclusive-or of two arrays. Set exclusive-or will return the sorted, unique values that are in only one (not both) of the input arrays?\n",
    "\n",
    "Array1- [ 0 10 20 40 60 80] \n",
    "\n",
    "Array2- [10, 30, 40, 50, 70] \n",
    "\n",
    "Unique values that are in only one (not both) of the input arrays-\n",
    "\n",
    "[ 0 20 30 50 60 70 80]"
   ]
  },
  {
   "cell_type": "code",
   "execution_count": 64,
   "metadata": {},
   "outputs": [
    {
     "name": "stdout",
     "output_type": "stream",
     "text": [
      "Array1-  [ 0 10 20 40 60 80]\n",
      "Array2-  [10 30 40 50 70]\n",
      "Unique values that are in only one (not both) of the input arrays-\n",
      " [ 0 20 30 50 60 70 80]\n"
     ]
    }
   ],
   "source": [
    "import numpy as np\n",
    "\n",
    "arr1 = np.array([0, 10, 20, 40, 60, 80])\n",
    "arr2 = np.array([10, 30, 40, 50, 70])\n",
    "\n",
    "print('Array1- ',arr1)\n",
    "print('Array2- ',arr2)\n",
    "\n",
    "print('Unique values that are in only one (not both) of the input arrays-\\n', np.setxor1d(arr1, arr2))"
   ]
  },
  {
   "cell_type": "markdown",
   "metadata": {},
   "source": [
    "## Q57. Write the NumPy program to test if all elements in an array evaluate to True ?"
   ]
  },
  {
   "cell_type": "code",
   "execution_count": 67,
   "metadata": {},
   "outputs": [
    {
     "data": {
      "text/plain": [
       "False"
      ]
     },
     "execution_count": 67,
     "metadata": {},
     "output_type": "execute_result"
    }
   ],
   "source": [
    "import numpy as np\n",
    "\n",
    "arr1 = np.array([0, 10, 20, 40, 60, 80])\n",
    "\n",
    "np.all(arr1, 0)"
   ]
  },
  {
   "cell_type": "markdown",
   "metadata": {},
   "source": [
    "## Q58 Write the NumPy program to test whether any array element along the given axis evaluates to True?"
   ]
  },
  {
   "cell_type": "code",
   "execution_count": 68,
   "metadata": {},
   "outputs": [
    {
     "data": {
      "text/plain": [
       "True"
      ]
     },
     "execution_count": 68,
     "metadata": {},
     "output_type": "execute_result"
    }
   ],
   "source": [
    "import numpy as np\n",
    "\n",
    "arr1 = np.array([0, 10, 20, 40, 60, 80])\n",
    "\n",
    "np.any(arr1, 0)"
   ]
  },
  {
   "cell_type": "markdown",
   "metadata": {},
   "source": [
    "## Q59. Write the NumPy program to construct an array by repeating? \n",
    "\n",
    "Sample array- [1, 2, 3, 4] \n",
    "\n",
    "Expected Output- \n",
    "\n",
    "Original array \n",
    "\n",
    "[1, 2, 3, 4] \n",
    "\n",
    "Repeating 2 times \n",
    "\n",
    "[1 2 3 4 1 2 3 4]\n",
    "\n",
    "Repeating 3 times \n",
    "\n",
    "[1 2 3 4 1 2 3 4 1 2 3 4]"
   ]
  },
  {
   "cell_type": "code",
   "execution_count": 75,
   "metadata": {},
   "outputs": [
    {
     "name": "stdout",
     "output_type": "stream",
     "text": [
      "Original array\n",
      "[1 2 3 4]\n",
      "Repeating 2 times\n",
      "[1 2 3 4 1 2 3 4]\n",
      "Repeating 3 times\n",
      "[1 2 3 4 1 2 3 4 1 2 3 4]\n"
     ]
    }
   ],
   "source": [
    "import numpy as np\n",
    "\n",
    "arr = np.array([1,2,3,4])\n",
    "print('Original array')\n",
    "print(arr)\n",
    "\n",
    "print('Repeating 2 times')\n",
    "print(np.concatenate((arr,arr), 0))\n",
    "\n",
    "print('Repeating 3 times')\n",
    "print(np.concatenate((arr,arr,arr), 0))"
   ]
  },
  {
   "cell_type": "markdown",
   "metadata": {},
   "source": [
    "## Q60. Write the NumPy program to find the indices of the maximum and minimum values with the given axis of an array?\n",
    "\n",
    "Original array- \n",
    "\n",
    "[1 2 3 4 5 6] \n",
    "\n",
    "Maximum Values- 5 \n",
    "\n",
    "Minimum Values- 0"
   ]
  },
  {
   "cell_type": "code",
   "execution_count": 77,
   "metadata": {
    "scrolled": true
   },
   "outputs": [
    {
     "name": "stdout",
     "output_type": "stream",
     "text": [
      "Original array-\n",
      "[1 2 3 4 5 6]\n",
      "Maximum Values- 5\n",
      "Minimum Values- 0\n"
     ]
    }
   ],
   "source": [
    "import numpy as np\n",
    "\n",
    "arr = np.array([1,2,3,4,5,6])\n",
    "print('Original array-')\n",
    "print(arr)\n",
    "\n",
    "print('Maximum Values-', np.argmax(arr))\n",
    "print('Minimum Values-', np.argmin(arr))"
   ]
  },
  {
   "cell_type": "markdown",
   "metadata": {},
   "source": [
    "## Q61. Write the NumPy program compare two arrays using numpy?\n",
    "\n",
    "Array a- [1 2] \n",
    "\n",
    "Array b- [4 5] \n",
    "\n",
    "a > b [False False] \n",
    "\n",
    "a >= b [False False] \n",
    "\n",
    "a < b [ True True] \n",
    "\n",
    "a <= b [ True True]"
   ]
  },
  {
   "cell_type": "code",
   "execution_count": 80,
   "metadata": {},
   "outputs": [
    {
     "name": "stdout",
     "output_type": "stream",
     "text": [
      "Array a- [1 2]\n",
      "Array b- [4 5]\n",
      "a > b [False False]\n",
      "a >= b [False False]\n",
      "a < b [ True  True]\n",
      "a <= b [ True  True]\n"
     ]
    }
   ],
   "source": [
    "import numpy as np\n",
    "\n",
    "a = np.array([1,2])\n",
    "b = np.array([4,5])\n",
    "print('Array a-', a)\n",
    "print('Array b-', b)\n",
    "\n",
    "print('a > b', a > b)\n",
    "\n",
    "print('a >= b', a >= b)\n",
    "\n",
    "print('a < b', a < b)\n",
    "\n",
    "print('a <= b', a <= b)"
   ]
  },
  {
   "cell_type": "markdown",
   "metadata": {},
   "source": [
    "## Q62. Write the NumPy program to sort an along the first, last axis of an array? \n",
    "\n",
    "Sample array- [[2,5],[4,4]] \n",
    "\n",
    "Expected Output- \n",
    "\n",
    "Original array: \n",
    "\n",
    "[[4 6] [2 1]] \n",
    "\n",
    "Sort along the first axis: \n",
    "\n",
    "[[2 1] [4 6]]\n",
    "\n",
    "Sort along the last axis- \n",
    "\n",
    "[[1 2] [4 6]]"
   ]
  },
  {
   "cell_type": "code",
   "execution_count": 89,
   "metadata": {},
   "outputs": [
    {
     "name": "stdout",
     "output_type": "stream",
     "text": [
      "Original array:\n",
      " [[4 6]\n",
      " [2 1]]\n",
      "Sort along the first axis:\n",
      " [[2 1]\n",
      " [4 6]]\n",
      "Sort along the last axis:\n",
      " [[1 2]\n",
      " [4 6]]\n"
     ]
    }
   ],
   "source": [
    "import numpy as np\n",
    "\n",
    "arr = np.array([[4, 6], [2, 1]])\n",
    "\n",
    "print('Original array:\\n',arr)\n",
    "\n",
    "x = np.sort(arr, axis=0)\n",
    "print('Sort along the first axis:\\n', x)\n",
    "y = np.sort(x, axis=1)\n",
    "print('Sort along the last axis:\\n', y)"
   ]
  },
  {
   "cell_type": "markdown",
   "metadata": {},
   "source": [
    "## Q63. Write the NumPy program to sort pairs of first name and last name return their indices (first by last name, then by first name).\n",
    "\n",
    "first_names - ( Betsey, Shelley, Lanell, Genesis, Margery ) \n",
    "\n",
    "last_names - ( Battle, Brien, Plotner, Stahl, Woolum ) \n",
    "\n",
    "Expected Output- \n",
    "\n",
    "[1 3 2 4 0]"
   ]
  },
  {
   "cell_type": "code",
   "execution_count": 96,
   "metadata": {
    "scrolled": true
   },
   "outputs": [
    {
     "name": "stdout",
     "output_type": "stream",
     "text": [
      "[0 1 2 3 4]\n"
     ]
    }
   ],
   "source": [
    "import numpy as np\n",
    "\n",
    "first_names = ('Betsey', 'Shelley', 'Lanell', 'Genesis', 'Margery')\n",
    "\n",
    "last_names = ('Battle', 'Brien', 'Plotner', 'Stahl', 'Woolum')\n",
    "\n",
    "print(np.lexsort((first_names, last_names)))"
   ]
  },
  {
   "cell_type": "markdown",
   "metadata": {},
   "source": [
    "## Q64. Write the NumPy program to get the values and indices of the elements that are bigger than 10 in the given array? \n",
    "\n",
    "Original array- [[ 0 10 20] [20 30 40]] \n",
    "\n",
    "Values bigger than 10 = [20 20 30 40] \n",
    "\n",
    "Their indices are (array([0, 1, 1, 1]), array([2, 0, 1, 2]))"
   ]
  },
  {
   "cell_type": "code",
   "execution_count": 109,
   "metadata": {},
   "outputs": [
    {
     "name": "stdout",
     "output_type": "stream",
     "text": [
      "Original array- [[ 0 10 20]\n",
      " [20 30 40]]\n",
      "Values bigger than 10 = [20 20 30 40]\n",
      "Their indices are  [[0 2]\n",
      " [1 0]\n",
      " [1 1]\n",
      " [1 2]]\n",
      "Their indices are  (array([0, 1, 1, 1], dtype=int64), array([2, 0, 1, 2], dtype=int64))\n"
     ]
    }
   ],
   "source": [
    "import numpy as np\n",
    "\n",
    "arr = np.array([[0, 10, 20], [20, 30, 40]])\n",
    "\n",
    "print('Original array-', arr)\n",
    "print('Values bigger than 10 =', arr[arr>10])\n",
    "print('Their indices are ', np.argwhere(arr>10))\n",
    "print('Their indices are ', np.nonzero(arr>10))"
   ]
  },
  {
   "cell_type": "markdown",
   "metadata": {},
   "source": [
    "## Q65. Write the NumPy program to find the memory size of a NumPy array?\n",
    "\n",
    "Expected Output- 128 bytes"
   ]
  },
  {
   "cell_type": "code",
   "execution_count": 7,
   "metadata": {},
   "outputs": [
    {
     "name": "stdout",
     "output_type": "stream",
     "text": [
      "24 bytes\n"
     ]
    }
   ],
   "source": [
    "import numpy as np \n",
    "\n",
    "arr = np.array([[0, 10, 20], [20, 30, 40]])\n",
    "\n",
    "print(arr.size * arr.itemsize , 'bytes')"
   ]
  },
  {
   "cell_type": "markdown",
   "metadata": {},
   "source": [
    "## Q66. Write the NumPy program to create an array of ones and an array of zeros?\n",
    "\n",
    "Expected Output- \n",
    "\n",
    "Create an array of zeros \n",
    "\n",
    "Default type is float\n",
    "\n",
    "[[ 0. 0.]] \n",
    "\n",
    "Type changes to int \n",
    "\n",
    "[[0 0]] \n",
    "\n",
    "Create an array of ones \n",
    "\n",
    "Default type is float \n",
    "\n",
    "[[ 1. 1.]] \n",
    "\n",
    "Type changes to int \n",
    "\n",
    "[[1 1]]"
   ]
  },
  {
   "cell_type": "code",
   "execution_count": 10,
   "metadata": {},
   "outputs": [
    {
     "name": "stdout",
     "output_type": "stream",
     "text": [
      "Create an array of zeros\n",
      "Default type is float\n",
      " [[0. 0.]]\n",
      "Type changes to int\n",
      " [[0 0]]\n",
      "Create an array of ones\n",
      "Default type is float\n",
      " [[1. 1.]]\n",
      "Type changes to int\n",
      " [[1 1]]\n"
     ]
    }
   ],
   "source": [
    "import numpy as np\n",
    "\n",
    "print('Create an array of zeros')\n",
    "\n",
    "print('Default type is float\\n', np.zeros((1,2)))\n",
    "\n",
    "print('Type changes to int\\n', np.zeros((1,2), dtype='int'))\n",
    "\n",
    "print('Create an array of ones')\n",
    "\n",
    "print('Default type is float\\n', np.ones((1,2)))\n",
    "\n",
    "print('Type changes to int\\n', np.ones((1,2), dtype='int'))"
   ]
  },
  {
   "cell_type": "markdown",
   "metadata": {},
   "source": [
    "## Q67. Write the NumPy program to change the dimension of an array? \n",
    "\n",
    "Expected Output- \n",
    "\n",
    "6 rows and 0 columns \n",
    "\n",
    "(6,) \n",
    "\n",
    "(3, 3) -> 3 rows and 3 columns \n",
    "\n",
    "[[1 2 3] [4 5 6] [7 8 9]] \n",
    "\n",
    "Change array shape to (3, 3) -> 3 rows and 3 columns \n",
    "\n",
    "[[1 2 3] [4 5 6] [7 8 9]]"
   ]
  },
  {
   "cell_type": "code",
   "execution_count": 21,
   "metadata": {},
   "outputs": [
    {
     "name": "stdout",
     "output_type": "stream",
     "text": [
      "6 rows and 0 columns\n",
      " (6,)\n",
      "(3, 3) -> 3 rows and 3 columns\n",
      "[[1 2 3]\n",
      " [4 5 6]\n",
      " [7 8 9]]\n",
      "Change array shape to (9, ) -> 9 rows and 0 columns\n",
      "[1 2 3 4 5 6 7 8 9]\n"
     ]
    }
   ],
   "source": [
    "import numpy as np\n",
    "\n",
    "print('6 rows and 0 columns\\n',np.array(range(6)).shape)\n",
    "\n",
    "arr = np.array([[1,2,3],[4,5,6],[7,8,9]])\n",
    "\n",
    "print(arr.shape,'-> 3 rows and 3 columns')\n",
    "print(arr)\n",
    "\n",
    "arr.shape = (9,)\n",
    "print('Change array shape to (9, ) -> 9 rows and 0 columns')\n",
    "print(arr)"
   ]
  },
  {
   "cell_type": "markdown",
   "metadata": {},
   "source": [
    "## Q68. Write the NumPy program to create a new shape to an array without changing its data ? \n",
    "\n",
    "Reshape 3x2- \n",
    "\n",
    "[[1 2] [3 4] [5 6]] \n",
    "\n",
    "Reshape 2x3- \n",
    "\n",
    "[[1 2 3] [4 5 6]]"
   ]
  },
  {
   "cell_type": "code",
   "execution_count": 22,
   "metadata": {},
   "outputs": [
    {
     "name": "stdout",
     "output_type": "stream",
     "text": [
      "Reshape 3x2-\n",
      " [[1 2]\n",
      " [3 4]\n",
      " [5 6]]\n",
      "Reshape 2x3-\n",
      " [[1 2 3]\n",
      " [4 5 6]]\n"
     ]
    }
   ],
   "source": [
    "import numpy as np\n",
    "\n",
    "arr = np.array([[1,2,3,4,5,6]])\n",
    "\n",
    "print('Reshape 3x2-\\n',arr.reshape((3,2)))\n",
    "\n",
    "print('Reshape 2x3-\\n',arr.reshape((2,3)))"
   ]
  },
  {
   "cell_type": "markdown",
   "metadata": {},
   "source": [
    "## Q69. Write the NumPy program to create a new array of 3*5, filled with 2?\n",
    "\n",
    "Expected Output- \n",
    "\n",
    "[[2 2 2 2 2] [2 2 2 2 2] [2 2 2 2 2]]"
   ]
  },
  {
   "cell_type": "code",
   "execution_count": 23,
   "metadata": {},
   "outputs": [
    {
     "name": "stdout",
     "output_type": "stream",
     "text": [
      "[[2 2 2 2 2]\n",
      " [2 2 2 2 2]\n",
      " [2 2 2 2 2]]\n"
     ]
    }
   ],
   "source": [
    "import numpy as np\n",
    "\n",
    "twos = np.full((3,5), 2)\n",
    "\n",
    "print(twos)"
   ]
  },
  {
   "cell_type": "markdown",
   "metadata": {},
   "source": [
    "## Q70. Write the NumPy program to create a 3-D array with ones on a diagonal and zeros elsewhere? \n",
    "\n",
    "Expected Output- \n",
    "\n",
    "[[ 1. 0. 0.] [ 0. 1. 0.] [ 0. 0. 1.]]"
   ]
  },
  {
   "cell_type": "code",
   "execution_count": 28,
   "metadata": {},
   "outputs": [
    {
     "name": "stdout",
     "output_type": "stream",
     "text": [
      "[[1. 0. 0.]\n",
      " [0. 1. 0.]\n",
      " [0. 0. 1.]]\n"
     ]
    }
   ],
   "source": [
    "import numpy as np\n",
    "\n",
    "i = np.eye(3)\n",
    "print(i)"
   ]
  },
  {
   "cell_type": "markdown",
   "metadata": {},
   "source": [
    "## Q71. Write the NumPy program to split an array of 14 elements into the 3 arrays and each of which has 2, 4, and 8 elements in original order?\n",
    "\n",
    "Expected Output- \n",
    "\n",
    "Original array- \n",
    "\n",
    "[ 1 2 3 4 5 6 7 8 9 10 11 12 13 14] \n",
    "\n",
    "After splitting- \n",
    "\n",
    "[array([1, 2]), array([3, 4, 5, 6]), array([ 7, 8, 9, 10, 11, 12, 13, 14])]"
   ]
  },
  {
   "cell_type": "code",
   "execution_count": 38,
   "metadata": {},
   "outputs": [
    {
     "name": "stdout",
     "output_type": "stream",
     "text": [
      "Original array-\n",
      " [ 1  2  3  4  5  6  7  8  9 10 11 12 13 14]\n",
      "After splitting-\n",
      " [array([1, 2]), array([3, 4, 5, 6]), array([ 7,  8,  9, 10, 11, 12, 13, 14])]\n"
     ]
    }
   ],
   "source": [
    "import numpy as np\n",
    "\n",
    "arr = np.array([1, 2, 3, 4, 5, 6, 7, 8, 9, 10, 11, 12, 13, 14])\n",
    "print('Original array-\\n', arr)\n",
    "\n",
    "print('After splitting-\\n', np.split(arr,[2,6]))"
   ]
  },
  {
   "cell_type": "markdown",
   "metadata": {},
   "source": [
    "## Q72. Write the NumPy program to split of an array of shape 4x4 it into two arrays along the second axis ? \n",
    "\n",
    "Sample array - \n",
    "\n",
    "[[ 0 1 2 3] [ 4 5 6 7] [ 8 9 10 11] [12 13 14 15]] \n",
    "\n",
    "Expected Output-\n",
    "\n",
    "[array([[ 0, 1], [ 4, 5], [ 8, 9], [12, 13]]), array([[ 2, 3], [ 6, 7], [10, 11], [14, 15]]), array([], shape=(4, 0), dtype=int64)]"
   ]
  },
  {
   "cell_type": "code",
   "execution_count": 43,
   "metadata": {},
   "outputs": [
    {
     "name": "stdout",
     "output_type": "stream",
     "text": [
      "Original array-\n",
      " [[ 0  1  2  3]\n",
      " [ 4  5  6  7]\n",
      " [ 8  9 10 11]\n",
      " [12 13 14 15]]\n",
      "After splitting-\n",
      "\n"
     ]
    },
    {
     "data": {
      "text/plain": [
       "[array([[ 0,  1],\n",
       "        [ 4,  5],\n",
       "        [ 8,  9],\n",
       "        [12, 13]]), array([[ 2,  3],\n",
       "        [ 6,  7],\n",
       "        [10, 11],\n",
       "        [14, 15]])]"
      ]
     },
     "execution_count": 43,
     "metadata": {},
     "output_type": "execute_result"
    }
   ],
   "source": [
    "import numpy as np\n",
    "\n",
    "arr = np.array([[0, 1, 2, 3], [4, 5, 6, 7], [8, 9, 10, 11], [12, 13, 14, 15]])\n",
    "print('Original array-\\n', arr)\n",
    "\n",
    "print('After splitting-\\n')\n",
    "np.split(arr, 2, axis=1)"
   ]
  },
  {
   "cell_type": "markdown",
   "metadata": {},
   "source": [
    "## Q73. Write the NumPy program to create a 5x5 matrix with row values ranging from 0 to 4?\n",
    "\n",
    "Original array- \n",
    "\n",
    "[[ 0. 0. 0. 0. 0.] [ 0. 0. 0. 0. 0.] [ 0. 0. 0. 0. 0.] [ 0. 0. 0. 0. 0.] [ 0. 0. 0. 0. 0.]] \n",
    "\n",
    "Row values ranging from 0 to 4. \n",
    "\n",
    "[[ 0. 1. 2. 3. 4.] [ 0. 1. 2. 3. 4.] [ 0. 1. 2. 3. 4.] [ 0. 1. 2. 3. 4.] [ 0. 1. 2. 3. 4.]]"
   ]
  },
  {
   "cell_type": "code",
   "execution_count": 47,
   "metadata": {
    "scrolled": true
   },
   "outputs": [
    {
     "name": "stdout",
     "output_type": "stream",
     "text": [
      "Original array-\n",
      " [[0. 0. 0. 0. 0.]\n",
      " [0. 0. 0. 0. 0.]\n",
      " [0. 0. 0. 0. 0.]\n",
      " [0. 0. 0. 0. 0.]\n",
      " [0. 0. 0. 0. 0.]]\n",
      "Row values ranging from 0 to 4.\n",
      " [[0. 1. 2. 3. 4.]\n",
      " [0. 1. 2. 3. 4.]\n",
      " [0. 1. 2. 3. 4.]\n",
      " [0. 1. 2. 3. 4.]\n",
      " [0. 1. 2. 3. 4.]]\n"
     ]
    }
   ],
   "source": [
    "import numpy as np\n",
    "\n",
    "arr = np.zeros((5,5))\n",
    "print('Original array-\\n', arr)\n",
    "\n",
    "arr[:,:] = [0, 1, 2, 3, 4]\n",
    "\n",
    "print('Row values ranging from 0 to 4.\\n', arr)"
   ]
  },
  {
   "cell_type": "markdown",
   "metadata": {},
   "source": [
    "## Q74. Write the NumPy program to create an array of zeros and three column types (integer, float, character)?\n",
    "\n",
    "Expected Output- \n",
    "\n",
    "[(1, 2., b'Albert Einstein') (2, 2., b'Edmond Halley') (3, 3., b'Gertrude B. Elion')]"
   ]
  },
  {
   "cell_type": "code",
   "execution_count": 57,
   "metadata": {},
   "outputs": [
    {
     "data": {
      "text/plain": [
       "array([(0, 0., b''), (0, 0., b''), (0, 0., b'')],\n",
       "      dtype=[('x', '<i8'), ('y', '<f8'), ('z', 'S40')])"
      ]
     },
     "execution_count": 57,
     "metadata": {},
     "output_type": "execute_result"
    }
   ],
   "source": [
    "import numpy as np\n",
    "arr = np.zeros((3,), dtype=[('x',np.int64),('y',np.float64),('z','a40')])\n",
    "\n",
    "arr"
   ]
  },
  {
   "cell_type": "markdown",
   "metadata": {},
   "source": [
    "## Q75. Write the NumPy program to remove the negative values in the numpy array with 0?\n",
    "\n",
    "Expected Output- \n",
    "\n",
    "Original array: \n",
    "\n",
    "[-1 -4 0 2 3 4 5 -6] \n",
    "\n",
    "Replace the negative values of the said array with 0- \n",
    "\n",
    "[0 0 0 2 3 4 5 0]"
   ]
  },
  {
   "cell_type": "code",
   "execution_count": 60,
   "metadata": {},
   "outputs": [
    {
     "name": "stdout",
     "output_type": "stream",
     "text": [
      "Original array:\n",
      " [-1 -4  0  2  3  4  5 -6]\n",
      "Replace the negative values of the said array with 0-\n",
      " [0 0 0 2 3 4 5 0]\n"
     ]
    }
   ],
   "source": [
    "import numpy as np\n",
    "\n",
    "arr = np.array([-1, -4, 0, 2, 3, 4, 5, -6])\n",
    "print('Original array:\\n', arr)\n",
    "\n",
    "arr[arr<0] = 0\n",
    "\n",
    "print('Replace the negative values of the said array with 0-\\n', arr)"
   ]
  },
  {
   "cell_type": "markdown",
   "metadata": {},
   "source": [
    "## Q76. Write the NumPy program to compute the histogram of a set of data?"
   ]
  },
  {
   "cell_type": "code",
   "execution_count": 64,
   "metadata": {},
   "outputs": [
    {
     "data": {
      "text/plain": [
       "(array([0., 2., 1., 0., 0.]),\n",
       " array([0, 1, 2, 3, 4, 5]),\n",
       " <a list of 5 Patch objects>)"
      ]
     },
     "execution_count": 64,
     "metadata": {},
     "output_type": "execute_result"
    },
    {
     "data": {
      "image/png": "[encoded data removed]",
      "text/plain": [
       "<Figure size 432x288 with 1 Axes>"
      ]
     },
     "metadata": {
      "needs_background": "light"
     },
     "output_type": "display_data"
    }
   ],
   "source": [
    "import numpy as np\n",
    "import matplotlib.pyplot as plt\n",
    "\n",
    "plt.hist([1, 2, 1], bins=[0, 1, 2, 3, 4, 5])"
   ]
  },
  {
   "cell_type": "markdown",
   "metadata": {},
   "source": [
    "## Q77. Write the NumPy program to compute the line graph of a set of data?"
   ]
  },
  {
   "cell_type": "code",
   "execution_count": null,
   "metadata": {},
   "outputs": [],
   "source": [
    "import numpy as np\n",
    "import matplotlib.pyplot as plt\n"
   ]
  },
  {
   "cell_type": "markdown",
   "metadata": {},
   "source": [
    "## Q78. Write the NumPy program to extracts all the elements from second row from given (4x4) array?\n",
    "\n",
    "Sample Output- \n",
    "\n",
    "Original array- \n",
    "\n",
    "[[ 0 1 2 3] [ 4 5 6 7] [ 8 9 10 11] [12 13 14 15]] \n",
    "\n",
    "Extracted data- Second row \n",
    "\n",
    "[4 5 6 7]"
   ]
  },
  {
   "cell_type": "code",
   "execution_count": 70,
   "metadata": {},
   "outputs": [
    {
     "name": "stdout",
     "output_type": "stream",
     "text": [
      "Original array-\n",
      " [[ 0  1  2  3]\n",
      " [ 4  5  6  7]\n",
      " [ 8  9 10 11]\n",
      " [12 13 14 15]]\n",
      "Extracted data- Second row\n",
      " [4 5 6 7]\n"
     ]
    }
   ],
   "source": [
    "import numpy as np\n",
    "\n",
    "arr = np.array([[0, 1, 2, 3], [4, 5, 6, 7], [8, 9, 10, 11], [12, 13, 14, 15]])\n",
    "\n",
    "print('Original array-\\n', arr)\n",
    "\n",
    "print('Extracted data- Second row\\n', arr[1])"
   ]
  },
  {
   "cell_type": "markdown",
   "metadata": {},
   "source": [
    "## Q79. Write the NumPy program to extract first element of the second row and fourth element of fourth row from a given (4x4) array? \n",
    "\n",
    "Sample Output- \n",
    "\n",
    "Original array- \n",
    "\n",
    "[[ 0 1 2 3] [ 4 5 6 7] [ 8 9 10 11] [12 13 14 15]] \n",
    "\n",
    "Extracted data- First element of the second row and fourth element of fourth row \n",
    "\n",
    "[ 4 15]"
   ]
  },
  {
   "cell_type": "code",
   "execution_count": 76,
   "metadata": {
    "scrolled": true
   },
   "outputs": [
    {
     "name": "stdout",
     "output_type": "stream",
     "text": [
      "Original array-\n",
      " [[ 0  1  2  3]\n",
      " [ 4  5  6  7]\n",
      " [ 8  9 10 11]\n",
      " [12 13 14 15]]\n",
      "Extracted data- First element of the second row and fourth element of fourth row\n",
      " [ 4 15]\n"
     ]
    }
   ],
   "source": [
    "import numpy as np\n",
    "\n",
    "arr = np.arange(16).reshape(4,4)\n",
    "\n",
    "print('Original array-\\n', arr)\n",
    "\n",
    "print('Extracted data- First element of the second row and fourth element of fourth row\\n', arr[[1,3],[0,3]])"
   ]
  },
  {
   "cell_type": "markdown",
   "metadata": {},
   "source": [
    "## Q80. Write the NumPy program to add two arrays A and B of sizes (3,3) and (,3)?\n",
    "\n",
    "Sample Output- \n",
    "\n",
    "Original array- \n",
    "\n",
    "Array-1 \n",
    "\n",
    "[[1 1 1] [1 1 1] [1 1 1]] \n",
    "\n",
    "Array-2 \n",
    "\n",
    "[0 1 2] \n",
    "\n",
    "A + B: \n",
    "\n",
    "[[1 2 3] [1 2 3] [1 2 3]]"
   ]
  },
  {
   "cell_type": "code",
   "execution_count": 82,
   "metadata": {},
   "outputs": [
    {
     "name": "stdout",
     "output_type": "stream",
     "text": [
      "Original array-\n",
      "Array-1\n",
      " [[1 1 1]\n",
      " [1 1 1]\n",
      " [1 1 1]]\n",
      "Array-2\n",
      " [0 1 2]\n",
      "A+B:\n",
      " [[1 2 3]\n",
      " [1 2 3]\n",
      " [1 2 3]]\n"
     ]
    }
   ],
   "source": [
    "import numpy as np\n",
    "\n",
    "a = np.ones((3,3), dtype=int)\n",
    "\n",
    "b = np.arange(3)\n",
    "\n",
    "print('Original array-')\n",
    "print('Array-1\\n', a,)\n",
    "print('Array-2\\n', b)\n",
    "\n",
    "print('A+B:\\n', a+b)"
   ]
  },
  {
   "cell_type": "markdown",
   "metadata": {},
   "source": [
    "## Q81. Write the NumPy program to copy data from a given array to another array?\n",
    "\n",
    "Sample Output- \n",
    "\n",
    "Original array- \n",
    "\n",
    "[24 27 30 29 18 14] \n",
    "\n",
    "Copy of the said array- \n",
    "\n",
    "[24 27 30 29 18 14]"
   ]
  },
  {
   "cell_type": "code",
   "execution_count": 83,
   "metadata": {},
   "outputs": [
    {
     "name": "stdout",
     "output_type": "stream",
     "text": [
      "Original array-\n",
      " [24 27 30 29 18 14]\n",
      "Copy of the said array-\n",
      " [24 27 30 29 18 14]\n"
     ]
    }
   ],
   "source": [
    "import numpy as np\n",
    "\n",
    "a = np.array([24, 27, 30, 29, 18, 14])\n",
    "\n",
    "b = np.copy(a)\n",
    "\n",
    "print('Original array-\\n', a)\n",
    "\n",
    "print('Copy of the said array-\\n', b)"
   ]
  },
  {
   "cell_type": "markdown",
   "metadata": {},
   "source": [
    "## Q82. Write the NumPy program to calculate the sum of all columns of the 2D numpy array? \n",
    "\n",
    "Sample Output- \n",
    "\n",
    "Original array- \n",
    "\n",
    "[[ 0 1 2 3 4 5 6 7 8] [ 9 10 11 12 13 14 15 16 17] [18 19 20 21 22 23 24 25 26] [27 28 29 30 31 32 33 34 35]] \n",
    "\n",
    "Sum of all columns- \n",
    "\n",
    "[54 58 62 66 70 74 78 82 86]"
   ]
  },
  {
   "cell_type": "code",
   "execution_count": 89,
   "metadata": {
    "scrolled": true
   },
   "outputs": [
    {
     "name": "stdout",
     "output_type": "stream",
     "text": [
      "Original array-\n",
      " [[ 0  1  2  3  4  5  6  7  8]\n",
      " [ 9 10 11 12 13 14 15 16 17]\n",
      " [18 19 20 21 22 23 24 25 26]\n",
      " [27 28 29 30 31 32 33 34 35]]\n",
      "Sum of all columns-\n",
      " [54 58 62 66 70 74 78 82 86]\n"
     ]
    }
   ],
   "source": [
    "import numpy as np\n",
    "\n",
    "arr = np.arange(36).reshape(4,9)\n",
    "print('Original array-\\n',arr)\n",
    "\n",
    "print('Sum of all columns-\\n', np.sum(arr,axis=0))"
   ]
  },
  {
   "cell_type": "markdown",
   "metadata": {},
   "source": [
    "## Q83. Write the NumPy program to calculate averages without NaNs along the given array?\n",
    "\n",
    "Sample Output- \n",
    "\n",
    "Original array- \n",
    "\n",
    "[[10. 20. 30.] [40. 50. nan] [nan 6. nan] [nan nan nan]]\n",
    "\n",
    "Averages without NaNs along the said array- \n",
    "\n",
    "[20. 45. 6. nan]"
   ]
  },
  {
   "cell_type": "code",
   "execution_count": 102,
   "metadata": {},
   "outputs": [
    {
     "name": "stdout",
     "output_type": "stream",
     "text": [
      "Original array-\n",
      " [[10. 20. 30.]\n",
      " [40. 50. nan]\n",
      " [nan  6. nan]\n",
      " [nan nan nan]]\n",
      "Averages without NaNs along the said array-\n",
      " [20. 45.  6. nan]\n"
     ]
    }
   ],
   "source": [
    "import numpy as np\n",
    "\n",
    "arr = np.array([[10, 20, 30], [40, 50, np.nan], [np.nan, 6, np.nan], [np.nan, np.nan, np.nan]])\n",
    "\n",
    "print('Original array-\\n', arr)\n",
    "\n",
    "arr_masked = np.ma.masked_array(arr,np.isnan(arr)) # removing NAN for computation\n",
    "\n",
    "arr_msk_avg = np.ma.average(arr_masked, axis=1)    # Computing the average without NAN\n",
    "\n",
    "print('Averages without NaNs along the said array-\\n', arr_msk_avg.filled(np.nan)) # Printing the result with "
   ]
  },
  {
   "cell_type": "markdown",
   "metadata": {},
   "source": [
    "## Q84. Create two arrays of six elements. Write the NumPy program to count the number of instances of a value occurring in one array on the condition of another array.\n",
    "\n",
    "Sample Output- \n",
    "\n",
    "Original arrays- \n",
    "\n",
    "[ 10 -10 10 -10 -10 10] [0.85 0.45 0.9 0.8 0.12 0.6 ] \n",
    "\n",
    "Number of instances of a value occurring in one array on the condition of another array: 3"
   ]
  },
  {
   "cell_type": "code",
   "execution_count": null,
   "metadata": {},
   "outputs": [],
   "source": []
  },
  {
   "cell_type": "markdown",
   "metadata": {},
   "source": [
    "## Q85. Write the NumPy program to convert a Python dictionary to a Numpy ndarray ?\n",
    "\n",
    "Original dictionary- \n",
    "{'column0': {'a': 1, 'b': 0.0, 'c': 0.0, 'd': 2.0}, 'column1': {'a': 3.0, 'b': 1, 'c': 0.0, 'd': -1.0}, 'column2': {'a': 4, 'b': 1, 'c': 5.0, 'd': -1.0}, 'column3': {'a': 3.0, 'b': -1.0, 'c': -1.0, 'd': -1.0}} Type: <class 'dict'> \n",
    "\n",
    "ndarray- [[ 1. 0. 0. 2.] [ 3. 1. 0. -1.] [ 4. 1. 5. -1.] [ 3. -1. -1. -1.]] Type: <class 'numpy.ndarray'>"
   ]
  },
  {
   "cell_type": "code",
   "execution_count": 120,
   "metadata": {
    "scrolled": true
   },
   "outputs": [
    {
     "name": "stdout",
     "output_type": "stream",
     "text": [
      "Original dictionary- {'column0': {'a': 1, 'b': 0.0, 'c': 0.0, 'd': 2.0}, 'column1': {'a': 3.0, 'b': 1, 'c': 0.0, 'd': -1.0}, 'column2': {'a': 4, 'b': 1, 'c': 5.0, 'd': -1.0}, 'column3': {'a': 3.0, 'b': -1.0, 'c': -1.0, 'd': -1.0}}\n",
      "\n",
      "ndarray-\n",
      "[[ 1.  0.  0.  2.]\n",
      " [ 3.  1.  0. -1.]\n",
      " [ 4.  1.  5. -1.]\n",
      " [ 3. -1. -1. -1.]]\n"
     ]
    }
   ],
   "source": [
    "import numpy as np\n",
    "\n",
    "d = {'column0': {'a': 1, 'b': 0.0, 'c': 0.0, 'd': 2.0}, \n",
    "     'column1': {'a': 3.0, 'b': 1, 'c': 0.0, 'd': -1.0}, \n",
    "     'column2': {'a': 4, 'b': 1, 'c': 5.0, 'd': -1.0}, \n",
    "     'column3': {'a': 3.0, 'b': -1.0, 'c': -1.0, 'd': -1.0}}\n",
    "\n",
    "print('Original dictionary-',d)\n",
    "print()\n",
    "\n",
    "print('ndarray-')\n",
    "a = np.array([list(i.values()) for i in d.values() ])\n",
    "print(a)"
   ]
  },
  {
   "cell_type": "markdown",
   "metadata": {},
   "source": [
    "## Q86. Write the Numpy program to find and store the non-zero unique rows in an array after comparing each row with other row in the given matrix?\n",
    "\n",
    "Original array- \n",
    "\n",
    "[[ 1 1 0] [ 0 0 0] [ 0 2 3] [ 0 0 0] [ 0 -1 1] [ 0 0 0]] \n",
    "\n",
    "Non-zero unique rows- \n",
    "\n",
    "[[ 1 1 0] [ 0 2 3] [ 0 -1 1]]"
   ]
  },
  {
   "cell_type": "code",
   "execution_count": 138,
   "metadata": {
    "scrolled": true
   },
   "outputs": [
    {
     "name": "stdout",
     "output_type": "stream",
     "text": [
      "Original array-\n",
      " [[ 1  1  0]\n",
      " [ 0  0  0]\n",
      " [ 0  2  3]\n",
      " [ 0  0  0]\n",
      " [ 0 -1  1]\n",
      " [ 0  0  0]]\n",
      "Non-zero unique rows-\n",
      " [[ 1  1  0]\n",
      " [ 0  2  3]\n",
      " [ 0 -1  1]]\n"
     ]
    }
   ],
   "source": [
    "import numpy as np\n",
    "\n",
    "arr = np.array([[1, 1, 0], [0, 0, 0], [0, 2, 3], [0, 0, 0], [0, -1, 1], [0, 0, 0]])\n",
    "\n",
    "arr\n",
    "print('Original array-\\n',arr)\n",
    "\n",
    "arr[np.sum(arr, axis=1) != 0]\n",
    "\n",
    "non_zero = np.array([x for x in arr if np.any(x)])  # since \n",
    "print('Non-zero unique rows-\\n',non_zero)"
   ]
  },
  {
   "cell_type": "markdown",
   "metadata": {},
   "source": [
    "## Q87. Write the NumPy program to multiply the matrix by another matrix of complex numbers and create a new matrix of complex numbers? \n",
    "\n",
    "Sample output- \n",
    "\n",
    "First array- [ 1.+2.j 3.+4.j] \n",
    "\n",
    "Second array- [ 5.+6.j 7.+8.j] \n",
    "\n",
    "Product of above two arrays- (70-8j)"
   ]
  },
  {
   "cell_type": "code",
   "execution_count": 151,
   "metadata": {},
   "outputs": [
    {
     "name": "stdout",
     "output_type": "stream",
     "text": [
      "First array-\n",
      " [1.+2.j 3.+4.j]\n",
      "Second array-\n",
      " [5.+6.j 7.+8.j]\n",
      "Product of above two arrays-\n",
      " (70-8j)\n"
     ]
    }
   ],
   "source": [
    "import numpy as np\n",
    "\n",
    "a = np.array([ 1.+2.j, 3.+4.j])\n",
    "print('First array-\\n',a)\n",
    "b = np.array([ 5.+6.j, 7.+8.j])\n",
    "print('Second array-\\n',b)\n",
    "\n",
    "c = np.vdot(a,b)\n",
    "print('Product of above two arrays-\\n',c)\n"
   ]
  },
  {
   "cell_type": "markdown",
   "metadata": {},
   "source": [
    "## Q88. Write a NumPy program to generate the matrix product of two Arrays?\n",
    "\n",
    "Sample Output- \n",
    "\n",
    "Matrices and vectors. \n",
    "\n",
    "x- [[1, 0], [1, 1]] \n",
    "\n",
    "y- [[3, 1], [2, 2]] \n",
    "\n",
    "Matrix product of above two arrays-\n",
    "\n",
    "[[3 1] [5 3]]"
   ]
  },
  {
   "cell_type": "code",
   "execution_count": 155,
   "metadata": {
    "scrolled": true
   },
   "outputs": [
    {
     "name": "stdout",
     "output_type": "stream",
     "text": [
      "Matrices and vectors.\n",
      "x-\n",
      " [[1 0]\n",
      " [1 1]]\n",
      "y-\n",
      " [[3 1]\n",
      " [2 2]]\n",
      "Matrix product of above two arrays-\n",
      " [[3 1]\n",
      " [5 3]]\n"
     ]
    }
   ],
   "source": [
    "import numpy as np\n",
    "\n",
    "print('Matrices and vectors.')\n",
    "x = np.array([[1, 0], [1, 1]])\n",
    "y = np.array([[3, 1], [2, 2]])\n",
    "print('x-\\n',x)\n",
    "print('y-\\n',y)\n",
    "\n",
    "print('Matrix product of above two arrays-\\n', np.dot(x,y))"
   ]
  },
  {
   "cell_type": "markdown",
   "metadata": {},
   "source": [
    "## Q89. Write the NumPy program to find roots of the following Polynomials? \n",
    "\n",
    "a) (x2 - 4x + 7) \n",
    "\n",
    "b) x4 - 11x3 + 9x2 + 11x ? 10 \n",
    "\n",
    "Sample output- \n",
    "\n",
    "Roots of the first polynomial- \n",
    "\n",
    "[ 1. 1.] \n",
    "\n",
    "Roots of the second polynomial- \n",
    "\n",
    "[ 11.04461946+0.j -0.87114210+0.j 0.91326132+0.4531004j 0.91326132-0.4531004j ]"
   ]
  },
  {
   "cell_type": "code",
   "execution_count": 159,
   "metadata": {},
   "outputs": [
    {
     "name": "stdout",
     "output_type": "stream",
     "text": [
      "Roots of the first polynomial-\n",
      " [2.+1.73205081j 2.-1.73205081j]\n",
      "Roots of the second polynomial-\n",
      " [ 9.97739366+0.j          1.9206355 +0.j         -0.44901458+0.56588568j\n",
      " -0.44901458-0.56588568j]\n"
     ]
    }
   ],
   "source": [
    "import numpy as np\n",
    "\n",
    "p1 = np.poly1d([1, -4, 7])\n",
    "r1 = p1.r\n",
    "print('Roots of the first polynomial-\\n', r1)\n",
    "\n",
    "p2 = np.poly1d([1, -11, 9, 11, 10])\n",
    "r2 = p2.r\n",
    "print('Roots of the second polynomial-\\n', r2)"
   ]
  },
  {
   "cell_type": "markdown",
   "metadata": {},
   "source": [
    "## Q90. Write the NumPy program to calculate inverse of sine, cosine, and inverse tangent for all elements in a given array?\n",
    "\n",
    "Sample output- \n",
    "\n",
    "Inverse sine- [-1.57079633 0. 1.57079633] \n",
    "\n",
    "Inverse cosine- [3.14159265 1.57079633 0. ] \n",
    "\n",
    "Inverse tangent- [-0.78539816 0. 0.78539816]"
   ]
  },
  {
   "cell_type": "code",
   "execution_count": 163,
   "metadata": {},
   "outputs": [
    {
     "name": "stdout",
     "output_type": "stream",
     "text": [
      "Inverse sine- [1.57079633 0.         1.57079633]\n",
      "Inverse cosine- [0.         1.57079633 0.        ]\n",
      "Inverse tangent- [0.78539816 0.         0.78539816]\n"
     ]
    }
   ],
   "source": [
    "import numpy as np\n",
    "\n",
    "arr = np.array([1, 0, 1])\n",
    "\n",
    "print('Inverse sine-',np.arcsin(arr))\n",
    "\n",
    "print('Inverse cosine-',np.arccos(arr))\n",
    "\n",
    "print('Inverse tangent-',np.arctan(arr))"
   ]
  },
  {
   "cell_type": "markdown",
   "metadata": {},
   "source": [
    "## Q91. Write the NumPy program to calculate the difference between in neighbouring elements, element-wise of a given array? \n",
    "\n",
    "Sample output- \n",
    "\n",
    "Original array- \n",
    "\n",
    "[1 3 5 7 0] \n",
    "\n",
    "Difference between neighbouring elements, element-wise of the said array- \n",
    "\n",
    "[ 2 2 2 -7]"
   ]
  },
  {
   "cell_type": "code",
   "execution_count": 168,
   "metadata": {},
   "outputs": [
    {
     "name": "stdout",
     "output_type": "stream",
     "text": [
      "Original array-\n",
      " [1 3 5 7 0]\n",
      "Difference between neighbouring elements, element-wise of the said array-\n",
      " [ 2  2  2 -7]\n"
     ]
    }
   ],
   "source": [
    "import numpy as np\n",
    "\n",
    "arr = np.array([1, 3, 5, 7, 0])\n",
    "print('Original array-\\n', arr)\n",
    "\n",
    "print('Difference between neighbouring elements, element-wise of the said array-\\n',np.diff(arr))"
   ]
  },
  {
   "cell_type": "markdown",
   "metadata": {},
   "source": [
    "## Q92. Write the Python program to find the maximum and the minimum value of a given flattened array?\n",
    "\n",
    "\n",
    "Expected Output- \n",
    "\n",
    "Original flattened array- \n",
    "\n",
    "[[0 1] [2 3]] \n",
    "\n",
    "Maximum value of the above flattened array- 3 \n",
    "\n",
    "Minimum value of the above flattened array- 0"
   ]
  },
  {
   "cell_type": "code",
   "execution_count": 171,
   "metadata": {},
   "outputs": [
    {
     "name": "stdout",
     "output_type": "stream",
     "text": [
      "Original flattened array-\n",
      " [[0 1]\n",
      " [2 3]]\n",
      "Maximum value of the above flattened array- 3\n",
      "Minimum value of the above flattened array- 0\n"
     ]
    }
   ],
   "source": [
    "import numpy as np\n",
    "\n",
    "arr = np.array([[0, 1], [2, 3]])\n",
    "print('Original flattened array-\\n', arr)\n",
    "\n",
    "print('Maximum value of the above flattened array-', arr.max())\n",
    "print('Minimum value of the above flattened array-', arr.min())"
   ]
  },
  {
   "cell_type": "markdown",
   "metadata": {},
   "source": [
    "## Q93. Write the NumPy program to calculate the difference between in the maximum and the minimum values of a given array along the second axis ?\n",
    "\n",
    "Expected Output- \n",
    "\n",
    "Original array- \n",
    "\n",
    "[[ 0 1 2 3 4 5] [ 6 7 8 9 10 11]] \n",
    "\n",
    "Difference between the maximum and the minimum values of the said array- \n",
    "\n",
    "[5 5]"
   ]
  },
  {
   "cell_type": "code",
   "execution_count": 10,
   "metadata": {},
   "outputs": [
    {
     "name": "stdout",
     "output_type": "stream",
     "text": [
      "Original array-\n",
      " [[ 0  1  2  3  4  5]\n",
      " [ 6  7  8  9 10 11]]\n",
      "Difference between the maximum and the minimum values of the said array-\n",
      " [5 5]\n"
     ]
    }
   ],
   "source": [
    "import numpy as np\n",
    "\n",
    "arr = np.arange(12).reshape(2,6)\n",
    "print('Original array-\\n', arr)\n",
    "\n",
    "diff_max_min = np.array([(np.amax(i)-np.amin(i)) for i in arr]) \n",
    "\n",
    "print('Difference between the maximum and the minimum values of the said array-\\n', diff_max_min)"
   ]
  },
  {
   "cell_type": "markdown",
   "metadata": {},
   "source": [
    "## Q94. Write the NumPy program to compute the weighted of the given array ?\n",
    "\n",
    "Sample Output- \n",
    "\n",
    "Original array- \n",
    "\n",
    "[0 1 2 3 4] \n",
    "\n",
    "Weighted average of the said array- \n",
    "\n",
    "2.6666666666666665"
   ]
  },
  {
   "cell_type": "code",
   "execution_count": 19,
   "metadata": {},
   "outputs": [
    {
     "name": "stdout",
     "output_type": "stream",
     "text": [
      "Original array-\n",
      " [0 1 2 3 4]\n",
      "Weighted average of the said array-\n",
      " 2.6666666666666665\n"
     ]
    }
   ],
   "source": [
    "import numpy as np\n",
    "\n",
    "arr = np.arange(5)\n",
    "print('Original array-\\n', arr)\n",
    "\n",
    "print('Weighted average of the said array-\\n', np.average(arr,weights=[1,2,3,4,5]))"
   ]
  },
  {
   "cell_type": "markdown",
   "metadata": {},
   "source": [
    "## Q95. Write the NumPy program to compute the mean, standard deviation, and the variance of a given array along the second axis?\n",
    "\n",
    "Sample output- \n",
    "\n",
    "Original array- \n",
    "\n",
    "[0 1 2 3 4 5] \n",
    "\n",
    "Mean- 2.5 \n",
    "\n",
    "std- 1 \n",
    "\n",
    "variance- 2.9166666666666665"
   ]
  },
  {
   "cell_type": "code",
   "execution_count": 1,
   "metadata": {
    "scrolled": true
   },
   "outputs": [
    {
     "name": "stdout",
     "output_type": "stream",
     "text": [
      "Original array-\n",
      " [0 1 2 3 4 5]\n",
      "Mean-  2.5\n",
      "std-  1.707825127659933\n",
      "variance 2.9166666666666665\n"
     ]
    }
   ],
   "source": [
    "import numpy as np\n",
    "\n",
    "arr = np.arange(6)\n",
    "print('Original array-\\n', arr)\n",
    "\n",
    "print('Mean- ',np.mean(arr))\n",
    "print('std- ',np.std(arr))\n",
    "print('variance',np.var(arr))"
   ]
  },
  {
   "cell_type": "markdown",
   "metadata": {},
   "source": [
    "## Q96. Write the Numpy program to compute the covariance matrix of the two given arrays?\n",
    "\n",
    "Sample Output- \n",
    "\n",
    "Original array1- \n",
    "\n",
    "[0 1 2] \n",
    "\n",
    "Original array1- \n",
    "\n",
    "[2 1 0] \n",
    "\n",
    "Covariance matrix of the said arrays- \n",
    "\n",
    "[[ 1. -1.] [-1. 1.]]"
   ]
  },
  {
   "cell_type": "code",
   "execution_count": 5,
   "metadata": {
    "scrolled": true
   },
   "outputs": [
    {
     "name": "stdout",
     "output_type": "stream",
     "text": [
      "Original array1-\n",
      " [0 1 2]\n",
      "Original array2-\n",
      " [2 1 0]\n",
      "Covariance matrix of the said arrays-\n",
      " [[ 1. -1.]\n",
      " [-1.  1.]]\n"
     ]
    }
   ],
   "source": [
    "import numpy as np\n",
    "\n",
    "arr1 = np.arange(3)\n",
    "print('Original array1-\\n', arr1)\n",
    "\n",
    "arr2 = np.arange(2,-1,-1)\n",
    "print('Original array2-\\n', arr2)\n",
    "\n",
    "print('Covariance matrix of the said arrays-\\n', np.cov(arr1,arr2))"
   ]
  },
  {
   "cell_type": "markdown",
   "metadata": {},
   "source": [
    "## Q97. Write a NumPy program to compute the cross-correlation of two given arrays ?\n",
    "\n",
    "Sample Output- \n",
    "\n",
    "Original array1-\n",
    "\n",
    "[0 1 3] \n",
    "\n",
    "Original array1- \n",
    "\n",
    "[2 4 5] \n",
    "\n",
    "Cross-correlation of the said arrays- \n",
    "\n",
    "[ [ 2.33333333 2.16666667 ] [ 2.16666667 2.33333333 ] ]"
   ]
  },
  {
   "cell_type": "code",
   "execution_count": 7,
   "metadata": {
    "scrolled": true
   },
   "outputs": [
    {
     "name": "stdout",
     "output_type": "stream",
     "text": [
      "Original array1-\n",
      " [0 1 3]\n",
      "Original array2-\n",
      " [2 4 5]\n",
      "Cross-correlation of the said arrays-\n",
      " [[2.33333333 2.16666667]\n",
      " [2.16666667 2.33333333]]\n"
     ]
    }
   ],
   "source": [
    "import numpy as np\n",
    "\n",
    "arr1 = np.array([0, 1, 3])\n",
    "print('Original array1-\\n', arr1)\n",
    "\n",
    "arr2 = np.array([2, 4, 5])\n",
    "print('Original array2-\\n', arr2)\n",
    "\n",
    "print('Cross-correlation of the said arrays-\\n', np.cov(arr1,arr2))"
   ]
  },
  {
   "cell_type": "markdown",
   "metadata": {},
   "source": [
    "## Q98. Write the NumPy program to compute Pearson product-moment correlation coefficients of two given arrays?\n",
    "\n",
    "Sample Output- \n",
    "\n",
    "Original array1- \n",
    "\n",
    "[0 1 3] \n",
    "\n",
    "Original array1- \n",
    "\n",
    "[2 4 5] \n",
    "\n",
    "Pearson product-moment correlation coefficients of the said arrays- \n",
    "\n",
    "[[1. 0.92857143] [0.92857143 1. ]]"
   ]
  },
  {
   "cell_type": "code",
   "execution_count": 8,
   "metadata": {},
   "outputs": [
    {
     "name": "stdout",
     "output_type": "stream",
     "text": [
      "Original array1-\n",
      " [0 1 3]\n",
      "Original array2-\n",
      " [2 4 5]\n",
      "Pearson product-moment correlation coefficients of the said arrays-\n",
      " [[1.         0.92857143]\n",
      " [0.92857143 1.        ]]\n"
     ]
    }
   ],
   "source": [
    "import numpy as np\n",
    "\n",
    "arr1 = np.array([0, 1, 3])\n",
    "print('Original array1-\\n', arr1)\n",
    "\n",
    "arr2 = np.array([2, 4, 5])\n",
    "print('Original array2-\\n', arr2)\n",
    "\n",
    "print('Pearson product-moment correlation coefficients of the said arrays-\\n', np.corrcoef(arr1,arr2))"
   ]
  },
  {
   "cell_type": "markdown",
   "metadata": {},
   "source": [
    "## Q99. Write the python program to count the number of occurrences of each value in a given array of non-negative integers? \n",
    "\n",
    "Note: bincount() Function- It count the occurrence of each value in an array of the non- negative integers in the range of the array between the minimum and maximum values including the values that did not occur. \n",
    "\n",
    "Sample Output- \n",
    "\n",
    "Original array- \n",
    "\n",
    "[0, 1, 6, 1, 4, 1, 2, 2, 7] \n",
    "\n",
    "Number of occurrences of each value in array- \n",
    "\n",
    "[1 3 2 0 1 0 1 1]"
   ]
  },
  {
   "cell_type": "code",
   "execution_count": 10,
   "metadata": {},
   "outputs": [
    {
     "name": "stdout",
     "output_type": "stream",
     "text": [
      "Original array-\n",
      " [0 1 6 1 4 1 2 2 7]\n",
      "Number of occurrences of each value in array-\n",
      " [1 3 2 0 1 0 1 1]\n"
     ]
    }
   ],
   "source": [
    "import numpy as np\n",
    "\n",
    "arr = np.array([0, 1, 6, 1, 4, 1, 2, 2, 7])\n",
    "print('Original array-\\n', arr)\n",
    "\n",
    "print('Number of occurrences of each value in array-\\n', np.bincount(arr))"
   ]
  },
  {
   "attachments": {
    "image.png": {
     "image/png": "[encoded data removed]"
    }
   },
   "cell_type": "markdown",
   "metadata": {},
   "source": [
    "## Q100. Write a Numpy program to compute the histogram of nums against the bins?\n",
    "\n",
    "Sample Output- \n",
    "\n",
    "nums- [0.5 0.7 1. 1.2 1.3 2.1]\n",
    "\n",
    "bins- [0 1 2 3] \n",
    "\n",
    "Result- (array([2, 3, 1], dtype=int64), array([0, 1, 2, 3]))\n",
    "![image.png](attachment:image.png)"
   ]
  },
  {
   "cell_type": "code",
   "execution_count": 13,
   "metadata": {
    "scrolled": true
   },
   "outputs": [
    {
     "name": "stdout",
     "output_type": "stream",
     "text": [
      "Result-\n",
      " (array([2., 3., 1.]), array([0, 1, 2, 3]), <a list of 3 Patch objects>)\n"
     ]
    },
    {
     "data": {
      "image/png": "[encoded data removed]",
      "text/plain": [
       "<Figure size 432x288 with 1 Axes>"
      ]
     },
     "metadata": {
      "needs_background": "light"
     },
     "output_type": "display_data"
    }
   ],
   "source": [
    "import numpy as np\n",
    "import matplotlib.pyplot as plt\n",
    "\n",
    "nums = np.array([0.5, 0.7, 1., 1.2, 1.3, 2.1])\n",
    "\n",
    "bins = np.array([0, 1, 2, 3])\n",
    "\n",
    "print('Result-\\n', plt.hist(nums,bins=bins))"
   ]
  },
  {
   "cell_type": "markdown",
   "metadata": {},
   "source": [
    "## Q101. Write the Python program to add, subtract, multiply and divide two pandas series ? \n",
    "\n",
    "Sample Series- [2, 4, 6, 8, 10], [1, 3, 5, 7, 9]"
   ]
  },
  {
   "cell_type": "code",
   "execution_count": 25,
   "metadata": {},
   "outputs": [
    {
     "name": "stdout",
     "output_type": "stream",
     "text": [
      "Addition-\n",
      " 0     3\n",
      "1     7\n",
      "2    11\n",
      "3    15\n",
      "4    19\n",
      "dtype: int64\n",
      "Subtraction-\n",
      " 0    1\n",
      "1    1\n",
      "2    1\n",
      "3    1\n",
      "4    1\n",
      "dtype: int64\n",
      "Multiplication-\n",
      " 0     2\n",
      "1    12\n",
      "2    30\n",
      "3    56\n",
      "4    90\n",
      "dtype: int64\n",
      "Division-\n",
      " 0    2.000000\n",
      "1    1.333333\n",
      "2    1.200000\n",
      "3    1.142857\n",
      "4    1.111111\n",
      "dtype: float64\n"
     ]
    }
   ],
   "source": [
    "import numpy as np\n",
    "import pandas as pd\n",
    "\n",
    "a = pd.Series([2, 4, 6, 8, 10])\n",
    "\n",
    "b = pd.Series([1, 3, 5, 7, 9])\n",
    "\n",
    "print('Addition-\\n', a.add(b))\n",
    "\n",
    "print('Subtraction-\\n', a.sub(b))\n",
    "\n",
    "print('Multiplication-\\n', a.mul(b))\n",
    "\n",
    "print('Division-\\n', a.div(b))"
   ]
  },
  {
   "cell_type": "markdown",
   "metadata": {},
   "source": [
    "## Q102. Write a Python program to convert a dictionary to the Pandas Series?\n",
    "\n",
    "Sample Series- \n",
    "\n",
    "Original dictionary- {'a': 100, 'b': 200, 'c': 300, 'd': 400, 'e': 800} \n",
    "\n",
    "Converted series - a 100 b 200 c 300 d 400 e 800 dtype- int64"
   ]
  },
  {
   "cell_type": "code",
   "execution_count": 30,
   "metadata": {
    "scrolled": true
   },
   "outputs": [
    {
     "name": "stdout",
     "output_type": "stream",
     "text": [
      "Original Dictionary-\n",
      " {'a': 100, 'b': 200, 'c': 300, 'd': 400, 'e': 800}\n",
      "Converted series -\n",
      "a    100\n",
      "b    200\n",
      "c    300\n",
      "d    400\n",
      "e    800\n",
      "dtype: int64\n"
     ]
    }
   ],
   "source": [
    "import numpy as np\n",
    "import pandas as pd\n",
    "\n",
    "d = {'a': 100, 'b': 200, 'c': 300, 'd': 400, 'e': 800}\n",
    "print('Original Dictionary-\\n', d)\n",
    "\n",
    "a = pd.Series(d)\n",
    "print('Converted series -')\n",
    "print(a)"
   ]
  },
  {
   "cell_type": "markdown",
   "metadata": {},
   "source": [
    "## Q103. Write a python program to change the data type of given a column or a Series?\n",
    "\n",
    "Sample Series- \n",
    "\n",
    "Original Data Series- \n",
    "\n",
    "0 100\n",
    "\n",
    "1 200 \n",
    "\n",
    "2 python \n",
    "\n",
    "3 300.12 \n",
    "\n",
    "4 400 \n",
    "\n",
    "dtype- object \n",
    "\n",
    "Change the said data type to numeric- \n",
    "\n",
    "0 100.00 \n",
    "\n",
    "1 200.00 \n",
    "\n",
    "2 NaN \n",
    "\n",
    "3 300.12 \n",
    "\n",
    "4 400.00 \n",
    "\n",
    "dtype- float64"
   ]
  },
  {
   "cell_type": "code",
   "execution_count": 33,
   "metadata": {
    "scrolled": true
   },
   "outputs": [
    {
     "name": "stdout",
     "output_type": "stream",
     "text": [
      "Original Data Series-\n",
      "0       100\n",
      "1       200\n",
      "2    python\n",
      "3    300.12\n",
      "4       400\n",
      "dtype: object\n",
      "Change the said data type to numeric-\n",
      "0    100.00\n",
      "1    200.00\n",
      "2       NaN\n",
      "3    300.12\n",
      "4    400.00\n",
      "dtype: float64\n"
     ]
    }
   ],
   "source": [
    "import numpy as np\n",
    "import pandas as pd\n",
    "\n",
    "a = pd.Series([100,200,'python',300.12,400])\n",
    "print('Original Data Series-')\n",
    "print(a)\n",
    "\n",
    "a[2] = np.nan\n",
    "\n",
    "print('Change the said data type to numeric-')\n",
    "print(a.astype('float64'))"
   ]
  },
  {
   "cell_type": "code",
   "execution_count": 34,
   "metadata": {},
   "outputs": [
    {
     "name": "stdout",
     "output_type": "stream",
     "text": [
      "Original Data Series-\n",
      "0       100\n",
      "1       200\n",
      "2    python\n",
      "3    300.12\n",
      "4       400\n",
      "dtype: object\n",
      "Change the said data type to numeric-\n",
      "0    100.00\n",
      "1    200.00\n",
      "2       NaN\n",
      "3    300.12\n",
      "4    400.00\n",
      "dtype: float64\n"
     ]
    }
   ],
   "source": [
    "import numpy as np\n",
    "import pandas as pd\n",
    "\n",
    "a = pd.Series([100,200,'python',300.12,400])\n",
    "print('Original Data Series-')\n",
    "print(a)\n",
    "\n",
    "\n",
    "print('Change the said data type to numeric-')\n",
    "print(pd.to_numeric(a, errors='coerce'))"
   ]
  },
  {
   "cell_type": "markdown",
   "metadata": {},
   "source": [
    "## Q104. Write the python pandas program to convert the first column of a DataFrame as a Series? \n",
    "\n",
    "Sample Output- \n",
    "\n",
    "Original DataFrame- \n",
    "\n",
    "col1 col2 col3 \n",
    "\n",
    "0 1 4 7 \n",
    "\n",
    "1 2 5 5 \n",
    "\n",
    "2 3 6 8 \n",
    "\n",
    "3 4 9 12 \n",
    "\n",
    "4 7 5 1 \n",
    "\n",
    "5 11 0 11 \n",
    "\n",
    "1st column as a Series- \n",
    "\n",
    "0 1 1 2 2 3 3 4 4 7 5 11 Name- col1, dtype- int64 <class 'pandas.core.series.Series'>"
   ]
  },
  {
   "cell_type": "code",
   "execution_count": 40,
   "metadata": {},
   "outputs": [
    {
     "name": "stdout",
     "output_type": "stream",
     "text": [
      "Original DataFrame-\n",
      "   col1  col2  col3\n",
      "0     1     4     7\n",
      "1     2     5     5\n",
      "2     3     6     8\n",
      "3     4     9    12\n",
      "4     7     5     1\n",
      "5    11     0    11\n",
      "1st column as a Series-\n",
      "0     1\n",
      "1     2\n",
      "2     3\n",
      "3     4\n",
      "4     7\n",
      "5    11\n",
      "Name: col1, dtype: int64\n",
      "<class 'pandas.core.series.Series'>\n"
     ]
    }
   ],
   "source": [
    "import numpy as np\n",
    "import pandas as pd\n",
    "\n",
    "data = [[1,4,7],\n",
    "       [2,5,5],\n",
    "       [3,6,8],\n",
    "       [4,9,12],\n",
    "       [7,5,1],\n",
    "       [11,0,11]]\n",
    "\n",
    "df = pd.DataFrame(data,columns=['col1','col2','col3'])\n",
    "print('Original DataFrame-')\n",
    "print(df)\n",
    "\n",
    "print('1st column as a Series-')\n",
    "print(df.iloc[:,0])\n",
    "print(type(df.iloc[:,0]))"
   ]
  },
  {
   "cell_type": "markdown",
   "metadata": {},
   "source": [
    "## Q105. Write a pandas program to create the mean and standard deviation of the data of a given Series?\n",
    "\n",
    "Sample Output- \n",
    "\n",
    "Original Data Series- \n",
    "\n",
    "0 1 \n",
    "\n",
    "1 2 \n",
    "\n",
    "2 3 \n",
    "\n",
    "3 4 \n",
    "\n",
    "4 5 \n",
    "\n",
    "5 6 \n",
    "\n",
    "6 7 \n",
    "\n",
    "7 8 \n",
    "\n",
    "8 9 \n",
    "\n",
    "9 5 \n",
    "\n",
    "10 3 \n",
    "\n",
    "dtype- int64 \n",
    "\n",
    "Mean of the said Data Series- 4.81818181818 \n",
    "\n",
    "Standard deviation of the said Data Series- 2.52262489555"
   ]
  },
  {
   "cell_type": "code",
   "execution_count": 44,
   "metadata": {
    "scrolled": true
   },
   "outputs": [
    {
     "name": "stdout",
     "output_type": "stream",
     "text": [
      "Original Data Series-\n",
      "0     1\n",
      "1     2\n",
      "2     3\n",
      "3     4\n",
      "4     5\n",
      "5     6\n",
      "6     7\n",
      "7     8\n",
      "8     9\n",
      "9     5\n",
      "10    3\n",
      "dtype: int64\n",
      "Mean of the said Data Series-\n",
      "4.818181818181818\n",
      "Standard deviation of the said Data Series-\n",
      "2.522624895547565\n"
     ]
    }
   ],
   "source": [
    "import numpy as np\n",
    "import pandas as pd\n",
    "\n",
    "ds = pd.Series([1,2,3,4,5,6,7,8,9,5,3])\n",
    "print('Original Data Series-')\n",
    "print(ds)\n",
    "\n",
    "print('Mean of the said Data Series-')\n",
    "print(ds.mean())\n",
    "\n",
    "print('Standard deviation of the said Data Series-')\n",
    "print(ds.std())\n"
   ]
  },
  {
   "cell_type": "markdown",
   "metadata": {},
   "source": [
    "## Q106. Write a pandas program to get powers of an array values element-wise? \n",
    "\n",
    "Note First array elements raised the powers from the second array. \n",
    "\n",
    "Sample data: {'X ':[78,85,96,80,86], ' Y ':[84,94,89,83,86],'Z':[86,97,96,72,83]} \n",
    "\n",
    "Expected Output: \n",
    "\n",
    "X Y Z \n",
    "\n",
    "0 78 84 86 \n",
    "\n",
    "1 85 94 97 \n",
    "\n",
    "2 96 89 96 \n",
    "\n",
    "3 80 83 72 \n",
    "\n",
    "4 86 86 83"
   ]
  },
  {
   "cell_type": "code",
   "execution_count": 9,
   "metadata": {},
   "outputs": [
    {
     "name": "stdout",
     "output_type": "stream",
     "text": [
      "Array:  [0 1 2 3 4]\n"
     ]
    },
    {
     "data": {
      "text/html": [
       "<div>\n",
       "<style scoped>\n",
       "    .dataframe tbody tr th:only-of-type {\n",
       "        vertical-align: middle;\n",
       "    }\n",
       "\n",
       "    .dataframe tbody tr th {\n",
       "        vertical-align: top;\n",
       "    }\n",
       "\n",
       "    .dataframe thead th {\n",
       "        text-align: right;\n",
       "    }\n",
       "</style>\n",
       "<table border=\"1\" class=\"dataframe\">\n",
       "  <thead>\n",
       "    <tr style=\"text-align: right;\">\n",
       "      <th></th>\n",
       "      <th>X</th>\n",
       "      <th>Y</th>\n",
       "      <th>Z</th>\n",
       "    </tr>\n",
       "  </thead>\n",
       "  <tbody>\n",
       "    <tr>\n",
       "      <th>0</th>\n",
       "      <td>1</td>\n",
       "      <td>1</td>\n",
       "      <td>1</td>\n",
       "    </tr>\n",
       "    <tr>\n",
       "      <th>1</th>\n",
       "      <td>85</td>\n",
       "      <td>94</td>\n",
       "      <td>97</td>\n",
       "    </tr>\n",
       "    <tr>\n",
       "      <th>2</th>\n",
       "      <td>9216</td>\n",
       "      <td>7921</td>\n",
       "      <td>9216</td>\n",
       "    </tr>\n",
       "    <tr>\n",
       "      <th>3</th>\n",
       "      <td>512000</td>\n",
       "      <td>571787</td>\n",
       "      <td>373248</td>\n",
       "    </tr>\n",
       "    <tr>\n",
       "      <th>4</th>\n",
       "      <td>54700816</td>\n",
       "      <td>54700816</td>\n",
       "      <td>47458321</td>\n",
       "    </tr>\n",
       "  </tbody>\n",
       "</table>\n",
       "</div>"
      ],
      "text/plain": [
       "         X         Y          Z\n",
       "0         1         1         1\n",
       "1        85        94        97\n",
       "2      9216      7921      9216\n",
       "3    512000    571787    373248\n",
       "4  54700816  54700816  47458321"
      ]
     },
     "execution_count": 9,
     "metadata": {},
     "output_type": "execute_result"
    }
   ],
   "source": [
    "import numpy as np\n",
    "import pandas as pd\n",
    "\n",
    "df = pd.DataFrame({'X ':[78,85,96,80,86], ' Y ':[84,94,89,83,86],'Z':[86,97,96,72,83]})\n",
    "\n",
    "arr = np.arange(5)\n",
    "print('Array: ', arr)\n",
    "\n",
    "df.pow(arr, axis=0)"
   ]
  },
  {
   "cell_type": "markdown",
   "metadata": {},
   "source": [
    "## Q107. Write the pandas program to get the first 3 rows of a given DataFrame?\n",
    "\n",
    "Sample Python dictionary data and list labels- \n",
    "\n",
    "exam_data = {'name': ['Anastasia', 'Dima', 'Katherine', 'James', 'Emily', 'Michael', 'Matthew', 'Laura', 'Kevin', 'Jonas'], 'score': [12.5, 9, 16.5, np.nan, 9, 20, 14.5, np.nan, 8, 19], 'attempts'- [1, 3, 2, 3, 2, 3, 1, 1, 2, 1], 'qualify'- [ 'yes', 'no', 'yes' , 'no', ' no ', ' yes ', 'yes', 'no', 'no', 'yes' ] } \n",
    "\n",
    "labels = ['a', 'b', 'c', 'd', 'e', 'f', 'g', 'h', 'i', 'j' ] \n",
    "\n",
    "Expected Output- \n",
    "\n",
    "First three rows of the data frame- \n",
    "\n",
    "attempts name qualify score \n",
    "\n",
    "a 1 Anastasia yes 12.5 \n",
    "\n",
    "b 3 Dima no 9.0 \n",
    "\n",
    "c 2 Katherine yes 16.5"
   ]
  },
  {
   "cell_type": "code",
   "execution_count": 17,
   "metadata": {},
   "outputs": [
    {
     "name": "stdout",
     "output_type": "stream",
     "text": [
      "First three rows of the data frame-\n",
      "   attempts       name qualify  score\n",
      "a         1  Anastasia     yes   12.5\n",
      "b         3       Dima      no    9.0\n",
      "c         2  Katherine     yes   16.5\n"
     ]
    }
   ],
   "source": [
    "import numpy as np\n",
    "import pandas as pd\n",
    "\n",
    "exam_data = {'name': ['Anastasia', 'Dima', 'Katherine', 'James', 'Emily', 'Michael', 'Matthew', 'Laura', 'Kevin', 'Jonas'], 'score': [12.5, 9, 16.5, np.nan, 9, 20, 14.5, np.nan, 8, 19], 'attempts': [1, 3, 2, 3, 2, 3, 1, 1, 2, 1], 'qualify': [ 'yes', 'no', 'yes' , 'no', ' no ', ' yes ', 'yes', 'no', 'no', 'yes' ] }\n",
    "\n",
    "labels = ['a', 'b', 'c', 'd', 'e', 'f', 'g', 'h', 'i', 'j' ]\n",
    "\n",
    "df = pd.DataFrame(exam_data, index=labels)\n",
    "df = df[['attempts', 'name', 'qualify', 'score']]\n",
    "\n",
    "print('First three rows of the data frame-')\n",
    "print(df.iloc[:3])"
   ]
  },
  {
   "cell_type": "markdown",
   "metadata": {},
   "source": [
    "## Q108: Write the pandas program to select the specified columns and the rows from a given data frame?\n",
    "\n",
    "Sample Python dictionary data and list labels- \n",
    "\n",
    "Select 'name' and 'score' columns in rows 1, 3, 5, 6 from the following data frame. \n",
    "\n",
    "exam_data = {'name ': [ 'Anastasia', 'Dima', 'Katherine', 'James', 'Emily', 'Michael', 'Matthew', 'Laura', 'Kevin', 'Jonas'], 'score'- [12.5, 9, 16.5, np.nan, 9, 20, 14.5, np.nan, 8, 19], 'attempts'- [1, 3, 2, 3, 2, 3, 1, 1, 2, 1], 'qualify'- ['yes', 'no', 'yes', 'no', 'no', 'yes', 'yes', 'no', 'no', 'yes'] } \n",
    "\n",
    "labels = ['a ', ' b ', ' c ', ' d ', ' e ', ' f ', ' g ', 'h', 'i', 'j'] \n",
    "\n",
    "Expected Output- \n",
    "\n",
    "Select specific columns and rows- \n",
    "\n",
    "name score \n",
    "\n",
    "b Dima 9.0 \n",
    "\n",
    "d James NaN \n",
    "\n",
    "f Michael 20.0 \n",
    "\n",
    "g Matthew 14.5"
   ]
  },
  {
   "cell_type": "code",
   "execution_count": 25,
   "metadata": {},
   "outputs": [
    {
     "name": "stdout",
     "output_type": "stream",
     "text": [
      "Select specific columns and rows-\n",
      "      name  score\n",
      "b     Dima    9.0\n",
      "d    James    NaN\n",
      "f  Michael   20.0\n",
      "g  Matthew   14.5\n"
     ]
    }
   ],
   "source": [
    "import numpy as np\n",
    "import pandas as pd\n",
    "\n",
    "exam_data = {'name': ['Anastasia', 'Dima', 'Katherine', 'James', 'Emily', 'Michael', 'Matthew', 'Laura', 'Kevin', 'Jonas'], 'score': [12.5, 9, 16.5, np.nan, 9, 20, 14.5, np.nan, 8, 19], 'attempts': [1, 3, 2, 3, 2, 3, 1, 1, 2, 1], 'qualify': [ 'yes', 'no', 'yes' , 'no', ' no ', ' yes ', 'yes', 'no', 'no', 'yes' ] }\n",
    "\n",
    "labels = ['a', 'b', 'c', 'd', 'e', 'f', 'g', 'h', 'i', 'j' ]\n",
    "\n",
    "df = pd.DataFrame(exam_data, index=labels)\n",
    "\n",
    "print('Select specific columns and rows-')\n",
    "\n",
    "print(df.iloc[[1,3,5,6],0:2])"
   ]
  },
  {
   "cell_type": "markdown",
   "metadata": {},
   "source": [
    "## Q109. Write the pandas program to calculate mean score for each different student in DataFrame?\n",
    "\n",
    "\n",
    "Sample Python dictionary data and list labels- \n",
    "\n",
    "exam_data = {'name': ['Anastasia', 'Dima', 'Katherine', 'James', 'Emily', 'Michael', 'Matthew', 'Laura', 'Kevin', 'Jonas'], 'score': [12.5, 9, 16.5, np.nan, 9, 20, 14.5, np.nan, 8, 19], 'attempts'- [1, 3, 2, 3, 2, 3, 1, 1, 2, 1], 'qualify'- ['yes', 'no', ' yes ', ' no ', ' no ', ' yes ', ' yes ', ' no ', ' no ', ' yes '] } \n",
    "\n",
    "labels = ['a', 'b', 'c', 'd', 'e', 'f', 'g', 'h', 'i', 'j'] \n",
    "\n",
    "Expected Output- \n",
    "\n",
    "Mean score for each different student in data frame: 13.5625"
   ]
  },
  {
   "cell_type": "code",
   "execution_count": 28,
   "metadata": {},
   "outputs": [
    {
     "name": "stdout",
     "output_type": "stream",
     "text": [
      "Mean score for each different student in data frame:  13.5625\n"
     ]
    }
   ],
   "source": [
    "import numpy as np\n",
    "import pandas as pd\n",
    "\n",
    "exam_data = {'name': ['Anastasia', 'Dima', 'Katherine', 'James', 'Emily', 'Michael', 'Matthew', 'Laura', 'Kevin', 'Jonas'], 'score': [12.5, 9, 16.5, np.nan, 9, 20, 14.5, np.nan, 8, 19], 'attempts': [1, 3, 2, 3, 2, 3, 1, 1, 2, 1], 'qualify': [ 'yes', 'no', 'yes' , 'no', ' no ', ' yes ', 'yes', 'no', 'no', 'yes' ] }\n",
    "\n",
    "labels = ['a', 'b', 'c', 'd', 'e', 'f', 'g', 'h', 'i', 'j' ]\n",
    "\n",
    "df = pd.DataFrame(exam_data, index=labels)\n",
    "\n",
    "print('Mean score for each different student in data frame: ', df['score'].mean())"
   ]
  },
  {
   "cell_type": "markdown",
   "metadata": {},
   "source": [
    "## Q110. Write the Pandas program to rename columns of a given DataFrame ?\n",
    "\n",
    "Sample data- \n",
    "\n",
    "Original data frame \n",
    "\n",
    "col1 col2 col3 \n",
    "\n",
    "0 1 4 7 \n",
    "\n",
    "1 2 5 8 \n",
    "\n",
    "2 3 6 9 \n",
    "\n",
    "New data frame after renaming columns: \n",
    "\n",
    "Column1 Column2 Column3 \n",
    "\n",
    "0 1 4 7 \n",
    "\n",
    "1 2 5 8 \n",
    "\n",
    "2 3 6 9"
   ]
  },
  {
   "cell_type": "code",
   "execution_count": 38,
   "metadata": {},
   "outputs": [
    {
     "name": "stdout",
     "output_type": "stream",
     "text": [
      "Original data frame\n",
      "   col1  col2  col3\n",
      "0     1     4     7\n",
      "1     2     5     8\n",
      "2     3     6     9\n",
      "New data frame after renaming columns:\n",
      "   Column1  Column2  Column3\n",
      "0        1        4        7\n",
      "1        2        5        8\n",
      "2        3        6        9\n"
     ]
    }
   ],
   "source": [
    "import numpy as np\n",
    "import pandas as pd\n",
    "\n",
    "df = pd.DataFrame(np.transpose(np.arange(1,10).reshape(3,3)), columns=['col1','col2','col3'])\n",
    "\n",
    "print('Original data frame')\n",
    "print(df)\n",
    "df.columns = ['Column1', 'Column2', 'Column3']\n",
    "print('New data frame after renaming columns:')\n",
    "print(df)"
   ]
  },
  {
   "cell_type": "markdown",
   "metadata": {},
   "source": [
    "## Q111. Write a pandas program to count city-wise number of people from a given of data set (city, name of the person)?\n",
    "\n",
    "Sample data-\n",
    "\n",
    "city Number of people \n",
    "\n",
    "0 California 4 \n",
    "\n",
    "1 Georgia 2 \n",
    "\n",
    "2 Los Angeles 4"
   ]
  },
  {
   "cell_type": "code",
   "execution_count": null,
   "metadata": {},
   "outputs": [],
   "source": [
    "import numpy as np\n",
    "import pandas as pd\n",
    "\n"
   ]
  },
  {
   "cell_type": "markdown",
   "metadata": {},
   "source": [
    "## Q112. Write a pandas program to widen output display to see more columns?\n",
    "\n",
    "Sample data- \n",
    "\n",
    "Original data frame \n",
    "\n",
    "col1 col2 col3 \n",
    "\n",
    "0 1 4 7 \n",
    "\n",
    "1 4 5 8 \n",
    "\n",
    "2 3 6 9 \n",
    "\n",
    "3 4 7 0 \n",
    "\n",
    "4 5 8 1"
   ]
  },
  {
   "cell_type": "code",
   "execution_count": 44,
   "metadata": {
    "scrolled": false
   },
   "outputs": [
    {
     "name": "stdout",
     "output_type": "stream",
     "text": [
      "Original data frame \n",
      "   col1  col2  col3\n",
      "0     1     4     7\n",
      "1     4     5     8\n",
      "2     3     6     9\n",
      "3     4     7     0\n",
      "4     5     8     1\n",
      "Original data frame with wide display\n",
      "   col1  col2  col3\n",
      "0     1     4     7\n",
      "1     4     5     8\n",
      "2     3     6     9\n",
      "3     4     7     0\n",
      "4     5     8     1\n"
     ]
    }
   ],
   "source": [
    "import pandas as pd\n",
    "import numpy as np\n",
    "\n",
    "df = pd.DataFrame({'col1': [1, 4, 3, 4, 5], 'col2': [4, 5, 6, 7, 8], 'col3': [7, 8, 9, 0, 1]})\n",
    "print(\"Original data frame \")\n",
    "print(df)\n",
    "\n",
    "\n",
    "pd.set_option('display.max_rows', 500)\n",
    "pd.set_option('display.max_columns', 500)\n",
    "pd.set_option('display.width', 1000)\n",
    "print(\"Original data frame with wide display\")\n",
    "print(df)"
   ]
  },
  {
   "cell_type": "markdown",
   "metadata": {},
   "source": [
    "## Q113. Write a pandas program to convert the data frame column type from string to DateTime?\n",
    "\n",
    "Sample data-\n",
    "\n",
    "String Date- \n",
    "\n",
    "0 3/11/2000 \n",
    "\n",
    "1 3/12/2000 \n",
    "\n",
    "2 3/13/2000 \n",
    "\n",
    "dtype- object \n",
    "\n",
    "Original DataFrame (string to datetime)- \n",
    "\n",
    "0 \n",
    "\n",
    "0 2000-03-11 \n",
    "\n",
    "1 2000-03-12 \n",
    "\n",
    "2 2000-03-13"
   ]
  },
  {
   "cell_type": "code",
   "execution_count": 58,
   "metadata": {},
   "outputs": [
    {
     "name": "stdout",
     "output_type": "stream",
     "text": [
      "String Date-\n",
      "           0\n",
      "0  3/11/2000\n",
      "1  3/12/2000\n",
      "2  3/13/2000\n",
      "0    object\n",
      "dtype: object\n",
      "Original DataFrame (string to datetime)-\n",
      "           0\n",
      "0 2000-03-11\n",
      "1 2000-03-12\n",
      "2 2000-03-13\n"
     ]
    }
   ],
   "source": [
    "import pandas as pd\n",
    "import numpy as np\n",
    "\n",
    "df = pd.DataFrame(['3/11/2000', '3/12/2000', '3/13/2000'])\n",
    "print('String Date-')\n",
    "print(df)\n",
    "print(df.dtypes)\n",
    "\n",
    "print('Original DataFrame (string to datetime)-')\n",
    "print(df.astype('datetime64[ns]'))"
   ]
  },
  {
   "cell_type": "markdown",
   "metadata": {},
   "source": [
    "## Q114. Write a pandas program to append the data to an empty DataFrame?\n",
    "\n",
    "Sample data- \n",
    "\n",
    "Original DataFrame- \n",
    "\n",
    "\n",
    "After appending some data: col1 col2 0 0 0 1 1 1 2 2 2"
   ]
  },
  {
   "cell_type": "code",
   "execution_count": 68,
   "metadata": {},
   "outputs": [
    {
     "name": "stdout",
     "output_type": "stream",
     "text": [
      "After appending some data:\n",
      "   col1  col2\n",
      "0     0     0\n",
      "1     1     1\n",
      "2     2     2\n"
     ]
    }
   ],
   "source": [
    "import pandas as pd\n",
    "import numpy as np\n",
    "\n",
    "df = pd.DataFrame()\n",
    "df1 = pd.DataFrame({'col1':[0,1,2], 'col2':[0,1,2]})\n",
    "df = df.append(df1)\n",
    "print('After appending some data:')\n",
    "print(df)"
   ]
  },
  {
   "cell_type": "markdown",
   "metadata": {},
   "source": [
    "## Q115. Write a pandas program to count the number of columns of a DataFrame?\n",
    "\n",
    "\n",
    "Sample Output- \n",
    "\n",
    "Original DataFrame \n",
    "\n",
    "col1 col2 col3 \n",
    "\n",
    "0 1 4 7 \n",
    "\n",
    "1 2 5 8 \n",
    "\n",
    "2 3 6 12 \n",
    "\n",
    "3 4 9 1 \n",
    "\n",
    "4 7 5 11 \n",
    "\n",
    "Number of columns- 3"
   ]
  },
  {
   "cell_type": "code",
   "execution_count": 75,
   "metadata": {},
   "outputs": [
    {
     "name": "stdout",
     "output_type": "stream",
     "text": [
      "Original DataFrame \n",
      "   0   1   2\n",
      "0  1   6  11\n",
      "1  2   7  12\n",
      "2  3   8  13\n",
      "3  4   9  14\n",
      "4  5  10  15\n",
      "Number of columns 3\n"
     ]
    }
   ],
   "source": [
    "import pandas as pd\n",
    "import numpy as np\n",
    "\n",
    "df = pd.DataFrame(np.transpose(np.arange(1,16).reshape(3,5)))\n",
    "\n",
    "print('Original DataFrame ')\n",
    "print(df)\n",
    "print('Number of columns', len(df.columns))"
   ]
  },
  {
   "cell_type": "markdown",
   "metadata": {},
   "source": [
    "## Q116. Write a Pandas program to remove the last n rows of a given DataFrame ?\n",
    "\n",
    "Sample Output: \n",
    "\n",
    "Original DataFrame \n",
    "\n",
    "col1 col2 col3 \n",
    "\n",
    "0 1 4 7 \n",
    "\n",
    "1 2 5 5 \n",
    "\n",
    "2 3 6 8 \n",
    "\n",
    "3 4 9 12 \n",
    "\n",
    "4 7 5 1 \n",
    "\n",
    "5 11 0 11 \n",
    "\n",
    "After removing last 3 rows of the said DataFrame- \n",
    "\n",
    "col1 col2 col3 \n",
    "\n",
    "0 1 4 7 \n",
    "\n",
    "1 2 5 5 \n",
    "\n",
    "2 3 6 8"
   ]
  },
  {
   "cell_type": "code",
   "execution_count": 79,
   "metadata": {},
   "outputs": [
    {
     "name": "stdout",
     "output_type": "stream",
     "text": [
      "Original DataFrame \n",
      "   0   1   2\n",
      "0  1   7  13\n",
      "1  2   8  14\n",
      "2  3   9  15\n",
      "3  4  10  16\n",
      "4  5  11  17\n",
      "5  6  12  18\n",
      "After removing last 3 rows of the said DataFrame-\n",
      "   0  1   2\n",
      "0  1  7  13\n",
      "1  2  8  14\n",
      "2  3  9  15\n"
     ]
    }
   ],
   "source": [
    "import pandas as pd\n",
    "import numpy as np\n",
    "\n",
    "df = pd.DataFrame(np.transpose(np.arange(1,19).reshape(3,6)))\n",
    "\n",
    "n = 3    # no of rows to be removed from the last\n",
    "print('Original DataFrame ')\n",
    "print(df)\n",
    "\n",
    "df = df.iloc[:-n]\n",
    "print('After removing last 3 rows of the said DataFrame-')\n",
    "print(df)"
   ]
  },
  {
   "cell_type": "markdown",
   "metadata": {},
   "source": [
    "## Q117. Write a Pandas program to import excel data (coalpublic2013.xlsx ) into a Pandas data frame."
   ]
  },
  {
   "cell_type": "code",
   "execution_count": 81,
   "metadata": {
    "scrolled": true
   },
   "outputs": [
    {
     "data": {
      "text/html": [
       "<div>\n",
       "<style scoped>\n",
       "    .dataframe tbody tr th:only-of-type {\n",
       "        vertical-align: middle;\n",
       "    }\n",
       "\n",
       "    .dataframe tbody tr th {\n",
       "        vertical-align: top;\n",
       "    }\n",
       "\n",
       "    .dataframe thead th {\n",
       "        text-align: right;\n",
       "    }\n",
       "</style>\n",
       "<table border=\"1\" class=\"dataframe\">\n",
       "  <thead>\n",
       "    <tr style=\"text-align: right;\">\n",
       "      <th></th>\n",
       "      <th>Year</th>\n",
       "      <th>MSHA ID</th>\n",
       "      <th>Mine_Name</th>\n",
       "      <th>Production</th>\n",
       "      <th>Labor_Hours</th>\n",
       "    </tr>\n",
       "  </thead>\n",
       "  <tbody>\n",
       "    <tr>\n",
       "      <th>0</th>\n",
       "      <td>2013</td>\n",
       "      <td>103381</td>\n",
       "      <td>Tacoa Highwall Miner</td>\n",
       "      <td>56004</td>\n",
       "      <td>22392</td>\n",
       "    </tr>\n",
       "    <tr>\n",
       "      <th>1</th>\n",
       "      <td>2013</td>\n",
       "      <td>103404</td>\n",
       "      <td>Reid School Mine</td>\n",
       "      <td>28807</td>\n",
       "      <td>28447</td>\n",
       "    </tr>\n",
       "    <tr>\n",
       "      <th>2</th>\n",
       "      <td>2013</td>\n",
       "      <td>100759</td>\n",
       "      <td>North River #1 Underground Min</td>\n",
       "      <td>1440115</td>\n",
       "      <td>474784</td>\n",
       "    </tr>\n",
       "    <tr>\n",
       "      <th>3</th>\n",
       "      <td>2013</td>\n",
       "      <td>103246</td>\n",
       "      <td>Bear Creek</td>\n",
       "      <td>87587</td>\n",
       "      <td>29193</td>\n",
       "    </tr>\n",
       "    <tr>\n",
       "      <th>4</th>\n",
       "      <td>2013</td>\n",
       "      <td>103451</td>\n",
       "      <td>Knight Mine</td>\n",
       "      <td>147499</td>\n",
       "      <td>46393</td>\n",
       "    </tr>\n",
       "  </tbody>\n",
       "</table>\n",
       "</div>"
      ],
      "text/plain": [
       "   Year  MSHA ID                       Mine_Name  Production  Labor_Hours\n",
       "0  2013   103381            Tacoa Highwall Miner       56004        22392\n",
       "1  2013   103404                Reid School Mine       28807        28447\n",
       "2  2013   100759  North River #1 Underground Min     1440115       474784\n",
       "3  2013   103246                      Bear Creek       87587        29193\n",
       "4  2013   103451                     Knight Mine      147499        46393"
      ]
     },
     "execution_count": 81,
     "metadata": {},
     "output_type": "execute_result"
    }
   ],
   "source": [
    "import pandas as pd\n",
    "import numpy as np\n",
    "\n",
    "df = pd.read_excel('coalpublic2013.xlsx')\n",
    "\n",
    "df.head()"
   ]
  },
  {
   "cell_type": "markdown",
   "metadata": {},
   "source": [
    "## Q118. Write a Pandas program to import excel data (coalpublic2013.xlsx ) into a data frame and find details where \"Mine Name\" starts with \"P."
   ]
  },
  {
   "cell_type": "code",
   "execution_count": 118,
   "metadata": {
    "scrolled": true
   },
   "outputs": [
    {
     "name": "stdout",
     "output_type": "stream",
     "text": [
      "   Year  MSHA ID                       Mine_Name  Production  Labor_Hours\n",
      "0  2013   103381            Tacoa Highwall Miner       56004        22392\n",
      "1  2013   103404                Reid School Mine       28807        28447\n",
      "2  2013   100759  North River #1 Underground Min     1440115       474784\n",
      "3  2013   103246                      Bear Creek       87587        29193\n",
      "4  2013   103451                     Knight Mine      147499        46393\n",
      "\n",
      "\"Mine Name\" starts with \"P\" :\n",
      "     Year  MSHA ID                      Mine_Name  Production  Labor_Hours\n",
      "13  2013   103332                  Powhatan Mine      140521        61394\n",
      "18  2013   102976  Piney Woods Preparation Plant           0        14828\n",
      "19  2013   102976  Piney Woods Preparation Plant           0        23193\n",
      "46  2013   103321                 Poplar Springs      189370        76366\n"
     ]
    }
   ],
   "source": [
    "import pandas as pd\n",
    "import numpy as np\n",
    "\n",
    "df = pd.read_excel('coalpublic2013.xlsx')\n",
    "\n",
    "print(df.head())\n",
    "print()\n",
    "\n",
    "print('\"Mine Name\" starts with \"P\" :\\n',df.loc[df['Mine_Name'].str.startswith('P')])"
   ]
  },
  {
   "cell_type": "markdown",
   "metadata": {},
   "source": [
    "## Q119. Write a Pandas program to import excel data (employee.xlsx ) into a Pandas dataframe and find the list of employees where hire_date> 01-01-07."
   ]
  },
  {
   "cell_type": "code",
   "execution_count": 119,
   "metadata": {
    "scrolled": true
   },
   "outputs": [
    {
     "name": "stdout",
     "output_type": "stream",
     "text": [
      "   emp_id first_name last_name  hire_date\n",
      "0     100     Steven      King 2003-06-17\n",
      "1     101      Neena   Kochhar 2005-09-21\n",
      "2     102        Lex   De Haan 2001-01-13\n",
      "3     103  Alexander    Hunold 2006-01-03\n",
      "4     104      Bruce     Ernst 2007-05-21\n",
      "\n",
      "list of employees where hire_date> 01-01-07: \n",
      "     emp_id first_name   last_name  hire_date\n",
      "4      104      Bruce       Ernst 2007-05-21\n",
      "7      107      Diana     Lorentz 2007-02-07\n",
      "13     113       Luis        Popp 2007-12-07\n",
      "19     119      Karen  Colmenares 2007-08-10\n"
     ]
    }
   ],
   "source": [
    "import pandas as pd\n",
    "import numpy as np\n",
    "\n",
    "df = pd.read_excel('employee.xlsx')\n",
    "print(df.head())\n",
    "\n",
    "print()\n",
    "print('list of employees where hire_date> 01-01-07: \\n', df.loc[df['hire_date'] > '01-01-07'])"
   ]
  },
  {
   "cell_type": "markdown",
   "metadata": {},
   "source": [
    "## Q120. Write a Pandas program to import excel data (employee.xlsx ) into a Pandas dataframe and find a list of the employees of a specified year"
   ]
  },
  {
   "cell_type": "code",
   "execution_count": 135,
   "metadata": {
    "scrolled": true
   },
   "outputs": [
    {
     "name": "stdout",
     "output_type": "stream",
     "text": [
      "    emp_id   first_name   last_name  hire_date\n",
      "0      100       Steven        King 2003-06-17\n",
      "1      101        Neena     Kochhar 2005-09-21\n",
      "2      102          Lex     De Haan 2001-01-13\n",
      "3      103    Alexander      Hunold 2006-01-03\n",
      "4      104        Bruce       Ernst 2007-05-21\n",
      "5      105        David      Austin 2005-06-25\n",
      "6      106        Valli   Pataballa 2006-02-05\n",
      "7      107        Diana     Lorentz 2007-02-07\n",
      "8      108        Nancy   Greenberg 2002-08-17\n",
      "9      109       Daniel      Faviet 2002-08-16\n",
      "10     110         John        Chen 2005-09-28\n",
      "11     111       Ismael     Sciarra 2005-09-30\n",
      "12     112  Jose Manuel       Urman 2006-03-07\n",
      "13     113         Luis        Popp 2007-12-07\n",
      "14     114          Den    Raphaely 2002-12-07\n",
      "15     115    Alexander        Khoo 2003-05-18\n",
      "16     116       Shelli       Baida 2005-12-24\n",
      "17     117        Sigal      Tobias 2005-07-24\n",
      "18     118          Guy      Himuro 2006-11-15\n",
      "19     119        Karen  Colmenares 2007-08-10\n",
      "\n",
      "list of the employees of year 2005     emp_id first_name last_name  hire_date\n",
      "1      101      Neena   Kochhar 2005-09-21\n",
      "5      105      David    Austin 2005-06-25\n",
      "10     110       John      Chen 2005-09-28\n",
      "11     111     Ismael   Sciarra 2005-09-30\n",
      "16     116     Shelli     Baida 2005-12-24\n",
      "17     117      Sigal    Tobias 2005-07-24\n"
     ]
    }
   ],
   "source": [
    "import pandas as pd\n",
    "import numpy as np\n",
    "import datetime as dt\n",
    "\n",
    "df = pd.read_excel('employee.xlsx')\n",
    "print(df)\n",
    "\n",
    "\n",
    "print()\n",
    "print('list of the employees of year 2005', df.loc[df['hire_date'].dt.year == 2005])"
   ]
  },
  {
   "cell_type": "markdown",
   "metadata": {},
   "source": [
    "## Q121. Write a pandas program to import three datasheets from a given excel data (coalpublic2013.xlsx ) in to a single dataframe."
   ]
  },
  {
   "cell_type": "code",
   "execution_count": 138,
   "metadata": {
    "scrolled": true
   },
   "outputs": [
    {
     "name": "stdout",
     "output_type": "stream",
     "text": [
      "    emp_id   first_name    last_name  hire_date\n",
      "0      100       Steven         King 2003-06-17\n",
      "1      101        Neena      Kochhar 2005-09-21\n",
      "2      102          Lex      De Haan 2001-01-13\n",
      "3      103    Alexander       Hunold 2006-01-03\n",
      "4      104        Bruce        Ernst 2007-05-21\n",
      "5      105        David       Austin 2005-06-25\n",
      "6      106        Valli    Pataballa 2006-02-05\n",
      "7      107        Diana      Lorentz 2007-02-07\n",
      "8      108        Nancy    Greenberg 2002-08-17\n",
      "9      109       Daniel       Faviet 2002-08-16\n",
      "10     110         John         Chen 2005-09-28\n",
      "11     111       Ismael      Sciarra 2005-09-30\n",
      "12     112  Jose Manuel        Urman 2006-03-07\n",
      "13     113         Luis         Popp 2007-12-07\n",
      "14     114          Den     Raphaely 2002-12-07\n",
      "15     115    Alexander         Khoo 2003-05-18\n",
      "16     116       Shelli        Baida 2005-12-24\n",
      "17     117        Sigal       Tobias 2005-07-24\n",
      "18     118          Guy       Himuro 2006-11-15\n",
      "19     119        Karen   Colmenares 2007-08-10\n",
      "0      120      Matthew        Weiss 2004-07-18\n",
      "1      121         Adam        Fripp 2005-04-10\n",
      "2      122        Payam     Kaufling 2003-05-01\n",
      "3      123       Shanta      Vollman 2005-10-10\n",
      "4      124        Kevin      Mourgos 2007-11-16\n",
      "5      125        Julia        Nayer 2005-07-16\n",
      "6      126        Irene  Mikkilineni 2006-09-28\n",
      "7      127        James       Landry 2007-01-14\n",
      "8      128       Steven       Markle 2008-03-08\n",
      "9      129        Laura       Bissot 2005-08-20\n",
      "10     130        Mozhe     Atkinson 2005-10-30\n",
      "11     131        James       Marlow 2005-02-16\n",
      "12     132           TJ        Olson 2007-04-10\n",
      "13     133        Jason       Mallin 2004-06-14\n",
      "14     134      Michael       Rogers 2006-08-26\n",
      "15     135           Ki          Gee 2007-12-12\n",
      "16     136        Hazel   Philtanker 2008-02-06\n",
      "17     137       Renske       Ladwig 2003-07-14\n",
      "18     138      Stephen       Stiles 2005-10-26\n",
      "0      141       Trenna         Rajs 2003-10-17\n",
      "1      142       Curtis       Davies 2005-01-29\n",
      "2      143      Randall        Matos 2006-03-15\n",
      "3      144        Peter       Vargas 2006-07-09\n",
      "4      145         John      Russell 2004-10-01\n",
      "5      146        Karen     Partners 2005-01-05\n",
      "6      147      Alberto    Errazuriz 2005-03-10\n",
      "7      148       Gerald    Cambrault 2007-10-15\n",
      "8      149        Eleni      Zlotkey 2008-01-29\n"
     ]
    }
   ],
   "source": [
    "import pandas as pd\n",
    "import numpy as np\n",
    "\n",
    "# Since coalpublic2013.xlsx contains only one sheet, I'm using employee.xlsx which has 3 sheets\n",
    "\n",
    "df1 = pd.read_excel('employee.xlsx',sheet_name=0)\n",
    "df2 = pd.read_excel('employee.xlsx',sheet_name=1)\n",
    "df3 = pd.read_excel('employee.xlsx',sheet_name=2)\n",
    "\n",
    "df = pd.concat([df1, df2, df3])\n",
    "print(df)"
   ]
  },
  {
   "cell_type": "markdown",
   "metadata": {},
   "source": [
    "## Q 122. Write a pandas program to import three datasheets from a given excel data (employee.xlsx ) into a single data frame and export the result into new Excel file."
   ]
  },
  {
   "cell_type": "code",
   "execution_count": 141,
   "metadata": {
    "scrolled": true
   },
   "outputs": [
    {
     "name": "stdout",
     "output_type": "stream",
     "text": [
      "    emp_id   first_name    last_name  hire_date\n",
      "0      100       Steven         King 2003-06-17\n",
      "1      101        Neena      Kochhar 2005-09-21\n",
      "2      102          Lex      De Haan 2001-01-13\n",
      "3      103    Alexander       Hunold 2006-01-03\n",
      "4      104        Bruce        Ernst 2007-05-21\n",
      "5      105        David       Austin 2005-06-25\n",
      "6      106        Valli    Pataballa 2006-02-05\n",
      "7      107        Diana      Lorentz 2007-02-07\n",
      "8      108        Nancy    Greenberg 2002-08-17\n",
      "9      109       Daniel       Faviet 2002-08-16\n",
      "10     110         John         Chen 2005-09-28\n",
      "11     111       Ismael      Sciarra 2005-09-30\n",
      "12     112  Jose Manuel        Urman 2006-03-07\n",
      "13     113         Luis         Popp 2007-12-07\n",
      "14     114          Den     Raphaely 2002-12-07\n",
      "15     115    Alexander         Khoo 2003-05-18\n",
      "16     116       Shelli        Baida 2005-12-24\n",
      "17     117        Sigal       Tobias 2005-07-24\n",
      "18     118          Guy       Himuro 2006-11-15\n",
      "19     119        Karen   Colmenares 2007-08-10\n",
      "0      120      Matthew        Weiss 2004-07-18\n",
      "1      121         Adam        Fripp 2005-04-10\n",
      "2      122        Payam     Kaufling 2003-05-01\n",
      "3      123       Shanta      Vollman 2005-10-10\n",
      "4      124        Kevin      Mourgos 2007-11-16\n",
      "5      125        Julia        Nayer 2005-07-16\n",
      "6      126        Irene  Mikkilineni 2006-09-28\n",
      "7      127        James       Landry 2007-01-14\n",
      "8      128       Steven       Markle 2008-03-08\n",
      "9      129        Laura       Bissot 2005-08-20\n",
      "10     130        Mozhe     Atkinson 2005-10-30\n",
      "11     131        James       Marlow 2005-02-16\n",
      "12     132           TJ        Olson 2007-04-10\n",
      "13     133        Jason       Mallin 2004-06-14\n",
      "14     134      Michael       Rogers 2006-08-26\n",
      "15     135           Ki          Gee 2007-12-12\n",
      "16     136        Hazel   Philtanker 2008-02-06\n",
      "17     137       Renske       Ladwig 2003-07-14\n",
      "18     138      Stephen       Stiles 2005-10-26\n",
      "0      141       Trenna         Rajs 2003-10-17\n",
      "1      142       Curtis       Davies 2005-01-29\n",
      "2      143      Randall        Matos 2006-03-15\n",
      "3      144        Peter       Vargas 2006-07-09\n",
      "4      145         John      Russell 2004-10-01\n",
      "5      146        Karen     Partners 2005-01-05\n",
      "6      147      Alberto    Errazuriz 2005-03-10\n",
      "7      148       Gerald    Cambrault 2007-10-15\n",
      "8      149        Eleni      Zlotkey 2008-01-29\n"
     ]
    }
   ],
   "source": [
    "import pandas as pd\n",
    "import numpy as np\n",
    "\n",
    "# Since coalpublic2013.xlsx contains only one sheet, I'm using employee.xlsx which has 3 sheets\n",
    "\n",
    "df1 = pd.read_excel('employee.xlsx',sheet_name=0)\n",
    "df2 = pd.read_excel('employee.xlsx',sheet_name=1)\n",
    "df3 = pd.read_excel('employee.xlsx',sheet_name=2)\n",
    "\n",
    "df = pd.concat([df1, df2, df3])\n",
    "print(df)\n",
    "df.to_excel('employee_extended.xlsx')"
   ]
  },
  {
   "cell_type": "markdown",
   "metadata": {},
   "source": [
    "## Q123. Write a pandas program to create the Pivot table with multiple indexes from the data set of the titanic.csv."
   ]
  },
  {
   "cell_type": "code",
   "execution_count": 152,
   "metadata": {},
   "outputs": [
    {
     "name": "stdout",
     "output_type": "stream",
     "text": [
      "                 adult_male        age     alone       fare     parch    pclass     sibsp\n",
      "sex    survived                                                                          \n",
      "female 0           0.000000  25.046875  0.333333  23.024385  1.037037  2.851852  1.209877\n",
      "       1           0.000000  28.847716  0.424893  51.938573  0.515021  1.918455  0.515021\n",
      "male   0           0.959402  31.618056  0.741453  21.960993  0.207265  2.476496  0.440171\n",
      "       1           0.807339  27.276022  0.587156  40.821484  0.357798  2.018349  0.385321\n"
     ]
    }
   ],
   "source": [
    "import pandas as pd\n",
    "import numpy as np\n",
    "df = pd.read_csv('titanic.csv')\n",
    "\n",
    "\n",
    "print(pd.pivot_table(df, index = ['sex','survived'], aggfunc=np.mean))"
   ]
  },
  {
   "cell_type": "markdown",
   "metadata": {},
   "source": [
    "## Q124. Write a Pandas program to create the Pivot table and find survival rate by gender?"
   ]
  },
  {
   "cell_type": "code",
   "execution_count": 160,
   "metadata": {},
   "outputs": [
    {
     "name": "stdout",
     "output_type": "stream",
     "text": [
      "        survived\n",
      "sex             \n",
      "female  0.742038\n",
      "male    0.188908\n"
     ]
    }
   ],
   "source": [
    "import pandas as pd\n",
    "import numpy as np\n",
    "df = pd.read_csv('titanic.csv')\n",
    "\n",
    "print(df.groupby('sex')[['survived']].mean())"
   ]
  },
  {
   "cell_type": "markdown",
   "metadata": {},
   "source": [
    "## Q125. Write a pandas program to make partition each of the passengers into 4 categories based on their age. \n",
    "\n",
    "Note: Age categories- (0, 10), (10, 30), (30, 60), (60, 80)"
   ]
  },
  {
   "cell_type": "code",
   "execution_count": 161,
   "metadata": {
    "scrolled": true
   },
   "outputs": [
    {
     "data": {
      "text/plain": [
       "0      (10.0, 30.0]\n",
       "1      (30.0, 60.0]\n",
       "2      (10.0, 30.0]\n",
       "3      (30.0, 60.0]\n",
       "4      (30.0, 60.0]\n",
       "5               NaN\n",
       "6      (30.0, 60.0]\n",
       "7       (0.0, 10.0]\n",
       "8      (10.0, 30.0]\n",
       "9      (10.0, 30.0]\n",
       "10      (0.0, 10.0]\n",
       "11     (30.0, 60.0]\n",
       "12     (10.0, 30.0]\n",
       "13     (30.0, 60.0]\n",
       "14     (10.0, 30.0]\n",
       "15     (30.0, 60.0]\n",
       "16      (0.0, 10.0]\n",
       "17              NaN\n",
       "18     (30.0, 60.0]\n",
       "19              NaN\n",
       "20     (30.0, 60.0]\n",
       "21     (30.0, 60.0]\n",
       "22     (10.0, 30.0]\n",
       "23     (10.0, 30.0]\n",
       "24      (0.0, 10.0]\n",
       "25     (30.0, 60.0]\n",
       "26              NaN\n",
       "27     (10.0, 30.0]\n",
       "28              NaN\n",
       "29              NaN\n",
       "30     (30.0, 60.0]\n",
       "31              NaN\n",
       "32              NaN\n",
       "33     (60.0, 80.0]\n",
       "34     (10.0, 30.0]\n",
       "35     (30.0, 60.0]\n",
       "36              NaN\n",
       "37     (10.0, 30.0]\n",
       "38     (10.0, 30.0]\n",
       "39     (10.0, 30.0]\n",
       "40     (30.0, 60.0]\n",
       "41     (10.0, 30.0]\n",
       "42              NaN\n",
       "43      (0.0, 10.0]\n",
       "44     (10.0, 30.0]\n",
       "45              NaN\n",
       "46              NaN\n",
       "47              NaN\n",
       "48              NaN\n",
       "49     (10.0, 30.0]\n",
       "50      (0.0, 10.0]\n",
       "51     (10.0, 30.0]\n",
       "52     (30.0, 60.0]\n",
       "53     (10.0, 30.0]\n",
       "54     (60.0, 80.0]\n",
       "55              NaN\n",
       "56     (10.0, 30.0]\n",
       "57     (10.0, 30.0]\n",
       "58      (0.0, 10.0]\n",
       "59     (10.0, 30.0]\n",
       "60     (10.0, 30.0]\n",
       "61     (30.0, 60.0]\n",
       "62     (30.0, 60.0]\n",
       "63      (0.0, 10.0]\n",
       "64              NaN\n",
       "65              NaN\n",
       "66     (10.0, 30.0]\n",
       "67     (10.0, 30.0]\n",
       "68     (10.0, 30.0]\n",
       "69     (10.0, 30.0]\n",
       "70     (30.0, 60.0]\n",
       "71     (10.0, 30.0]\n",
       "72     (10.0, 30.0]\n",
       "73     (10.0, 30.0]\n",
       "74     (30.0, 60.0]\n",
       "75     (10.0, 30.0]\n",
       "76              NaN\n",
       "77              NaN\n",
       "78      (0.0, 10.0]\n",
       "79     (10.0, 30.0]\n",
       "80     (10.0, 30.0]\n",
       "81     (10.0, 30.0]\n",
       "82              NaN\n",
       "83     (10.0, 30.0]\n",
       "84     (10.0, 30.0]\n",
       "85     (30.0, 60.0]\n",
       "86     (10.0, 30.0]\n",
       "87              NaN\n",
       "88     (10.0, 30.0]\n",
       "89     (10.0, 30.0]\n",
       "90     (10.0, 30.0]\n",
       "91     (10.0, 30.0]\n",
       "92     (30.0, 60.0]\n",
       "93     (10.0, 30.0]\n",
       "94     (30.0, 60.0]\n",
       "95              NaN\n",
       "96     (60.0, 80.0]\n",
       "97     (10.0, 30.0]\n",
       "98     (30.0, 60.0]\n",
       "99     (30.0, 60.0]\n",
       "100    (10.0, 30.0]\n",
       "101             NaN\n",
       "102    (10.0, 30.0]\n",
       "103    (30.0, 60.0]\n",
       "104    (30.0, 60.0]\n",
       "105    (10.0, 30.0]\n",
       "106    (10.0, 30.0]\n",
       "107             NaN\n",
       "108    (30.0, 60.0]\n",
       "109             NaN\n",
       "110    (30.0, 60.0]\n",
       "111    (10.0, 30.0]\n",
       "112    (10.0, 30.0]\n",
       "113    (10.0, 30.0]\n",
       "114    (10.0, 30.0]\n",
       "115    (10.0, 30.0]\n",
       "116    (60.0, 80.0]\n",
       "117    (10.0, 30.0]\n",
       "118    (10.0, 30.0]\n",
       "119     (0.0, 10.0]\n",
       "120    (10.0, 30.0]\n",
       "121             NaN\n",
       "122    (30.0, 60.0]\n",
       "123    (30.0, 60.0]\n",
       "124    (30.0, 60.0]\n",
       "125    (10.0, 30.0]\n",
       "126             NaN\n",
       "127    (10.0, 30.0]\n",
       "128             NaN\n",
       "129    (30.0, 60.0]\n",
       "130    (30.0, 60.0]\n",
       "131    (10.0, 30.0]\n",
       "132    (30.0, 60.0]\n",
       "133    (10.0, 30.0]\n",
       "134    (10.0, 30.0]\n",
       "135    (10.0, 30.0]\n",
       "136    (10.0, 30.0]\n",
       "137    (30.0, 60.0]\n",
       "138    (10.0, 30.0]\n",
       "139    (10.0, 30.0]\n",
       "140             NaN\n",
       "141    (10.0, 30.0]\n",
       "142    (10.0, 30.0]\n",
       "143    (10.0, 30.0]\n",
       "144    (10.0, 30.0]\n",
       "145    (10.0, 30.0]\n",
       "146    (10.0, 30.0]\n",
       "147     (0.0, 10.0]\n",
       "148    (30.0, 60.0]\n",
       "149    (30.0, 60.0]\n",
       "150    (30.0, 60.0]\n",
       "151    (10.0, 30.0]\n",
       "152    (30.0, 60.0]\n",
       "153    (30.0, 60.0]\n",
       "154             NaN\n",
       "155    (30.0, 60.0]\n",
       "156    (10.0, 30.0]\n",
       "157    (10.0, 30.0]\n",
       "158             NaN\n",
       "159             NaN\n",
       "160    (30.0, 60.0]\n",
       "161    (30.0, 60.0]\n",
       "162    (10.0, 30.0]\n",
       "163    (10.0, 30.0]\n",
       "164     (0.0, 10.0]\n",
       "165     (0.0, 10.0]\n",
       "166             NaN\n",
       "167    (30.0, 60.0]\n",
       "168             NaN\n",
       "169    (10.0, 30.0]\n",
       "170    (60.0, 80.0]\n",
       "171     (0.0, 10.0]\n",
       "172     (0.0, 10.0]\n",
       "173    (10.0, 30.0]\n",
       "174    (30.0, 60.0]\n",
       "175    (10.0, 30.0]\n",
       "176             NaN\n",
       "177    (30.0, 60.0]\n",
       "178    (10.0, 30.0]\n",
       "179    (30.0, 60.0]\n",
       "180             NaN\n",
       "181             NaN\n",
       "182     (0.0, 10.0]\n",
       "183     (0.0, 10.0]\n",
       "184     (0.0, 10.0]\n",
       "185             NaN\n",
       "186             NaN\n",
       "187    (30.0, 60.0]\n",
       "188    (30.0, 60.0]\n",
       "189    (30.0, 60.0]\n",
       "190    (30.0, 60.0]\n",
       "191    (10.0, 30.0]\n",
       "192    (10.0, 30.0]\n",
       "193     (0.0, 10.0]\n",
       "194    (30.0, 60.0]\n",
       "195    (30.0, 60.0]\n",
       "196             NaN\n",
       "197    (30.0, 60.0]\n",
       "198             NaN\n",
       "199    (10.0, 30.0]\n",
       "200    (10.0, 30.0]\n",
       "201             NaN\n",
       "202    (30.0, 60.0]\n",
       "203    (30.0, 60.0]\n",
       "204    (10.0, 30.0]\n",
       "205     (0.0, 10.0]\n",
       "206    (30.0, 60.0]\n",
       "207    (10.0, 30.0]\n",
       "208    (10.0, 30.0]\n",
       "209    (30.0, 60.0]\n",
       "210    (10.0, 30.0]\n",
       "211    (30.0, 60.0]\n",
       "212    (10.0, 30.0]\n",
       "213    (10.0, 30.0]\n",
       "214             NaN\n",
       "215    (30.0, 60.0]\n",
       "216    (10.0, 30.0]\n",
       "217    (30.0, 60.0]\n",
       "218    (30.0, 60.0]\n",
       "219    (10.0, 30.0]\n",
       "220    (10.0, 30.0]\n",
       "221    (10.0, 30.0]\n",
       "222    (30.0, 60.0]\n",
       "223             NaN\n",
       "224    (30.0, 60.0]\n",
       "225    (10.0, 30.0]\n",
       "226    (10.0, 30.0]\n",
       "227    (10.0, 30.0]\n",
       "228    (10.0, 30.0]\n",
       "229             NaN\n",
       "230    (30.0, 60.0]\n",
       "231    (10.0, 30.0]\n",
       "232    (30.0, 60.0]\n",
       "233     (0.0, 10.0]\n",
       "234    (10.0, 30.0]\n",
       "235             NaN\n",
       "236    (30.0, 60.0]\n",
       "237     (0.0, 10.0]\n",
       "238    (10.0, 30.0]\n",
       "239    (30.0, 60.0]\n",
       "240             NaN\n",
       "241             NaN\n",
       "242    (10.0, 30.0]\n",
       "243    (10.0, 30.0]\n",
       "244    (10.0, 30.0]\n",
       "245    (30.0, 60.0]\n",
       "246    (10.0, 30.0]\n",
       "247    (10.0, 30.0]\n",
       "248    (30.0, 60.0]\n",
       "249    (30.0, 60.0]\n",
       "           ...     \n",
       "641    (10.0, 30.0]\n",
       "642     (0.0, 10.0]\n",
       "643             NaN\n",
       "644     (0.0, 10.0]\n",
       "645    (30.0, 60.0]\n",
       "646    (10.0, 30.0]\n",
       "647    (30.0, 60.0]\n",
       "648             NaN\n",
       "649    (10.0, 30.0]\n",
       "650             NaN\n",
       "651    (10.0, 30.0]\n",
       "652    (10.0, 30.0]\n",
       "653             NaN\n",
       "654    (10.0, 30.0]\n",
       "655    (10.0, 30.0]\n",
       "656             NaN\n",
       "657    (30.0, 60.0]\n",
       "658    (10.0, 30.0]\n",
       "659    (30.0, 60.0]\n",
       "660    (30.0, 60.0]\n",
       "661    (30.0, 60.0]\n",
       "662    (30.0, 60.0]\n",
       "663    (30.0, 60.0]\n",
       "664    (10.0, 30.0]\n",
       "665    (30.0, 60.0]\n",
       "666    (10.0, 30.0]\n",
       "667             NaN\n",
       "668    (30.0, 60.0]\n",
       "669             NaN\n",
       "670    (30.0, 60.0]\n",
       "671    (30.0, 60.0]\n",
       "672    (60.0, 80.0]\n",
       "673    (30.0, 60.0]\n",
       "674             NaN\n",
       "675    (10.0, 30.0]\n",
       "676    (10.0, 30.0]\n",
       "677    (10.0, 30.0]\n",
       "678    (30.0, 60.0]\n",
       "679    (30.0, 60.0]\n",
       "680             NaN\n",
       "681    (10.0, 30.0]\n",
       "682    (10.0, 30.0]\n",
       "683    (10.0, 30.0]\n",
       "684    (30.0, 60.0]\n",
       "685    (10.0, 30.0]\n",
       "686    (10.0, 30.0]\n",
       "687    (10.0, 30.0]\n",
       "688    (10.0, 30.0]\n",
       "689    (10.0, 30.0]\n",
       "690    (30.0, 60.0]\n",
       "691     (0.0, 10.0]\n",
       "692             NaN\n",
       "693    (10.0, 30.0]\n",
       "694    (30.0, 60.0]\n",
       "695    (30.0, 60.0]\n",
       "696    (30.0, 60.0]\n",
       "697             NaN\n",
       "698    (30.0, 60.0]\n",
       "699    (30.0, 60.0]\n",
       "700    (10.0, 30.0]\n",
       "701    (30.0, 60.0]\n",
       "702    (10.0, 30.0]\n",
       "703    (10.0, 30.0]\n",
       "704    (10.0, 30.0]\n",
       "705    (30.0, 60.0]\n",
       "706    (30.0, 60.0]\n",
       "707    (30.0, 60.0]\n",
       "708    (10.0, 30.0]\n",
       "709             NaN\n",
       "710    (10.0, 30.0]\n",
       "711             NaN\n",
       "712    (30.0, 60.0]\n",
       "713    (10.0, 30.0]\n",
       "714    (30.0, 60.0]\n",
       "715    (10.0, 30.0]\n",
       "716    (30.0, 60.0]\n",
       "717    (10.0, 30.0]\n",
       "718             NaN\n",
       "719    (30.0, 60.0]\n",
       "720     (0.0, 10.0]\n",
       "721    (10.0, 30.0]\n",
       "722    (30.0, 60.0]\n",
       "723    (30.0, 60.0]\n",
       "724    (10.0, 30.0]\n",
       "725    (10.0, 30.0]\n",
       "726    (10.0, 30.0]\n",
       "727             NaN\n",
       "728    (10.0, 30.0]\n",
       "729    (10.0, 30.0]\n",
       "730    (10.0, 30.0]\n",
       "731    (10.0, 30.0]\n",
       "732             NaN\n",
       "733    (10.0, 30.0]\n",
       "734    (10.0, 30.0]\n",
       "735    (10.0, 30.0]\n",
       "736    (30.0, 60.0]\n",
       "737    (30.0, 60.0]\n",
       "738             NaN\n",
       "739             NaN\n",
       "740             NaN\n",
       "741    (30.0, 60.0]\n",
       "742    (10.0, 30.0]\n",
       "743    (10.0, 30.0]\n",
       "744    (30.0, 60.0]\n",
       "745    (60.0, 80.0]\n",
       "746    (10.0, 30.0]\n",
       "747    (10.0, 30.0]\n",
       "748    (10.0, 30.0]\n",
       "749    (30.0, 60.0]\n",
       "750     (0.0, 10.0]\n",
       "751     (0.0, 10.0]\n",
       "752    (30.0, 60.0]\n",
       "753    (10.0, 30.0]\n",
       "754    (30.0, 60.0]\n",
       "755     (0.0, 10.0]\n",
       "756    (10.0, 30.0]\n",
       "757    (10.0, 30.0]\n",
       "758    (30.0, 60.0]\n",
       "759    (30.0, 60.0]\n",
       "760             NaN\n",
       "761    (30.0, 60.0]\n",
       "762    (10.0, 30.0]\n",
       "763    (30.0, 60.0]\n",
       "764    (10.0, 30.0]\n",
       "765    (30.0, 60.0]\n",
       "766             NaN\n",
       "767    (30.0, 60.0]\n",
       "768             NaN\n",
       "769    (30.0, 60.0]\n",
       "770    (10.0, 30.0]\n",
       "771    (30.0, 60.0]\n",
       "772    (30.0, 60.0]\n",
       "773             NaN\n",
       "774    (30.0, 60.0]\n",
       "775    (10.0, 30.0]\n",
       "776             NaN\n",
       "777     (0.0, 10.0]\n",
       "778             NaN\n",
       "779    (30.0, 60.0]\n",
       "780    (10.0, 30.0]\n",
       "781    (10.0, 30.0]\n",
       "782    (10.0, 30.0]\n",
       "783             NaN\n",
       "784    (10.0, 30.0]\n",
       "785    (10.0, 30.0]\n",
       "786    (10.0, 30.0]\n",
       "787     (0.0, 10.0]\n",
       "788     (0.0, 10.0]\n",
       "789    (30.0, 60.0]\n",
       "790             NaN\n",
       "791    (10.0, 30.0]\n",
       "792             NaN\n",
       "793             NaN\n",
       "794    (10.0, 30.0]\n",
       "795    (30.0, 60.0]\n",
       "796    (30.0, 60.0]\n",
       "797    (30.0, 60.0]\n",
       "798    (10.0, 30.0]\n",
       "799    (10.0, 30.0]\n",
       "800    (30.0, 60.0]\n",
       "801    (30.0, 60.0]\n",
       "802    (10.0, 30.0]\n",
       "803     (0.0, 10.0]\n",
       "804    (10.0, 30.0]\n",
       "805    (30.0, 60.0]\n",
       "806    (30.0, 60.0]\n",
       "807    (10.0, 30.0]\n",
       "808    (30.0, 60.0]\n",
       "809    (30.0, 60.0]\n",
       "810    (10.0, 30.0]\n",
       "811    (30.0, 60.0]\n",
       "812    (30.0, 60.0]\n",
       "813     (0.0, 10.0]\n",
       "814    (30.0, 60.0]\n",
       "815             NaN\n",
       "816    (10.0, 30.0]\n",
       "817    (30.0, 60.0]\n",
       "818    (30.0, 60.0]\n",
       "819     (0.0, 10.0]\n",
       "820    (30.0, 60.0]\n",
       "821    (10.0, 30.0]\n",
       "822    (30.0, 60.0]\n",
       "823    (10.0, 30.0]\n",
       "824     (0.0, 10.0]\n",
       "825             NaN\n",
       "826             NaN\n",
       "827     (0.0, 10.0]\n",
       "828             NaN\n",
       "829    (60.0, 80.0]\n",
       "830    (10.0, 30.0]\n",
       "831     (0.0, 10.0]\n",
       "832             NaN\n",
       "833    (10.0, 30.0]\n",
       "834    (10.0, 30.0]\n",
       "835    (30.0, 60.0]\n",
       "836    (10.0, 30.0]\n",
       "837             NaN\n",
       "838    (30.0, 60.0]\n",
       "839             NaN\n",
       "840    (10.0, 30.0]\n",
       "841    (10.0, 30.0]\n",
       "842    (10.0, 30.0]\n",
       "843    (30.0, 60.0]\n",
       "844    (10.0, 30.0]\n",
       "845    (30.0, 60.0]\n",
       "846             NaN\n",
       "847    (30.0, 60.0]\n",
       "848    (10.0, 30.0]\n",
       "849             NaN\n",
       "850     (0.0, 10.0]\n",
       "851    (60.0, 80.0]\n",
       "852     (0.0, 10.0]\n",
       "853    (10.0, 30.0]\n",
       "854    (30.0, 60.0]\n",
       "855    (10.0, 30.0]\n",
       "856    (30.0, 60.0]\n",
       "857    (30.0, 60.0]\n",
       "858    (10.0, 30.0]\n",
       "859             NaN\n",
       "860    (30.0, 60.0]\n",
       "861    (10.0, 30.0]\n",
       "862    (30.0, 60.0]\n",
       "863             NaN\n",
       "864    (10.0, 30.0]\n",
       "865    (30.0, 60.0]\n",
       "866    (10.0, 30.0]\n",
       "867    (30.0, 60.0]\n",
       "868             NaN\n",
       "869     (0.0, 10.0]\n",
       "870    (10.0, 30.0]\n",
       "871    (30.0, 60.0]\n",
       "872    (30.0, 60.0]\n",
       "873    (30.0, 60.0]\n",
       "874    (10.0, 30.0]\n",
       "875    (10.0, 30.0]\n",
       "876    (10.0, 30.0]\n",
       "877    (10.0, 30.0]\n",
       "878             NaN\n",
       "879    (30.0, 60.0]\n",
       "880    (10.0, 30.0]\n",
       "881    (30.0, 60.0]\n",
       "882    (10.0, 30.0]\n",
       "883    (10.0, 30.0]\n",
       "884    (10.0, 30.0]\n",
       "885    (30.0, 60.0]\n",
       "886    (10.0, 30.0]\n",
       "887    (10.0, 30.0]\n",
       "888             NaN\n",
       "889    (10.0, 30.0]\n",
       "890    (30.0, 60.0]\n",
       "Name: age, Length: 891, dtype: category\n",
       "Categories (4, interval[int64]): [(0, 10] < (10, 30] < (30, 60] < (60, 80]]"
      ]
     },
     "execution_count": 161,
     "metadata": {},
     "output_type": "execute_result"
    }
   ],
   "source": [
    "import pandas as pd\n",
    "import numpy as np\n",
    "df = pd.read_csv('titanic.csv')\n",
    "\n",
    "pd.cut(df['age'], [0,10,30,60,80])"
   ]
  },
  {
   "cell_type": "markdown",
   "metadata": {},
   "source": [
    "## Q126. Write a pandas program to create the Pivot table and find survival rate by the gender, age of the different categories of various classes."
   ]
  },
  {
   "cell_type": "code",
   "execution_count": 2,
   "metadata": {
    "scrolled": true
   },
   "outputs": [
    {
     "data": {
      "text/html": [
       "<div>\n",
       "<style scoped>\n",
       "    .dataframe tbody tr th:only-of-type {\n",
       "        vertical-align: middle;\n",
       "    }\n",
       "\n",
       "    .dataframe tbody tr th {\n",
       "        vertical-align: top;\n",
       "    }\n",
       "\n",
       "    .dataframe thead th {\n",
       "        text-align: right;\n",
       "    }\n",
       "</style>\n",
       "<table border=\"1\" class=\"dataframe\">\n",
       "  <thead>\n",
       "    <tr style=\"text-align: right;\">\n",
       "      <th></th>\n",
       "      <th>class</th>\n",
       "      <th>First</th>\n",
       "      <th>Second</th>\n",
       "      <th>Third</th>\n",
       "    </tr>\n",
       "    <tr>\n",
       "      <th>sex</th>\n",
       "      <th>age</th>\n",
       "      <th></th>\n",
       "      <th></th>\n",
       "      <th></th>\n",
       "    </tr>\n",
       "  </thead>\n",
       "  <tbody>\n",
       "    <tr>\n",
       "      <th rowspan=\"4\" valign=\"top\">female</th>\n",
       "      <th>(0, 10]</th>\n",
       "      <td>0.000000</td>\n",
       "      <td>1.000000</td>\n",
       "      <td>0.500000</td>\n",
       "    </tr>\n",
       "    <tr>\n",
       "      <th>(10, 30]</th>\n",
       "      <td>0.970588</td>\n",
       "      <td>0.916667</td>\n",
       "      <td>0.508772</td>\n",
       "    </tr>\n",
       "    <tr>\n",
       "      <th>(30, 60]</th>\n",
       "      <td>0.979167</td>\n",
       "      <td>0.900000</td>\n",
       "      <td>0.272727</td>\n",
       "    </tr>\n",
       "    <tr>\n",
       "      <th>(60, 80]</th>\n",
       "      <td>1.000000</td>\n",
       "      <td>NaN</td>\n",
       "      <td>1.000000</td>\n",
       "    </tr>\n",
       "    <tr>\n",
       "      <th rowspan=\"4\" valign=\"top\">male</th>\n",
       "      <th>(0, 10]</th>\n",
       "      <td>1.000000</td>\n",
       "      <td>1.000000</td>\n",
       "      <td>0.363636</td>\n",
       "    </tr>\n",
       "    <tr>\n",
       "      <th>(10, 30]</th>\n",
       "      <td>0.458333</td>\n",
       "      <td>0.023256</td>\n",
       "      <td>0.139073</td>\n",
       "    </tr>\n",
       "    <tr>\n",
       "      <th>(30, 60]</th>\n",
       "      <td>0.412698</td>\n",
       "      <td>0.090909</td>\n",
       "      <td>0.118421</td>\n",
       "    </tr>\n",
       "    <tr>\n",
       "      <th>(60, 80]</th>\n",
       "      <td>0.083333</td>\n",
       "      <td>0.333333</td>\n",
       "      <td>0.000000</td>\n",
       "    </tr>\n",
       "  </tbody>\n",
       "</table>\n",
       "</div>"
      ],
      "text/plain": [
       "class               First    Second     Third\n",
       "sex    age                                   \n",
       "female (0, 10]   0.000000  1.000000  0.500000\n",
       "       (10, 30]  0.970588  0.916667  0.508772\n",
       "       (30, 60]  0.979167  0.900000  0.272727\n",
       "       (60, 80]  1.000000       NaN  1.000000\n",
       "male   (0, 10]   1.000000  1.000000  0.363636\n",
       "       (10, 30]  0.458333  0.023256  0.139073\n",
       "       (30, 60]  0.412698  0.090909  0.118421\n",
       "       (60, 80]  0.083333  0.333333  0.000000"
      ]
     },
     "execution_count": 2,
     "metadata": {},
     "output_type": "execute_result"
    }
   ],
   "source": [
    "import pandas as pd\n",
    "import numpy as np\n",
    "df = pd.read_csv('titanic.csv')\n",
    "\n",
    "age_bins = pd.cut(df['age'], [0,10,30,60,80])\n",
    "\n",
    "df.pivot_table('survived', index=['sex', age_bins], columns='class')"
   ]
  },
  {
   "cell_type": "markdown",
   "metadata": {},
   "source": [
    "## Q127. Write a pandas program to create the Pivot table and calculate number of women and men were in a particular cabin class."
   ]
  },
  {
   "cell_type": "code",
   "execution_count": 13,
   "metadata": {
    "scrolled": true
   },
   "outputs": [
    {
     "data": {
      "text/html": [
       "<div>\n",
       "<style scoped>\n",
       "    .dataframe tbody tr th:only-of-type {\n",
       "        vertical-align: middle;\n",
       "    }\n",
       "\n",
       "    .dataframe tbody tr th {\n",
       "        vertical-align: top;\n",
       "    }\n",
       "\n",
       "    .dataframe thead tr th {\n",
       "        text-align: left;\n",
       "    }\n",
       "\n",
       "    .dataframe thead tr:last-of-type th {\n",
       "        text-align: right;\n",
       "    }\n",
       "</style>\n",
       "<table border=\"1\" class=\"dataframe\">\n",
       "  <thead>\n",
       "    <tr>\n",
       "      <th></th>\n",
       "      <th colspan=\"3\" halign=\"left\">Unnamed: 15</th>\n",
       "      <th colspan=\"3\" halign=\"left\">adult_male</th>\n",
       "      <th colspan=\"3\" halign=\"left\">age</th>\n",
       "      <th colspan=\"3\" halign=\"left\">alive</th>\n",
       "      <th colspan=\"3\" halign=\"left\">alone</th>\n",
       "      <th colspan=\"3\" halign=\"left\">deck</th>\n",
       "      <th colspan=\"3\" halign=\"left\">embark_town</th>\n",
       "      <th colspan=\"3\" halign=\"left\">embarked</th>\n",
       "      <th colspan=\"3\" halign=\"left\">fare</th>\n",
       "      <th colspan=\"3\" halign=\"left\">parch</th>\n",
       "      <th colspan=\"3\" halign=\"left\">pclass</th>\n",
       "      <th colspan=\"3\" halign=\"left\">sibsp</th>\n",
       "      <th colspan=\"3\" halign=\"left\">survived</th>\n",
       "      <th colspan=\"3\" halign=\"left\">who</th>\n",
       "    </tr>\n",
       "    <tr>\n",
       "      <th>class</th>\n",
       "      <th>First</th>\n",
       "      <th>Second</th>\n",
       "      <th>Third</th>\n",
       "      <th>First</th>\n",
       "      <th>Second</th>\n",
       "      <th>Third</th>\n",
       "      <th>First</th>\n",
       "      <th>Second</th>\n",
       "      <th>Third</th>\n",
       "      <th>First</th>\n",
       "      <th>Second</th>\n",
       "      <th>Third</th>\n",
       "      <th>First</th>\n",
       "      <th>Second</th>\n",
       "      <th>Third</th>\n",
       "      <th>First</th>\n",
       "      <th>Second</th>\n",
       "      <th>Third</th>\n",
       "      <th>First</th>\n",
       "      <th>Second</th>\n",
       "      <th>Third</th>\n",
       "      <th>First</th>\n",
       "      <th>Second</th>\n",
       "      <th>Third</th>\n",
       "      <th>First</th>\n",
       "      <th>Second</th>\n",
       "      <th>Third</th>\n",
       "      <th>First</th>\n",
       "      <th>Second</th>\n",
       "      <th>Third</th>\n",
       "      <th>First</th>\n",
       "      <th>Second</th>\n",
       "      <th>Third</th>\n",
       "      <th>First</th>\n",
       "      <th>Second</th>\n",
       "      <th>Third</th>\n",
       "      <th>First</th>\n",
       "      <th>Second</th>\n",
       "      <th>Third</th>\n",
       "      <th>First</th>\n",
       "      <th>Second</th>\n",
       "      <th>Third</th>\n",
       "    </tr>\n",
       "    <tr>\n",
       "      <th>sex</th>\n",
       "      <th></th>\n",
       "      <th></th>\n",
       "      <th></th>\n",
       "      <th></th>\n",
       "      <th></th>\n",
       "      <th></th>\n",
       "      <th></th>\n",
       "      <th></th>\n",
       "      <th></th>\n",
       "      <th></th>\n",
       "      <th></th>\n",
       "      <th></th>\n",
       "      <th></th>\n",
       "      <th></th>\n",
       "      <th></th>\n",
       "      <th></th>\n",
       "      <th></th>\n",
       "      <th></th>\n",
       "      <th></th>\n",
       "      <th></th>\n",
       "      <th></th>\n",
       "      <th></th>\n",
       "      <th></th>\n",
       "      <th></th>\n",
       "      <th></th>\n",
       "      <th></th>\n",
       "      <th></th>\n",
       "      <th></th>\n",
       "      <th></th>\n",
       "      <th></th>\n",
       "      <th></th>\n",
       "      <th></th>\n",
       "      <th></th>\n",
       "      <th></th>\n",
       "      <th></th>\n",
       "      <th></th>\n",
       "      <th></th>\n",
       "      <th></th>\n",
       "      <th></th>\n",
       "      <th></th>\n",
       "      <th></th>\n",
       "      <th></th>\n",
       "    </tr>\n",
       "  </thead>\n",
       "  <tbody>\n",
       "    <tr>\n",
       "      <th>female</th>\n",
       "      <td>0</td>\n",
       "      <td>0</td>\n",
       "      <td>0</td>\n",
       "      <td>94</td>\n",
       "      <td>76</td>\n",
       "      <td>144</td>\n",
       "      <td>85</td>\n",
       "      <td>74</td>\n",
       "      <td>102</td>\n",
       "      <td>94</td>\n",
       "      <td>76</td>\n",
       "      <td>144</td>\n",
       "      <td>94</td>\n",
       "      <td>76</td>\n",
       "      <td>144</td>\n",
       "      <td>81</td>\n",
       "      <td>10</td>\n",
       "      <td>6</td>\n",
       "      <td>92</td>\n",
       "      <td>76</td>\n",
       "      <td>144</td>\n",
       "      <td>92</td>\n",
       "      <td>76</td>\n",
       "      <td>144</td>\n",
       "      <td>94</td>\n",
       "      <td>76</td>\n",
       "      <td>144</td>\n",
       "      <td>94</td>\n",
       "      <td>76</td>\n",
       "      <td>144</td>\n",
       "      <td>94</td>\n",
       "      <td>76</td>\n",
       "      <td>144</td>\n",
       "      <td>94</td>\n",
       "      <td>76</td>\n",
       "      <td>144</td>\n",
       "      <td>94</td>\n",
       "      <td>76</td>\n",
       "      <td>144</td>\n",
       "      <td>94</td>\n",
       "      <td>76</td>\n",
       "      <td>144</td>\n",
       "    </tr>\n",
       "    <tr>\n",
       "      <th>male</th>\n",
       "      <td>0</td>\n",
       "      <td>0</td>\n",
       "      <td>0</td>\n",
       "      <td>122</td>\n",
       "      <td>108</td>\n",
       "      <td>347</td>\n",
       "      <td>101</td>\n",
       "      <td>99</td>\n",
       "      <td>253</td>\n",
       "      <td>122</td>\n",
       "      <td>108</td>\n",
       "      <td>347</td>\n",
       "      <td>122</td>\n",
       "      <td>108</td>\n",
       "      <td>347</td>\n",
       "      <td>94</td>\n",
       "      <td>6</td>\n",
       "      <td>6</td>\n",
       "      <td>122</td>\n",
       "      <td>108</td>\n",
       "      <td>347</td>\n",
       "      <td>122</td>\n",
       "      <td>108</td>\n",
       "      <td>347</td>\n",
       "      <td>122</td>\n",
       "      <td>108</td>\n",
       "      <td>347</td>\n",
       "      <td>122</td>\n",
       "      <td>108</td>\n",
       "      <td>347</td>\n",
       "      <td>122</td>\n",
       "      <td>108</td>\n",
       "      <td>347</td>\n",
       "      <td>122</td>\n",
       "      <td>108</td>\n",
       "      <td>347</td>\n",
       "      <td>122</td>\n",
       "      <td>108</td>\n",
       "      <td>347</td>\n",
       "      <td>122</td>\n",
       "      <td>108</td>\n",
       "      <td>347</td>\n",
       "    </tr>\n",
       "  </tbody>\n",
       "</table>\n",
       "</div>"
      ],
      "text/plain": [
       "       Unnamed: 15              adult_male                age  ... sibsp survived                who             \n",
       "class        First Second Third      First Second Third First  ... Third    First Second Third First Second Third\n",
       "sex                                                            ...                                               \n",
       "female           0      0     0         94     76   144    85  ...   144       94     76   144    94     76   144\n",
       "male             0      0     0        122    108   347   101  ...   347      122    108   347   122    108   347\n",
       "\n",
       "[2 rows x 42 columns]"
      ]
     },
     "execution_count": 13,
     "metadata": {},
     "output_type": "execute_result"
    }
   ],
   "source": [
    "import pandas as pd\n",
    "import numpy as np\n",
    "df = pd.read_csv('titanic.csv')\n",
    "df.head()\n",
    "\n",
    "df.pivot_table(index=['sex'], columns='class', aggfunc='count')"
   ]
  },
  {
   "cell_type": "markdown",
   "metadata": {},
   "source": [
    "## Q128. Write a pandas program to create the Pivot table and separate the gender according to whether they travelled alone or not to get the probability of survival"
   ]
  },
  {
   "cell_type": "code",
   "execution_count": 15,
   "metadata": {},
   "outputs": [
    {
     "data": {
      "text/html": [
       "<div>\n",
       "<style scoped>\n",
       "    .dataframe tbody tr th:only-of-type {\n",
       "        vertical-align: middle;\n",
       "    }\n",
       "\n",
       "    .dataframe tbody tr th {\n",
       "        vertical-align: top;\n",
       "    }\n",
       "\n",
       "    .dataframe thead th {\n",
       "        text-align: right;\n",
       "    }\n",
       "</style>\n",
       "<table border=\"1\" class=\"dataframe\">\n",
       "  <thead>\n",
       "    <tr style=\"text-align: right;\">\n",
       "      <th></th>\n",
       "      <th></th>\n",
       "      <th>survived</th>\n",
       "    </tr>\n",
       "    <tr>\n",
       "      <th>sex</th>\n",
       "      <th>alone</th>\n",
       "      <th></th>\n",
       "    </tr>\n",
       "  </thead>\n",
       "  <tbody>\n",
       "    <tr>\n",
       "      <th rowspan=\"2\" valign=\"top\">female</th>\n",
       "      <th>False</th>\n",
       "      <td>0.712766</td>\n",
       "    </tr>\n",
       "    <tr>\n",
       "      <th>True</th>\n",
       "      <td>0.785714</td>\n",
       "    </tr>\n",
       "    <tr>\n",
       "      <th rowspan=\"2\" valign=\"top\">male</th>\n",
       "      <th>False</th>\n",
       "      <td>0.271084</td>\n",
       "    </tr>\n",
       "    <tr>\n",
       "      <th>True</th>\n",
       "      <td>0.155718</td>\n",
       "    </tr>\n",
       "  </tbody>\n",
       "</table>\n",
       "</div>"
      ],
      "text/plain": [
       "              survived\n",
       "sex    alone          \n",
       "female False  0.712766\n",
       "       True   0.785714\n",
       "male   False  0.271084\n",
       "       True   0.155718"
      ]
     },
     "execution_count": 15,
     "metadata": {},
     "output_type": "execute_result"
    }
   ],
   "source": [
    "import pandas as pd\n",
    "import numpy as np\n",
    "df = pd.read_csv('titanic.csv')\n",
    "df.head()\n",
    "\n",
    "df.pivot_table('survived', index=['sex', 'alone'])"
   ]
  },
  {
   "cell_type": "markdown",
   "metadata": {},
   "source": [
    "## Q129. Write a pandas program to create the Pivot table and find the probability of survival by class, gender, solo boarding, and the port of embarkation."
   ]
  },
  {
   "cell_type": "code",
   "execution_count": 17,
   "metadata": {
    "scrolled": true
   },
   "outputs": [
    {
     "data": {
      "text/html": [
       "<div>\n",
       "<style scoped>\n",
       "    .dataframe tbody tr th:only-of-type {\n",
       "        vertical-align: middle;\n",
       "    }\n",
       "\n",
       "    .dataframe tbody tr th {\n",
       "        vertical-align: top;\n",
       "    }\n",
       "\n",
       "    .dataframe thead th {\n",
       "        text-align: right;\n",
       "    }\n",
       "</style>\n",
       "<table border=\"1\" class=\"dataframe\">\n",
       "  <thead>\n",
       "    <tr style=\"text-align: right;\">\n",
       "      <th></th>\n",
       "      <th></th>\n",
       "      <th>class</th>\n",
       "      <th>First</th>\n",
       "      <th>Second</th>\n",
       "      <th>Third</th>\n",
       "    </tr>\n",
       "    <tr>\n",
       "      <th>sex</th>\n",
       "      <th>alone</th>\n",
       "      <th>embark_town</th>\n",
       "      <th></th>\n",
       "      <th></th>\n",
       "      <th></th>\n",
       "    </tr>\n",
       "  </thead>\n",
       "  <tbody>\n",
       "    <tr>\n",
       "      <th rowspan=\"6\" valign=\"top\">female</th>\n",
       "      <th rowspan=\"3\" valign=\"top\">False</th>\n",
       "      <th>Cherbourg</th>\n",
       "      <td>1.000000</td>\n",
       "      <td>1.000000</td>\n",
       "      <td>0.611111</td>\n",
       "    </tr>\n",
       "    <tr>\n",
       "      <th>Queenstown</th>\n",
       "      <td>1.000000</td>\n",
       "      <td>NaN</td>\n",
       "      <td>0.625000</td>\n",
       "    </tr>\n",
       "    <tr>\n",
       "      <th>Southampton</th>\n",
       "      <td>0.941176</td>\n",
       "      <td>0.923077</td>\n",
       "      <td>0.327586</td>\n",
       "    </tr>\n",
       "    <tr>\n",
       "      <th rowspan=\"3\" valign=\"top\">True</th>\n",
       "      <th>Cherbourg</th>\n",
       "      <td>0.944444</td>\n",
       "      <td>1.000000</td>\n",
       "      <td>0.800000</td>\n",
       "    </tr>\n",
       "    <tr>\n",
       "      <th>Queenstown</th>\n",
       "      <td>NaN</td>\n",
       "      <td>1.000000</td>\n",
       "      <td>0.760000</td>\n",
       "    </tr>\n",
       "    <tr>\n",
       "      <th>Southampton</th>\n",
       "      <td>1.000000</td>\n",
       "      <td>0.892857</td>\n",
       "      <td>0.466667</td>\n",
       "    </tr>\n",
       "    <tr>\n",
       "      <th rowspan=\"6\" valign=\"top\">male</th>\n",
       "      <th rowspan=\"3\" valign=\"top\">False</th>\n",
       "      <th>Cherbourg</th>\n",
       "      <td>0.473684</td>\n",
       "      <td>0.166667</td>\n",
       "      <td>0.500000</td>\n",
       "    </tr>\n",
       "    <tr>\n",
       "      <th>Queenstown</th>\n",
       "      <td>0.000000</td>\n",
       "      <td>NaN</td>\n",
       "      <td>0.100000</td>\n",
       "    </tr>\n",
       "    <tr>\n",
       "      <th>Southampton</th>\n",
       "      <td>0.407407</td>\n",
       "      <td>0.300000</td>\n",
       "      <td>0.142857</td>\n",
       "    </tr>\n",
       "    <tr>\n",
       "      <th rowspan=\"3\" valign=\"top\">True</th>\n",
       "      <th>Cherbourg</th>\n",
       "      <td>0.347826</td>\n",
       "      <td>0.250000</td>\n",
       "      <td>0.151515</td>\n",
       "    </tr>\n",
       "    <tr>\n",
       "      <th>Queenstown</th>\n",
       "      <td>NaN</td>\n",
       "      <td>0.000000</td>\n",
       "      <td>0.068966</td>\n",
       "    </tr>\n",
       "    <tr>\n",
       "      <th>Southampton</th>\n",
       "      <td>0.326923</td>\n",
       "      <td>0.089552</td>\n",
       "      <td>0.123762</td>\n",
       "    </tr>\n",
       "  </tbody>\n",
       "</table>\n",
       "</div>"
      ],
      "text/plain": [
       "class                        First    Second     Third\n",
       "sex    alone embark_town                              \n",
       "female False Cherbourg    1.000000  1.000000  0.611111\n",
       "             Queenstown   1.000000       NaN  0.625000\n",
       "             Southampton  0.941176  0.923077  0.327586\n",
       "       True  Cherbourg    0.944444  1.000000  0.800000\n",
       "             Queenstown        NaN  1.000000  0.760000\n",
       "             Southampton  1.000000  0.892857  0.466667\n",
       "male   False Cherbourg    0.473684  0.166667  0.500000\n",
       "             Queenstown   0.000000       NaN  0.100000\n",
       "             Southampton  0.407407  0.300000  0.142857\n",
       "       True  Cherbourg    0.347826  0.250000  0.151515\n",
       "             Queenstown        NaN  0.000000  0.068966\n",
       "             Southampton  0.326923  0.089552  0.123762"
      ]
     },
     "execution_count": 17,
     "metadata": {},
     "output_type": "execute_result"
    }
   ],
   "source": [
    "import pandas as pd\n",
    "import numpy as np\n",
    "df = pd.read_csv('titanic.csv')\n",
    "df.head()\n",
    "\n",
    "df.pivot_table('survived', index=['sex', 'alone', 'embark_town'], columns='class')"
   ]
  },
  {
   "cell_type": "markdown",
   "metadata": {},
   "source": [
    "## Q130. Write a pandas program to get current date, oldest date and number of days between Current date and the oldest date of Ufo dataset."
   ]
  },
  {
   "cell_type": "code",
   "execution_count": 43,
   "metadata": {},
   "outputs": [
    {
     "name": "stdout",
     "output_type": "stream",
     "text": [
      "Current Date:\n",
      "9/9/2013 23:00\n",
      "Oldest Date:\n",
      "1/1/1910 24:00\n",
      "\n",
      "Number of days between Current date and the oldest date:\n",
      "37872 days, 0:00:00\n"
     ]
    }
   ],
   "source": [
    "import pandas as pd\n",
    "import numpy as np\n",
    "from datetime import datetime\n",
    "\n",
    "df = pd.read_csv('ufo_sighting_data.csv')\n",
    "\n",
    "print('Current Date:')\n",
    "print(df['Date_time'].max())\n",
    "\n",
    "print('Oldest Date:')\n",
    "print(df['Date_time'].min())\n",
    "print()\n",
    "\n",
    "print('Number of days between Current date and the oldest date:')\n",
    "print(datetime.strptime(df['Date_time'].max()[:-6], '%d/%m/%Y')  - \n",
    "      datetime.strptime(df['Date_time'].min()[:-6], '%d/%m/%Y'))          # Calculating days disregarding the timestamp"
   ]
  },
  {
   "cell_type": "markdown",
   "metadata": {},
   "source": [
    "## Q131. Write a pandas program to get all sighting days of the unidentified flying object (ufo) between 1950-10-10 and 1960-10- 10. "
   ]
  },
  {
   "cell_type": "code",
   "execution_count": 14,
   "metadata": {},
   "outputs": [
    {
     "data": {
      "text/html": [
       "<div>\n",
       "<style scoped>\n",
       "    .dataframe tbody tr th:only-of-type {\n",
       "        vertical-align: middle;\n",
       "    }\n",
       "\n",
       "    .dataframe tbody tr th {\n",
       "        vertical-align: top;\n",
       "    }\n",
       "\n",
       "    .dataframe thead th {\n",
       "        text-align: right;\n",
       "    }\n",
       "</style>\n",
       "<table border=\"1\" class=\"dataframe\">\n",
       "  <thead>\n",
       "    <tr style=\"text-align: right;\">\n",
       "      <th></th>\n",
       "      <th>Date_time</th>\n",
       "      <th>city</th>\n",
       "      <th>state/province</th>\n",
       "      <th>country</th>\n",
       "      <th>UFO_shape</th>\n",
       "      <th>length_of_encounter_seconds</th>\n",
       "      <th>described_duration_of_encounter</th>\n",
       "      <th>description</th>\n",
       "      <th>date_documented</th>\n",
       "      <th>latitude</th>\n",
       "      <th>longitude</th>\n",
       "      <th>Date_time_formatted</th>\n",
       "    </tr>\n",
       "  </thead>\n",
       "  <tbody>\n",
       "    <tr>\n",
       "      <th>2</th>\n",
       "      <td>10/10/1955 17:00</td>\n",
       "      <td>chester (uk/england)</td>\n",
       "      <td>NaN</td>\n",
       "      <td>gb</td>\n",
       "      <td>circle</td>\n",
       "      <td>20</td>\n",
       "      <td>20 seconds</td>\n",
       "      <td>Green/Orange circular disc over Chester&amp;#44 En...</td>\n",
       "      <td>1/21/2008</td>\n",
       "      <td>53.2</td>\n",
       "      <td>-2.916667</td>\n",
       "      <td>1955-10-10</td>\n",
       "    </tr>\n",
       "    <tr>\n",
       "      <th>3</th>\n",
       "      <td>10/10/1956 21:00</td>\n",
       "      <td>edna</td>\n",
       "      <td>tx</td>\n",
       "      <td>us</td>\n",
       "      <td>circle</td>\n",
       "      <td>20</td>\n",
       "      <td>1/2 hour</td>\n",
       "      <td>My older brother and twin sister were leaving ...</td>\n",
       "      <td>1/17/2004</td>\n",
       "      <td>28.9783333</td>\n",
       "      <td>-96.645833</td>\n",
       "      <td>1956-10-10</td>\n",
       "    </tr>\n",
       "    <tr>\n",
       "      <th>4</th>\n",
       "      <td>10/10/1960 20:00</td>\n",
       "      <td>kaneohe</td>\n",
       "      <td>hi</td>\n",
       "      <td>us</td>\n",
       "      <td>light</td>\n",
       "      <td>900</td>\n",
       "      <td>15 minutes</td>\n",
       "      <td>AS a Marine 1st Lt. flying an FJ4B fighter/att...</td>\n",
       "      <td>1/22/2004</td>\n",
       "      <td>21.4180556</td>\n",
       "      <td>-157.803611</td>\n",
       "      <td>1960-10-10</td>\n",
       "    </tr>\n",
       "    <tr>\n",
       "      <th>480</th>\n",
       "      <td>10/1/1952 03:30</td>\n",
       "      <td>fukuoka (japan)</td>\n",
       "      <td>NaN</td>\n",
       "      <td>NaN</td>\n",
       "      <td>disk</td>\n",
       "      <td>1200</td>\n",
       "      <td>about 20 mins</td>\n",
       "      <td>UFO seen by multiple U. S. military personnel;...</td>\n",
       "      <td>12/7/2006</td>\n",
       "      <td>33.590355</td>\n",
       "      <td>130.401716</td>\n",
       "      <td>1952-10-01</td>\n",
       "    </tr>\n",
       "    <tr>\n",
       "      <th>481</th>\n",
       "      <td>10/1/1952 12:00</td>\n",
       "      <td>kansas city</td>\n",
       "      <td>mo</td>\n",
       "      <td>us</td>\n",
       "      <td>disk</td>\n",
       "      <td>90</td>\n",
       "      <td>90 sec.</td>\n",
       "      <td>1952 daylight sighting of multiple discs in fo...</td>\n",
       "      <td>10/31/2008</td>\n",
       "      <td>39.0997222</td>\n",
       "      <td>-94.578333</td>\n",
       "      <td>1952-10-01</td>\n",
       "    </tr>\n",
       "    <tr>\n",
       "      <th>482</th>\n",
       "      <td>10/1/1954 19:00</td>\n",
       "      <td>flatwoods</td>\n",
       "      <td>wv</td>\n",
       "      <td>us</td>\n",
       "      <td>circle</td>\n",
       "      <td>60</td>\n",
       "      <td>1 minute</td>\n",
       "      <td>I saw the craft go across the horizon.  It app...</td>\n",
       "      <td>4/12/2013</td>\n",
       "      <td>38.7230556</td>\n",
       "      <td>-80.650000</td>\n",
       "      <td>1954-10-01</td>\n",
       "    </tr>\n",
       "    <tr>\n",
       "      <th>483</th>\n",
       "      <td>10/1/1955 22:00</td>\n",
       "      <td>mono lake (area)</td>\n",
       "      <td>ca</td>\n",
       "      <td>NaN</td>\n",
       "      <td>circle</td>\n",
       "      <td>5</td>\n",
       "      <td>five seconds+/-</td>\n",
       "      <td>NO KNOWN AIRCRAFT (1955 and maybe today) COULD...</td>\n",
       "      <td>3/19/2009</td>\n",
       "      <td>38.007059</td>\n",
       "      <td>-119.012259</td>\n",
       "      <td>1955-10-01</td>\n",
       "    </tr>\n",
       "    <tr>\n",
       "      <th>484</th>\n",
       "      <td>10/1/1956 19:00</td>\n",
       "      <td>newport</td>\n",
       "      <td>nh</td>\n",
       "      <td>us</td>\n",
       "      <td>rectangle</td>\n",
       "      <td>300</td>\n",
       "      <td>5 minutes</td>\n",
       "      <td>Disk with glass center section&amp;#44 and flames ...</td>\n",
       "      <td>4/16/2005</td>\n",
       "      <td>43.3652778</td>\n",
       "      <td>-72.173889</td>\n",
       "      <td>1956-10-01</td>\n",
       "    </tr>\n",
       "    <tr>\n",
       "      <th>485</th>\n",
       "      <td>10/1/1957 16:00</td>\n",
       "      <td>nelchina (near)</td>\n",
       "      <td>ak</td>\n",
       "      <td>us</td>\n",
       "      <td>unknown</td>\n",
       "      <td>180</td>\n",
       "      <td>3 minutes maximum</td>\n",
       "      <td>This incident occurred about October of 1956 o...</td>\n",
       "      <td>12/7/2006</td>\n",
       "      <td>61.9919444</td>\n",
       "      <td>-146.768611</td>\n",
       "      <td>1957-10-01</td>\n",
       "    </tr>\n",
       "    <tr>\n",
       "      <th>486</th>\n",
       "      <td>10/1/1957 21:00</td>\n",
       "      <td>paterson</td>\n",
       "      <td>nj</td>\n",
       "      <td>us</td>\n",
       "      <td>disk</td>\n",
       "      <td>10</td>\n",
       "      <td>10 seconds</td>\n",
       "      <td>Formation of approximately 8 light gray metall...</td>\n",
       "      <td>4/16/2005</td>\n",
       "      <td>40.9166667</td>\n",
       "      <td>-74.172222</td>\n",
       "      <td>1957-10-01</td>\n",
       "    </tr>\n",
       "    <tr>\n",
       "      <th>487</th>\n",
       "      <td>10/1/1957 22:00</td>\n",
       "      <td>northeast cape afs</td>\n",
       "      <td>ak</td>\n",
       "      <td>NaN</td>\n",
       "      <td>NaN</td>\n",
       "      <td>900</td>\n",
       "      <td>10-15min</td>\n",
       "      <td>Radar sighting and filming</td>\n",
       "      <td>1/28/1999</td>\n",
       "      <td>70.292489</td>\n",
       "      <td>-161.903334</td>\n",
       "      <td>1957-10-01</td>\n",
       "    </tr>\n",
       "    <tr>\n",
       "      <th>488</th>\n",
       "      <td>10/1/1959 19:00</td>\n",
       "      <td>jacksonville</td>\n",
       "      <td>il</td>\n",
       "      <td>us</td>\n",
       "      <td>unknown</td>\n",
       "      <td>60</td>\n",
       "      <td>1 minute</td>\n",
       "      <td>Late 1959&amp;#44 bright lights from a hovering ob...</td>\n",
       "      <td>4/16/2005</td>\n",
       "      <td>39.7338889</td>\n",
       "      <td>-90.228889</td>\n",
       "      <td>1959-10-01</td>\n",
       "    </tr>\n",
       "    <tr>\n",
       "      <th>1707</th>\n",
       "      <td>10/15/1950 15:00</td>\n",
       "      <td>sandy hook/highlands</td>\n",
       "      <td>nj</td>\n",
       "      <td>NaN</td>\n",
       "      <td>triangle</td>\n",
       "      <td>300</td>\n",
       "      <td>5 minutes</td>\n",
       "      <td>Triangles over New York Harbor 1950</td>\n",
       "      <td>10/30/2006</td>\n",
       "      <td>40.443164</td>\n",
       "      <td>-73.989861</td>\n",
       "      <td>1950-10-15</td>\n",
       "    </tr>\n",
       "    <tr>\n",
       "      <th>1708</th>\n",
       "      <td>10/15/1952 21:00</td>\n",
       "      <td>richland</td>\n",
       "      <td>wa</td>\n",
       "      <td>us</td>\n",
       "      <td>circle</td>\n",
       "      <td>5</td>\n",
       "      <td>5 seconds</td>\n",
       "      <td>Night sighting of seven large luminous UFOs fl...</td>\n",
       "      <td>11/21/2010</td>\n",
       "      <td>46.2858333</td>\n",
       "      <td>-119.283333</td>\n",
       "      <td>1952-10-15</td>\n",
       "    </tr>\n",
       "    <tr>\n",
       "      <th>1709</th>\n",
       "      <td>10/15/1952 24:00</td>\n",
       "      <td>edmonton (southwest of) (canada)</td>\n",
       "      <td>ab</td>\n",
       "      <td>ca</td>\n",
       "      <td>cylinder</td>\n",
       "      <td>120</td>\n",
       "      <td>approx. 2 min.</td>\n",
       "      <td>Good evening folks---What I am about to discri...</td>\n",
       "      <td>1/17/2004</td>\n",
       "      <td>53.55</td>\n",
       "      <td>-113.500000</td>\n",
       "      <td>1952-10-15</td>\n",
       "    </tr>\n",
       "    <tr>\n",
       "      <th>1710</th>\n",
       "      <td>10/15/1953 14:00</td>\n",
       "      <td>mauriceville</td>\n",
       "      <td>tx</td>\n",
       "      <td>us</td>\n",
       "      <td>disk</td>\n",
       "      <td>300</td>\n",
       "      <td>5 min.</td>\n",
       "      <td>My father was a WWW1 Vet. and loved hunting. T...</td>\n",
       "      <td>11/4/2002</td>\n",
       "      <td>30.2033333</td>\n",
       "      <td>-93.866111</td>\n",
       "      <td>1953-10-15</td>\n",
       "    </tr>\n",
       "    <tr>\n",
       "      <th>1711</th>\n",
       "      <td>10/15/1954 16:30</td>\n",
       "      <td>blanco</td>\n",
       "      <td>tx</td>\n",
       "      <td>us</td>\n",
       "      <td>other</td>\n",
       "      <td>300</td>\n",
       "      <td>3-5 mins</td>\n",
       "      <td>We saw a silver football&amp;#44 motionless in the...</td>\n",
       "      <td>4/27/2004</td>\n",
       "      <td>30.0977778</td>\n",
       "      <td>-98.421111</td>\n",
       "      <td>1954-10-15</td>\n",
       "    </tr>\n",
       "    <tr>\n",
       "      <th>1712</th>\n",
       "      <td>10/15/1954 21:30</td>\n",
       "      <td>manistee</td>\n",
       "      <td>mi</td>\n",
       "      <td>us</td>\n",
       "      <td>circle</td>\n",
       "      <td>8</td>\n",
       "      <td>8 seconds</td>\n",
       "      <td>Saucer shaped&amp;#44 moved north to south directl...</td>\n",
       "      <td>1/21/2008</td>\n",
       "      <td>44.2444444</td>\n",
       "      <td>-86.324167</td>\n",
       "      <td>1954-10-15</td>\n",
       "    </tr>\n",
       "    <tr>\n",
       "      <th>1713</th>\n",
       "      <td>10/15/1955 20:00</td>\n",
       "      <td>rhinebeck</td>\n",
       "      <td>ny</td>\n",
       "      <td>us</td>\n",
       "      <td>light</td>\n",
       "      <td>2400</td>\n",
       "      <td>40 minutes</td>\n",
       "      <td>This very distant star-like point of light cam...</td>\n",
       "      <td>7/19/2010</td>\n",
       "      <td>41.9266667</td>\n",
       "      <td>-73.913056</td>\n",
       "      <td>1955-10-15</td>\n",
       "    </tr>\n",
       "    <tr>\n",
       "      <th>1714</th>\n",
       "      <td>10/15/1956 01:00</td>\n",
       "      <td>mechra bel ksire (morocco)</td>\n",
       "      <td>NaN</td>\n",
       "      <td>NaN</td>\n",
       "      <td>unknown</td>\n",
       "      <td>300</td>\n",
       "      <td>approx. 5 minutes</td>\n",
       "      <td>Air Defense radar reflected an object with gre...</td>\n",
       "      <td>4/16/2005</td>\n",
       "      <td>34.56</td>\n",
       "      <td>-5.950000</td>\n",
       "      <td>1956-10-15</td>\n",
       "    </tr>\n",
       "    <tr>\n",
       "      <th>1715</th>\n",
       "      <td>10/15/1956 21:30</td>\n",
       "      <td>mt. vernon</td>\n",
       "      <td>in</td>\n",
       "      <td>NaN</td>\n",
       "      <td>disk</td>\n",
       "      <td>8</td>\n",
       "      <td>7 to 8 seconds</td>\n",
       "      <td>Clear night observation of lumenescent object ...</td>\n",
       "      <td>7/11/2000</td>\n",
       "      <td>37.932266</td>\n",
       "      <td>-87.895027</td>\n",
       "      <td>1956-10-15</td>\n",
       "    </tr>\n",
       "    <tr>\n",
       "      <th>1716</th>\n",
       "      <td>10/15/1957 02:00</td>\n",
       "      <td>new york city (queens)</td>\n",
       "      <td>ny</td>\n",
       "      <td>us</td>\n",
       "      <td>NaN</td>\n",
       "      <td>10800</td>\n",
       "      <td>2x3 hrs</td>\n",
       "      <td>tall unidentified being enters home - N.Y.C. 1957</td>\n",
       "      <td>3/21/2003</td>\n",
       "      <td>40.7141667</td>\n",
       "      <td>-74.006389</td>\n",
       "      <td>1957-10-15</td>\n",
       "    </tr>\n",
       "    <tr>\n",
       "      <th>1717</th>\n",
       "      <td>10/15/1957 20:30</td>\n",
       "      <td>houston (ellington afb)</td>\n",
       "      <td>tx</td>\n",
       "      <td>us</td>\n",
       "      <td>light</td>\n",
       "      <td>3</td>\n",
       "      <td>3 seconds</td>\n",
       "      <td>5 to 6&amp;quot; diameter light&amp;#44 extremely fast...</td>\n",
       "      <td>9/17/2000</td>\n",
       "      <td>29.7630556</td>\n",
       "      <td>-95.363056</td>\n",
       "      <td>1957-10-15</td>\n",
       "    </tr>\n",
       "    <tr>\n",
       "      <th>1718</th>\n",
       "      <td>10/15/1957 22:00</td>\n",
       "      <td>commerce city (n. of denver)</td>\n",
       "      <td>co</td>\n",
       "      <td>us</td>\n",
       "      <td>fireball</td>\n",
       "      <td>600</td>\n",
       "      <td>10 min.</td>\n",
       "      <td>A lot of methane gas in area</td>\n",
       "      <td>9/19/2002</td>\n",
       "      <td>39.8083333</td>\n",
       "      <td>-104.933333</td>\n",
       "      <td>1957-10-15</td>\n",
       "    </tr>\n",
       "    <tr>\n",
       "      <th>1719</th>\n",
       "      <td>10/15/1959 00:00</td>\n",
       "      <td>marysville</td>\n",
       "      <td>wa</td>\n",
       "      <td>us</td>\n",
       "      <td>other</td>\n",
       "      <td>75</td>\n",
       "      <td>1:15</td>\n",
       "      <td>UFO  Over  Golf Course</td>\n",
       "      <td>4/27/2007</td>\n",
       "      <td>48.0519444</td>\n",
       "      <td>-122.175833</td>\n",
       "      <td>1959-10-15</td>\n",
       "    </tr>\n",
       "    <tr>\n",
       "      <th>2280</th>\n",
       "      <td>10/16/1959 22:30</td>\n",
       "      <td>four states</td>\n",
       "      <td>wv</td>\n",
       "      <td>us</td>\n",
       "      <td>sphere</td>\n",
       "      <td>600</td>\n",
       "      <td>10 minutes</td>\n",
       "      <td>MYSTERIOUS RED LIGHTS  IN NORTHERN WEST VIRGINIA</td>\n",
       "      <td>3/31/2008</td>\n",
       "      <td>39.4797222</td>\n",
       "      <td>-80.310000</td>\n",
       "      <td>1959-10-16</td>\n",
       "    </tr>\n",
       "    <tr>\n",
       "      <th>3088</th>\n",
       "      <td>10/20/1958 21:00</td>\n",
       "      <td>st. paul</td>\n",
       "      <td>mn</td>\n",
       "      <td>us</td>\n",
       "      <td>other</td>\n",
       "      <td>2</td>\n",
       "      <td>2 seconds</td>\n",
       "      <td>A dull-orange craft sped southbound at low alt...</td>\n",
       "      <td>3/16/2000</td>\n",
       "      <td>44.9444444</td>\n",
       "      <td>-93.093056</td>\n",
       "      <td>1958-10-20</td>\n",
       "    </tr>\n",
       "    <tr>\n",
       "      <th>4428</th>\n",
       "      <td>10/25/1958 20:00</td>\n",
       "      <td>terrebonne</td>\n",
       "      <td>or</td>\n",
       "      <td>us</td>\n",
       "      <td>unknown</td>\n",
       "      <td>120</td>\n",
       "      <td>1-2 minutes</td>\n",
       "      <td>Piercing&amp;#44 shrill tone.</td>\n",
       "      <td>8/5/2012</td>\n",
       "      <td>44.3530556</td>\n",
       "      <td>-121.176667</td>\n",
       "      <td>1958-10-25</td>\n",
       "    </tr>\n",
       "    <tr>\n",
       "      <th>5413</th>\n",
       "      <td>10/30/1958 01:00</td>\n",
       "      <td>riverside</td>\n",
       "      <td>il</td>\n",
       "      <td>us</td>\n",
       "      <td>light</td>\n",
       "      <td>600</td>\n",
       "      <td>10 minutes (?)</td>\n",
       "      <td>Chicago suburbs&amp;#44 strange lights and figures...</td>\n",
       "      <td>4/27/2007</td>\n",
       "      <td>41.835</td>\n",
       "      <td>-87.822778</td>\n",
       "      <td>1958-10-30</td>\n",
       "    </tr>\n",
       "    <tr>\n",
       "      <th>5636</th>\n",
       "      <td>10/31/1953 19:00</td>\n",
       "      <td>new orleans</td>\n",
       "      <td>la</td>\n",
       "      <td>us</td>\n",
       "      <td>oval</td>\n",
       "      <td>2</td>\n",
       "      <td>seconds</td>\n",
       "      <td>20+ ovals flying over New Orleans</td>\n",
       "      <td>9/2/2005</td>\n",
       "      <td>29.9544444</td>\n",
       "      <td>-90.075000</td>\n",
       "      <td>1953-10-31</td>\n",
       "    </tr>\n",
       "    <tr>\n",
       "      <th>...</th>\n",
       "      <td>...</td>\n",
       "      <td>...</td>\n",
       "      <td>...</td>\n",
       "      <td>...</td>\n",
       "      <td>...</td>\n",
       "      <td>...</td>\n",
       "      <td>...</td>\n",
       "      <td>...</td>\n",
       "      <td>...</td>\n",
       "      <td>...</td>\n",
       "      <td>...</td>\n",
       "      <td>...</td>\n",
       "    </tr>\n",
       "    <tr>\n",
       "      <th>72743</th>\n",
       "      <td>9/10/1957 19:15</td>\n",
       "      <td>st. paul</td>\n",
       "      <td>mn</td>\n",
       "      <td>us</td>\n",
       "      <td>disk</td>\n",
       "      <td>300</td>\n",
       "      <td>five minutes</td>\n",
       "      <td>3 UFO&amp;#39s saucer-shaped with flashing lights ...</td>\n",
       "      <td>4/16/2005</td>\n",
       "      <td>44.9444</td>\n",
       "      <td>-93.093056</td>\n",
       "      <td>1957-09-10</td>\n",
       "    </tr>\n",
       "    <tr>\n",
       "      <th>72744</th>\n",
       "      <td>9/10/1960 10:00</td>\n",
       "      <td>wichita</td>\n",
       "      <td>ks</td>\n",
       "      <td>us</td>\n",
       "      <td>oval</td>\n",
       "      <td>1200</td>\n",
       "      <td>20 min.</td>\n",
       "      <td>MADE  ONY  A  HUMMING SOUND EVEN WHEN  IT TOOK...</td>\n",
       "      <td>7/25/2004</td>\n",
       "      <td>37.6922</td>\n",
       "      <td>-97.337222</td>\n",
       "      <td>1960-09-10</td>\n",
       "    </tr>\n",
       "    <tr>\n",
       "      <th>73293</th>\n",
       "      <td>9/1/1954 13:00</td>\n",
       "      <td>geneva</td>\n",
       "      <td>ny</td>\n",
       "      <td>us</td>\n",
       "      <td>disk</td>\n",
       "      <td>120</td>\n",
       "      <td>couple of minutes</td>\n",
       "      <td>While marching on a bivouac maneuver in (?) Se...</td>\n",
       "      <td>10/15/2003</td>\n",
       "      <td>42.8689</td>\n",
       "      <td>-76.978056</td>\n",
       "      <td>1954-09-01</td>\n",
       "    </tr>\n",
       "    <tr>\n",
       "      <th>73294</th>\n",
       "      <td>9/1/1957 16:00</td>\n",
       "      <td>graham</td>\n",
       "      <td>tx</td>\n",
       "      <td>us</td>\n",
       "      <td>sphere</td>\n",
       "      <td>30</td>\n",
       "      <td>30 sec</td>\n",
       "      <td>Three shiny spheres over Graham Texas</td>\n",
       "      <td>1/10/2009</td>\n",
       "      <td>33.1069</td>\n",
       "      <td>-98.589167</td>\n",
       "      <td>1957-09-01</td>\n",
       "    </tr>\n",
       "    <tr>\n",
       "      <th>73295</th>\n",
       "      <td>9/1/1957 23:00</td>\n",
       "      <td>brecksville</td>\n",
       "      <td>oh</td>\n",
       "      <td>us</td>\n",
       "      <td>circle</td>\n",
       "      <td>180</td>\n",
       "      <td>3 minutes</td>\n",
       "      <td>20 ft in diameter glowing ufo landed a few fee...</td>\n",
       "      <td>2/1/2007</td>\n",
       "      <td>41.3197</td>\n",
       "      <td>-81.626944</td>\n",
       "      <td>1957-09-01</td>\n",
       "    </tr>\n",
       "    <tr>\n",
       "      <th>73296</th>\n",
       "      <td>9/1/1958 20:00</td>\n",
       "      <td>fargo</td>\n",
       "      <td>nd</td>\n",
       "      <td>us</td>\n",
       "      <td>disk</td>\n",
       "      <td>900</td>\n",
       "      <td>15 min</td>\n",
       "      <td>Flying Saucer seen while driving home from work.</td>\n",
       "      <td>5/27/2003</td>\n",
       "      <td>46.8772</td>\n",
       "      <td>-96.789444</td>\n",
       "      <td>1958-09-01</td>\n",
       "    </tr>\n",
       "    <tr>\n",
       "      <th>74266</th>\n",
       "      <td>9/14/1958 19:30</td>\n",
       "      <td>ashland</td>\n",
       "      <td>ky</td>\n",
       "      <td>us</td>\n",
       "      <td>circle</td>\n",
       "      <td>45</td>\n",
       "      <td>45 seconds</td>\n",
       "      <td>Near observations of a slow moving silent obje...</td>\n",
       "      <td>2/14/2008</td>\n",
       "      <td>38.4783</td>\n",
       "      <td>-82.638056</td>\n",
       "      <td>1958-09-14</td>\n",
       "    </tr>\n",
       "    <tr>\n",
       "      <th>74517</th>\n",
       "      <td>9/15/1952 14:00</td>\n",
       "      <td>norridgewock</td>\n",
       "      <td>me</td>\n",
       "      <td>us</td>\n",
       "      <td>disk</td>\n",
       "      <td>300</td>\n",
       "      <td>4-5 minutes</td>\n",
       "      <td>SUNNY DAY&amp;#44 WITHIN 450 FEET&amp;#44 LOW...REPORT...</td>\n",
       "      <td>12/2/2000</td>\n",
       "      <td>44.7131</td>\n",
       "      <td>-69.791111</td>\n",
       "      <td>1952-09-15</td>\n",
       "    </tr>\n",
       "    <tr>\n",
       "      <th>74518</th>\n",
       "      <td>9/15/1954 09:30</td>\n",
       "      <td>palmer township</td>\n",
       "      <td>pa</td>\n",
       "      <td>NaN</td>\n",
       "      <td>other</td>\n",
       "      <td>600</td>\n",
       "      <td>9-10 minutes</td>\n",
       "      <td>Saturn-shaped object appearing over the Pennsy...</td>\n",
       "      <td>11/28/2007</td>\n",
       "      <td>40.7168</td>\n",
       "      <td>-75.249344</td>\n",
       "      <td>1954-09-15</td>\n",
       "    </tr>\n",
       "    <tr>\n",
       "      <th>74519</th>\n",
       "      <td>9/15/1956 20:00</td>\n",
       "      <td>middle river</td>\n",
       "      <td>md</td>\n",
       "      <td>us</td>\n",
       "      <td>circle</td>\n",
       "      <td>60</td>\n",
       "      <td>1 min</td>\n",
       "      <td>three round blue-white disks in V formation mo...</td>\n",
       "      <td>12/16/2005</td>\n",
       "      <td>39.3342</td>\n",
       "      <td>-76.439722</td>\n",
       "      <td>1956-09-15</td>\n",
       "    </tr>\n",
       "    <tr>\n",
       "      <th>74520</th>\n",
       "      <td>9/15/1957 04:00</td>\n",
       "      <td>el paso</td>\n",
       "      <td>tx</td>\n",
       "      <td>us</td>\n",
       "      <td>disk</td>\n",
       "      <td>600</td>\n",
       "      <td>10 min</td>\n",
       "      <td>Undified Flying Object</td>\n",
       "      <td>2/14/2008</td>\n",
       "      <td>31.7586</td>\n",
       "      <td>-106.486389</td>\n",
       "      <td>1957-09-15</td>\n",
       "    </tr>\n",
       "    <tr>\n",
       "      <th>74521</th>\n",
       "      <td>9/15/1957 21:30</td>\n",
       "      <td>lake jackson</td>\n",
       "      <td>tx</td>\n",
       "      <td>us</td>\n",
       "      <td>fireball</td>\n",
       "      <td>13</td>\n",
       "      <td>13 sec</td>\n",
       "      <td>fireball seen on country  road.</td>\n",
       "      <td>1/10/2009</td>\n",
       "      <td>29.0336</td>\n",
       "      <td>-95.434167</td>\n",
       "      <td>1957-09-15</td>\n",
       "    </tr>\n",
       "    <tr>\n",
       "      <th>74522</th>\n",
       "      <td>9/15/1957 23:00</td>\n",
       "      <td>tacoma</td>\n",
       "      <td>wa</td>\n",
       "      <td>us</td>\n",
       "      <td>disk</td>\n",
       "      <td>20</td>\n",
       "      <td>20 seconds</td>\n",
       "      <td>a large disk spacecraft the size of a Boeing 7...</td>\n",
       "      <td>3/2/2004</td>\n",
       "      <td>47.2531</td>\n",
       "      <td>-122.443056</td>\n",
       "      <td>1957-09-15</td>\n",
       "    </tr>\n",
       "    <tr>\n",
       "      <th>74523</th>\n",
       "      <td>9/15/1959 01:00</td>\n",
       "      <td>goldfield</td>\n",
       "      <td>nv</td>\n",
       "      <td>us</td>\n",
       "      <td>light</td>\n",
       "      <td>60</td>\n",
       "      <td>1 minute</td>\n",
       "      <td>The object hovered over the pick-up&amp;#44 and ra...</td>\n",
       "      <td>4/16/2005</td>\n",
       "      <td>37.7086</td>\n",
       "      <td>-117.234722</td>\n",
       "      <td>1959-09-15</td>\n",
       "    </tr>\n",
       "    <tr>\n",
       "      <th>74524</th>\n",
       "      <td>9/15/1959 11:30</td>\n",
       "      <td>dayton</td>\n",
       "      <td>oh</td>\n",
       "      <td>us</td>\n",
       "      <td>disk</td>\n",
       "      <td>900</td>\n",
       "      <td>15 mini</td>\n",
       "      <td>formation of 6 saucers moving from Wright Pate...</td>\n",
       "      <td>2/8/2005</td>\n",
       "      <td>39.7589</td>\n",
       "      <td>-84.191667</td>\n",
       "      <td>1959-09-15</td>\n",
       "    </tr>\n",
       "    <tr>\n",
       "      <th>74525</th>\n",
       "      <td>9/15/1959 24:00</td>\n",
       "      <td>fallon</td>\n",
       "      <td>nv</td>\n",
       "      <td>us</td>\n",
       "      <td>oval</td>\n",
       "      <td>7200</td>\n",
       "      <td>2 hours</td>\n",
       "      <td>I was an Air Force radar operator at Fallon Na...</td>\n",
       "      <td>10/28/2002</td>\n",
       "      <td>39.4736</td>\n",
       "      <td>-118.776389</td>\n",
       "      <td>1959-09-15</td>\n",
       "    </tr>\n",
       "    <tr>\n",
       "      <th>74526</th>\n",
       "      <td>9/15/1960 19:00</td>\n",
       "      <td>kingsport</td>\n",
       "      <td>tn</td>\n",
       "      <td>us</td>\n",
       "      <td>circle</td>\n",
       "      <td>300</td>\n",
       "      <td>5 minutes</td>\n",
       "      <td>An orange&amp;#44 circular craft drifted over the ...</td>\n",
       "      <td>1/28/1999</td>\n",
       "      <td>36.5483</td>\n",
       "      <td>-82.561944</td>\n",
       "      <td>1960-09-15</td>\n",
       "    </tr>\n",
       "    <tr>\n",
       "      <th>74527</th>\n",
       "      <td>9/15/1960 20:30</td>\n",
       "      <td>seattle</td>\n",
       "      <td>wa</td>\n",
       "      <td>us</td>\n",
       "      <td>disk</td>\n",
       "      <td>120</td>\n",
       "      <td>2 min. for me&amp;#44 longer for</td>\n",
       "      <td>Triple disc sighting prior to dusk with a ligh...</td>\n",
       "      <td>4/27/2004</td>\n",
       "      <td>47.6064</td>\n",
       "      <td>-122.330833</td>\n",
       "      <td>1960-09-15</td>\n",
       "    </tr>\n",
       "    <tr>\n",
       "      <th>74528</th>\n",
       "      <td>9/15/1960 21:00</td>\n",
       "      <td>susanville</td>\n",
       "      <td>ca</td>\n",
       "      <td>us</td>\n",
       "      <td>NaN</td>\n",
       "      <td>360</td>\n",
       "      <td>5-6 minutes</td>\n",
       "      <td>Three craft in formation&amp;#44 high altitude&amp;#44...</td>\n",
       "      <td>4/27/2004</td>\n",
       "      <td>40.4164</td>\n",
       "      <td>-120.651944</td>\n",
       "      <td>1960-09-15</td>\n",
       "    </tr>\n",
       "    <tr>\n",
       "      <th>74529</th>\n",
       "      <td>9/15/1960 21:30</td>\n",
       "      <td>barrhead (canada)</td>\n",
       "      <td>ab</td>\n",
       "      <td>ca</td>\n",
       "      <td>other</td>\n",
       "      <td>1200</td>\n",
       "      <td>20 minutes</td>\n",
       "      <td>HBCCUFO CANADIAN REPORT:  Daddy&amp;#44 there is a...</td>\n",
       "      <td>8/28/2003</td>\n",
       "      <td>54.1167</td>\n",
       "      <td>-114.400000</td>\n",
       "      <td>1960-09-15</td>\n",
       "    </tr>\n",
       "    <tr>\n",
       "      <th>75992</th>\n",
       "      <td>9/20/1956 16:00</td>\n",
       "      <td>hope</td>\n",
       "      <td>ar</td>\n",
       "      <td>us</td>\n",
       "      <td>circle</td>\n",
       "      <td>1200</td>\n",
       "      <td>20 minutes</td>\n",
       "      <td>Sitting on a pond bank on sunny afternoon when...</td>\n",
       "      <td>4/16/2005</td>\n",
       "      <td>33.6669</td>\n",
       "      <td>-93.591389</td>\n",
       "      <td>1956-09-20</td>\n",
       "    </tr>\n",
       "    <tr>\n",
       "      <th>75993</th>\n",
       "      <td>9/20/1957 00:00</td>\n",
       "      <td>hopkinsville</td>\n",
       "      <td>ky</td>\n",
       "      <td>us</td>\n",
       "      <td>cigar</td>\n",
       "      <td>600</td>\n",
       "      <td>10 minutes</td>\n",
       "      <td>4 matalic silver cigar shaped objects; no soun...</td>\n",
       "      <td>8/28/2003</td>\n",
       "      <td>36.8656</td>\n",
       "      <td>-87.488611</td>\n",
       "      <td>1957-09-20</td>\n",
       "    </tr>\n",
       "    <tr>\n",
       "      <th>75994</th>\n",
       "      <td>9/20/1958 22:20</td>\n",
       "      <td>davis jct. (on highway72 east to highway 51 no...</td>\n",
       "      <td>il</td>\n",
       "      <td>NaN</td>\n",
       "      <td>fireball</td>\n",
       "      <td>300</td>\n",
       "      <td>5min</td>\n",
       "      <td>red light with A GLOW AROUND IT DRIVING TO WOR...</td>\n",
       "      <td>4/2/1999</td>\n",
       "      <td>42.1017</td>\n",
       "      <td>-89.093157</td>\n",
       "      <td>1958-09-20</td>\n",
       "    </tr>\n",
       "    <tr>\n",
       "      <th>76277</th>\n",
       "      <td>9/21/1956 24:00</td>\n",
       "      <td>greenwich</td>\n",
       "      <td>ct</td>\n",
       "      <td>us</td>\n",
       "      <td>light</td>\n",
       "      <td>1290</td>\n",
       "      <td>21:30</td>\n",
       "      <td>Strange movements amoung the stars</td>\n",
       "      <td>8/12/2008</td>\n",
       "      <td>41.0264</td>\n",
       "      <td>-73.628889</td>\n",
       "      <td>1956-09-21</td>\n",
       "    </tr>\n",
       "    <tr>\n",
       "      <th>79261</th>\n",
       "      <td>9/5/1957 17:30</td>\n",
       "      <td>los gatos (west of)</td>\n",
       "      <td>ca</td>\n",
       "      <td>us</td>\n",
       "      <td>disk</td>\n",
       "      <td>60</td>\n",
       "      <td>one minute or less</td>\n",
       "      <td>3 craft seen in day light&amp;#44 very low altitud...</td>\n",
       "      <td>10/30/2006</td>\n",
       "      <td>37.2267</td>\n",
       "      <td>-121.973611</td>\n",
       "      <td>1957-09-05</td>\n",
       "    </tr>\n",
       "    <tr>\n",
       "      <th>79262</th>\n",
       "      <td>9/5/1960 21:00</td>\n",
       "      <td>buffalo</td>\n",
       "      <td>ny</td>\n",
       "      <td>us</td>\n",
       "      <td>oval</td>\n",
       "      <td>180</td>\n",
       "      <td>3 minutes</td>\n",
       "      <td>Precise movements of a &amp;quot;craft&amp;quot; appar...</td>\n",
       "      <td>9/15/2005</td>\n",
       "      <td>42.8864</td>\n",
       "      <td>-78.878611</td>\n",
       "      <td>1960-09-05</td>\n",
       "    </tr>\n",
       "    <tr>\n",
       "      <th>79668</th>\n",
       "      <td>9/7/1958 19:00</td>\n",
       "      <td>arthur</td>\n",
       "      <td>nd</td>\n",
       "      <td>us</td>\n",
       "      <td>unknown</td>\n",
       "      <td>900</td>\n",
       "      <td>5-15 min.</td>\n",
       "      <td>Two lights of alternating color traveling and ...</td>\n",
       "      <td>10/31/2003</td>\n",
       "      <td>47.1042</td>\n",
       "      <td>-97.217778</td>\n",
       "      <td>1958-09-07</td>\n",
       "    </tr>\n",
       "    <tr>\n",
       "      <th>80101</th>\n",
       "      <td>9/9/1952 20:00</td>\n",
       "      <td>philadelphia</td>\n",
       "      <td>pa</td>\n",
       "      <td>us</td>\n",
       "      <td>circle</td>\n",
       "      <td>180</td>\n",
       "      <td>3 minutes</td>\n",
       "      <td>saucers in a line over Phila Pa.</td>\n",
       "      <td>12/12/2009</td>\n",
       "      <td>39.9522</td>\n",
       "      <td>-75.164167</td>\n",
       "      <td>1952-09-09</td>\n",
       "    </tr>\n",
       "    <tr>\n",
       "      <th>80102</th>\n",
       "      <td>9/9/1954 12:30</td>\n",
       "      <td>beaumont</td>\n",
       "      <td>tx</td>\n",
       "      <td>us</td>\n",
       "      <td>disk</td>\n",
       "      <td>300</td>\n",
       "      <td>5 minutes</td>\n",
       "      <td>Aprox. 30 Disk shaped UFOs fell out of clouds ...</td>\n",
       "      <td>1/17/2004</td>\n",
       "      <td>30.0858</td>\n",
       "      <td>-94.101667</td>\n",
       "      <td>1954-09-09</td>\n",
       "    </tr>\n",
       "    <tr>\n",
       "      <th>80103</th>\n",
       "      <td>9/9/1956 05:55</td>\n",
       "      <td>norfolk</td>\n",
       "      <td>va</td>\n",
       "      <td>us</td>\n",
       "      <td>cigar</td>\n",
       "      <td>90</td>\n",
       "      <td>1.5 minutes</td>\n",
       "      <td>Unidentified Object Hovering over Interstate 2...</td>\n",
       "      <td>2/24/2007</td>\n",
       "      <td>36.8467</td>\n",
       "      <td>-76.285556</td>\n",
       "      <td>1956-09-09</td>\n",
       "    </tr>\n",
       "  </tbody>\n",
       "</table>\n",
       "<p>466 rows × 12 columns</p>\n",
       "</div>"
      ],
      "text/plain": [
       "              Date_time                                               city  \\\n",
       "2      10/10/1955 17:00                               chester (uk/england)   \n",
       "3      10/10/1956 21:00                                               edna   \n",
       "4      10/10/1960 20:00                                            kaneohe   \n",
       "480     10/1/1952 03:30                                    fukuoka (japan)   \n",
       "481     10/1/1952 12:00                                        kansas city   \n",
       "482     10/1/1954 19:00                                          flatwoods   \n",
       "483     10/1/1955 22:00                                   mono lake (area)   \n",
       "484     10/1/1956 19:00                                            newport   \n",
       "485     10/1/1957 16:00                                    nelchina (near)   \n",
       "486     10/1/1957 21:00                                           paterson   \n",
       "487     10/1/1957 22:00                                 northeast cape afs   \n",
       "488     10/1/1959 19:00                                       jacksonville   \n",
       "1707   10/15/1950 15:00                               sandy hook/highlands   \n",
       "1708   10/15/1952 21:00                                           richland   \n",
       "1709   10/15/1952 24:00                   edmonton (southwest of) (canada)   \n",
       "1710   10/15/1953 14:00                                       mauriceville   \n",
       "1711   10/15/1954 16:30                                             blanco   \n",
       "1712   10/15/1954 21:30                                           manistee   \n",
       "1713   10/15/1955 20:00                                          rhinebeck   \n",
       "1714   10/15/1956 01:00                         mechra bel ksire (morocco)   \n",
       "1715   10/15/1956 21:30                                         mt. vernon   \n",
       "1716   10/15/1957 02:00                             new york city (queens)   \n",
       "1717   10/15/1957 20:30                            houston (ellington afb)   \n",
       "1718   10/15/1957 22:00                       commerce city (n. of denver)   \n",
       "1719   10/15/1959 00:00                                         marysville   \n",
       "2280   10/16/1959 22:30                                        four states   \n",
       "3088   10/20/1958 21:00                                           st. paul   \n",
       "4428   10/25/1958 20:00                                         terrebonne   \n",
       "5413   10/30/1958 01:00                                          riverside   \n",
       "5636   10/31/1953 19:00                                        new orleans   \n",
       "...                 ...                                                ...   \n",
       "72743   9/10/1957 19:15                                           st. paul   \n",
       "72744   9/10/1960 10:00                                            wichita   \n",
       "73293    9/1/1954 13:00                                             geneva   \n",
       "73294    9/1/1957 16:00                                             graham   \n",
       "73295    9/1/1957 23:00                                        brecksville   \n",
       "73296    9/1/1958 20:00                                              fargo   \n",
       "74266   9/14/1958 19:30                                            ashland   \n",
       "74517   9/15/1952 14:00                                       norridgewock   \n",
       "74518   9/15/1954 09:30                                    palmer township   \n",
       "74519   9/15/1956 20:00                                       middle river   \n",
       "74520   9/15/1957 04:00                                            el paso   \n",
       "74521   9/15/1957 21:30                                       lake jackson   \n",
       "74522   9/15/1957 23:00                                             tacoma   \n",
       "74523   9/15/1959 01:00                                          goldfield   \n",
       "74524   9/15/1959 11:30                                             dayton   \n",
       "74525   9/15/1959 24:00                                             fallon   \n",
       "74526   9/15/1960 19:00                                          kingsport   \n",
       "74527   9/15/1960 20:30                                            seattle   \n",
       "74528   9/15/1960 21:00                                         susanville   \n",
       "74529   9/15/1960 21:30                                  barrhead (canada)   \n",
       "75992   9/20/1956 16:00                                               hope   \n",
       "75993   9/20/1957 00:00                                       hopkinsville   \n",
       "75994   9/20/1958 22:20  davis jct. (on highway72 east to highway 51 no...   \n",
       "76277   9/21/1956 24:00                                          greenwich   \n",
       "79261    9/5/1957 17:30                                los gatos (west of)   \n",
       "79262    9/5/1960 21:00                                            buffalo   \n",
       "79668    9/7/1958 19:00                                             arthur   \n",
       "80101    9/9/1952 20:00                                       philadelphia   \n",
       "80102    9/9/1954 12:30                                           beaumont   \n",
       "80103    9/9/1956 05:55                                            norfolk   \n",
       "\n",
       "      state/province country  UFO_shape length_of_encounter_seconds  \\\n",
       "2                NaN      gb     circle                          20   \n",
       "3                 tx      us     circle                          20   \n",
       "4                 hi      us      light                         900   \n",
       "480              NaN     NaN       disk                        1200   \n",
       "481               mo      us       disk                          90   \n",
       "482               wv      us     circle                          60   \n",
       "483               ca     NaN     circle                           5   \n",
       "484               nh      us  rectangle                         300   \n",
       "485               ak      us    unknown                         180   \n",
       "486               nj      us       disk                          10   \n",
       "487               ak     NaN        NaN                         900   \n",
       "488               il      us    unknown                          60   \n",
       "1707              nj     NaN   triangle                         300   \n",
       "1708              wa      us     circle                           5   \n",
       "1709              ab      ca   cylinder                         120   \n",
       "1710              tx      us       disk                         300   \n",
       "1711              tx      us      other                         300   \n",
       "1712              mi      us     circle                           8   \n",
       "1713              ny      us      light                        2400   \n",
       "1714             NaN     NaN    unknown                         300   \n",
       "1715              in     NaN       disk                           8   \n",
       "1716              ny      us        NaN                       10800   \n",
       "1717              tx      us      light                           3   \n",
       "1718              co      us   fireball                         600   \n",
       "1719              wa      us      other                          75   \n",
       "2280              wv      us     sphere                         600   \n",
       "3088              mn      us      other                           2   \n",
       "4428              or      us    unknown                         120   \n",
       "5413              il      us      light                         600   \n",
       "5636              la      us       oval                           2   \n",
       "...              ...     ...        ...                         ...   \n",
       "72743             mn      us       disk                         300   \n",
       "72744             ks      us       oval                        1200   \n",
       "73293             ny      us       disk                         120   \n",
       "73294             tx      us     sphere                          30   \n",
       "73295             oh      us     circle                         180   \n",
       "73296             nd      us       disk                         900   \n",
       "74266             ky      us     circle                          45   \n",
       "74517             me      us       disk                         300   \n",
       "74518             pa     NaN      other                         600   \n",
       "74519             md      us     circle                          60   \n",
       "74520             tx      us       disk                         600   \n",
       "74521             tx      us   fireball                          13   \n",
       "74522             wa      us       disk                          20   \n",
       "74523             nv      us      light                          60   \n",
       "74524             oh      us       disk                         900   \n",
       "74525             nv      us       oval                        7200   \n",
       "74526             tn      us     circle                         300   \n",
       "74527             wa      us       disk                         120   \n",
       "74528             ca      us        NaN                         360   \n",
       "74529             ab      ca      other                        1200   \n",
       "75992             ar      us     circle                        1200   \n",
       "75993             ky      us      cigar                         600   \n",
       "75994             il     NaN   fireball                         300   \n",
       "76277             ct      us      light                        1290   \n",
       "79261             ca      us       disk                          60   \n",
       "79262             ny      us       oval                         180   \n",
       "79668             nd      us    unknown                         900   \n",
       "80101             pa      us     circle                         180   \n",
       "80102             tx      us       disk                         300   \n",
       "80103             va      us      cigar                          90   \n",
       "\n",
       "      described_duration_of_encounter  \\\n",
       "2                          20 seconds   \n",
       "3                            1/2 hour   \n",
       "4                          15 minutes   \n",
       "480                     about 20 mins   \n",
       "481                           90 sec.   \n",
       "482                          1 minute   \n",
       "483                   five seconds+/-   \n",
       "484                         5 minutes   \n",
       "485                 3 minutes maximum   \n",
       "486                        10 seconds   \n",
       "487                          10-15min   \n",
       "488                          1 minute   \n",
       "1707                        5 minutes   \n",
       "1708                        5 seconds   \n",
       "1709                   approx. 2 min.   \n",
       "1710                           5 min.   \n",
       "1711                         3-5 mins   \n",
       "1712                        8 seconds   \n",
       "1713                       40 minutes   \n",
       "1714                approx. 5 minutes   \n",
       "1715                   7 to 8 seconds   \n",
       "1716                          2x3 hrs   \n",
       "1717                        3 seconds   \n",
       "1718                          10 min.   \n",
       "1719                             1:15   \n",
       "2280                       10 minutes   \n",
       "3088                        2 seconds   \n",
       "4428                      1-2 minutes   \n",
       "5413                   10 minutes (?)   \n",
       "5636                          seconds   \n",
       "...                               ...   \n",
       "72743                    five minutes   \n",
       "72744                         20 min.   \n",
       "73293               couple of minutes   \n",
       "73294                          30 sec   \n",
       "73295                       3 minutes   \n",
       "73296                          15 min   \n",
       "74266                      45 seconds   \n",
       "74517                     4-5 minutes   \n",
       "74518                    9-10 minutes   \n",
       "74519                           1 min   \n",
       "74520                          10 min   \n",
       "74521                          13 sec   \n",
       "74522                      20 seconds   \n",
       "74523                        1 minute   \n",
       "74524                         15 mini   \n",
       "74525                         2 hours   \n",
       "74526                       5 minutes   \n",
       "74527    2 min. for me&#44 longer for   \n",
       "74528                     5-6 minutes   \n",
       "74529                      20 minutes   \n",
       "75992                      20 minutes   \n",
       "75993                      10 minutes   \n",
       "75994                            5min   \n",
       "76277                           21:30   \n",
       "79261              one minute or less   \n",
       "79262                       3 minutes   \n",
       "79668                       5-15 min.   \n",
       "80101                       3 minutes   \n",
       "80102                       5 minutes   \n",
       "80103                     1.5 minutes   \n",
       "\n",
       "                                             description date_documented  \\\n",
       "2      Green/Orange circular disc over Chester&#44 En...       1/21/2008   \n",
       "3      My older brother and twin sister were leaving ...       1/17/2004   \n",
       "4      AS a Marine 1st Lt. flying an FJ4B fighter/att...       1/22/2004   \n",
       "480    UFO seen by multiple U. S. military personnel;...       12/7/2006   \n",
       "481    1952 daylight sighting of multiple discs in fo...      10/31/2008   \n",
       "482    I saw the craft go across the horizon.  It app...       4/12/2013   \n",
       "483    NO KNOWN AIRCRAFT (1955 and maybe today) COULD...       3/19/2009   \n",
       "484    Disk with glass center section&#44 and flames ...       4/16/2005   \n",
       "485    This incident occurred about October of 1956 o...       12/7/2006   \n",
       "486    Formation of approximately 8 light gray metall...       4/16/2005   \n",
       "487                           Radar sighting and filming       1/28/1999   \n",
       "488    Late 1959&#44 bright lights from a hovering ob...       4/16/2005   \n",
       "1707                 Triangles over New York Harbor 1950      10/30/2006   \n",
       "1708   Night sighting of seven large luminous UFOs fl...      11/21/2010   \n",
       "1709   Good evening folks---What I am about to discri...       1/17/2004   \n",
       "1710   My father was a WWW1 Vet. and loved hunting. T...       11/4/2002   \n",
       "1711   We saw a silver football&#44 motionless in the...       4/27/2004   \n",
       "1712   Saucer shaped&#44 moved north to south directl...       1/21/2008   \n",
       "1713   This very distant star-like point of light cam...       7/19/2010   \n",
       "1714   Air Defense radar reflected an object with gre...       4/16/2005   \n",
       "1715   Clear night observation of lumenescent object ...       7/11/2000   \n",
       "1716   tall unidentified being enters home - N.Y.C. 1957       3/21/2003   \n",
       "1717   5 to 6&quot; diameter light&#44 extremely fast...       9/17/2000   \n",
       "1718                        A lot of methane gas in area       9/19/2002   \n",
       "1719                              UFO  Over  Golf Course       4/27/2007   \n",
       "2280    MYSTERIOUS RED LIGHTS  IN NORTHERN WEST VIRGINIA       3/31/2008   \n",
       "3088   A dull-orange craft sped southbound at low alt...       3/16/2000   \n",
       "4428                           Piercing&#44 shrill tone.        8/5/2012   \n",
       "5413   Chicago suburbs&#44 strange lights and figures...       4/27/2007   \n",
       "5636                   20+ ovals flying over New Orleans        9/2/2005   \n",
       "...                                                  ...             ...   \n",
       "72743  3 UFO&#39s saucer-shaped with flashing lights ...       4/16/2005   \n",
       "72744  MADE  ONY  A  HUMMING SOUND EVEN WHEN  IT TOOK...       7/25/2004   \n",
       "73293  While marching on a bivouac maneuver in (?) Se...      10/15/2003   \n",
       "73294              Three shiny spheres over Graham Texas       1/10/2009   \n",
       "73295  20 ft in diameter glowing ufo landed a few fee...        2/1/2007   \n",
       "73296   Flying Saucer seen while driving home from work.       5/27/2003   \n",
       "74266  Near observations of a slow moving silent obje...       2/14/2008   \n",
       "74517  SUNNY DAY&#44 WITHIN 450 FEET&#44 LOW...REPORT...       12/2/2000   \n",
       "74518  Saturn-shaped object appearing over the Pennsy...      11/28/2007   \n",
       "74519  three round blue-white disks in V formation mo...      12/16/2005   \n",
       "74520                             Undified Flying Object       2/14/2008   \n",
       "74521                    fireball seen on country  road.       1/10/2009   \n",
       "74522  a large disk spacecraft the size of a Boeing 7...        3/2/2004   \n",
       "74523  The object hovered over the pick-up&#44 and ra...       4/16/2005   \n",
       "74524  formation of 6 saucers moving from Wright Pate...        2/8/2005   \n",
       "74525  I was an Air Force radar operator at Fallon Na...      10/28/2002   \n",
       "74526  An orange&#44 circular craft drifted over the ...       1/28/1999   \n",
       "74527  Triple disc sighting prior to dusk with a ligh...       4/27/2004   \n",
       "74528  Three craft in formation&#44 high altitude&#44...       4/27/2004   \n",
       "74529  HBCCUFO CANADIAN REPORT:  Daddy&#44 there is a...       8/28/2003   \n",
       "75992  Sitting on a pond bank on sunny afternoon when...       4/16/2005   \n",
       "75993  4 matalic silver cigar shaped objects; no soun...       8/28/2003   \n",
       "75994  red light with A GLOW AROUND IT DRIVING TO WOR...        4/2/1999   \n",
       "76277                 Strange movements amoung the stars       8/12/2008   \n",
       "79261  3 craft seen in day light&#44 very low altitud...      10/30/2006   \n",
       "79262  Precise movements of a &quot;craft&quot; appar...       9/15/2005   \n",
       "79668  Two lights of alternating color traveling and ...      10/31/2003   \n",
       "80101                   saucers in a line over Phila Pa.      12/12/2009   \n",
       "80102  Aprox. 30 Disk shaped UFOs fell out of clouds ...       1/17/2004   \n",
       "80103  Unidentified Object Hovering over Interstate 2...       2/24/2007   \n",
       "\n",
       "         latitude   longitude Date_time_formatted  \n",
       "2            53.2   -2.916667          1955-10-10  \n",
       "3      28.9783333  -96.645833          1956-10-10  \n",
       "4      21.4180556 -157.803611          1960-10-10  \n",
       "480     33.590355  130.401716          1952-10-01  \n",
       "481    39.0997222  -94.578333          1952-10-01  \n",
       "482    38.7230556  -80.650000          1954-10-01  \n",
       "483     38.007059 -119.012259          1955-10-01  \n",
       "484    43.3652778  -72.173889          1956-10-01  \n",
       "485    61.9919444 -146.768611          1957-10-01  \n",
       "486    40.9166667  -74.172222          1957-10-01  \n",
       "487     70.292489 -161.903334          1957-10-01  \n",
       "488    39.7338889  -90.228889          1959-10-01  \n",
       "1707    40.443164  -73.989861          1950-10-15  \n",
       "1708   46.2858333 -119.283333          1952-10-15  \n",
       "1709        53.55 -113.500000          1952-10-15  \n",
       "1710   30.2033333  -93.866111          1953-10-15  \n",
       "1711   30.0977778  -98.421111          1954-10-15  \n",
       "1712   44.2444444  -86.324167          1954-10-15  \n",
       "1713   41.9266667  -73.913056          1955-10-15  \n",
       "1714        34.56   -5.950000          1956-10-15  \n",
       "1715    37.932266  -87.895027          1956-10-15  \n",
       "1716   40.7141667  -74.006389          1957-10-15  \n",
       "1717   29.7630556  -95.363056          1957-10-15  \n",
       "1718   39.8083333 -104.933333          1957-10-15  \n",
       "1719   48.0519444 -122.175833          1959-10-15  \n",
       "2280   39.4797222  -80.310000          1959-10-16  \n",
       "3088   44.9444444  -93.093056          1958-10-20  \n",
       "4428   44.3530556 -121.176667          1958-10-25  \n",
       "5413       41.835  -87.822778          1958-10-30  \n",
       "5636   29.9544444  -90.075000          1953-10-31  \n",
       "...           ...         ...                 ...  \n",
       "72743     44.9444  -93.093056          1957-09-10  \n",
       "72744     37.6922  -97.337222          1960-09-10  \n",
       "73293     42.8689  -76.978056          1954-09-01  \n",
       "73294     33.1069  -98.589167          1957-09-01  \n",
       "73295     41.3197  -81.626944          1957-09-01  \n",
       "73296     46.8772  -96.789444          1958-09-01  \n",
       "74266     38.4783  -82.638056          1958-09-14  \n",
       "74517     44.7131  -69.791111          1952-09-15  \n",
       "74518     40.7168  -75.249344          1954-09-15  \n",
       "74519     39.3342  -76.439722          1956-09-15  \n",
       "74520     31.7586 -106.486389          1957-09-15  \n",
       "74521     29.0336  -95.434167          1957-09-15  \n",
       "74522     47.2531 -122.443056          1957-09-15  \n",
       "74523     37.7086 -117.234722          1959-09-15  \n",
       "74524     39.7589  -84.191667          1959-09-15  \n",
       "74525     39.4736 -118.776389          1959-09-15  \n",
       "74526     36.5483  -82.561944          1960-09-15  \n",
       "74527     47.6064 -122.330833          1960-09-15  \n",
       "74528     40.4164 -120.651944          1960-09-15  \n",
       "74529     54.1167 -114.400000          1960-09-15  \n",
       "75992     33.6669  -93.591389          1956-09-20  \n",
       "75993     36.8656  -87.488611          1957-09-20  \n",
       "75994     42.1017  -89.093157          1958-09-20  \n",
       "76277     41.0264  -73.628889          1956-09-21  \n",
       "79261     37.2267 -121.973611          1957-09-05  \n",
       "79262     42.8864  -78.878611          1960-09-05  \n",
       "79668     47.1042  -97.217778          1958-09-07  \n",
       "80101     39.9522  -75.164167          1952-09-09  \n",
       "80102     30.0858  -94.101667          1954-09-09  \n",
       "80103     36.8467  -76.285556          1956-09-09  \n",
       "\n",
       "[466 rows x 12 columns]"
      ]
     },
     "execution_count": 14,
     "metadata": {},
     "output_type": "execute_result"
    }
   ],
   "source": [
    "import pandas as pd\n",
    "import numpy as np\n",
    "from datetime import datetime\n",
    "\n",
    "ufo = pd.read_csv('ufo_sighting_data.csv')\n",
    "\n",
    "# ufo['Date_time_formatted'] = [x[:-6] for x in ufo['Date_time']]\n",
    "ufo['Date_time_formatted'] = ufo['Date_time'].apply(lambda x: x[:-6])\n",
    "ufo['Date_time_formatted'] = ufo['Date_time_formatted'].astype('datetime64[ns]')\n",
    "# ufo['Date_time_formatted'].head()\n",
    "\n",
    "ufo.loc[(ufo['Date_time_formatted'] >= '1950-10-10') & (ufo['Date_time_formatted'] <= '1960-10-10')]"
   ]
  },
  {
   "cell_type": "markdown",
   "metadata": {},
   "source": [
    "## Q132. Write a Pandas program to extract the year, month, day, hour, minute, second, and weekday from unidentified flying object (UFO) reporting date."
   ]
  },
  {
   "cell_type": "code",
   "execution_count": null,
   "metadata": {},
   "outputs": [],
   "source": [
    "import pandas as pd\n",
    "import numpy as np\n",
    "from datetime import datetime\n",
    "\n",
    "ufo = pd.read_csv('ufo_sighting_data.csv')"
   ]
  },
  {
   "cell_type": "markdown",
   "metadata": {},
   "source": [
    "## Q133. Write a pandas program to count year-country wise frequency of reporting dates of the unidentified flying object(UFO)."
   ]
  },
  {
   "cell_type": "code",
   "execution_count": 23,
   "metadata": {},
   "outputs": [
    {
     "name": "stdout",
     "output_type": "stream",
     "text": [
      "Year  country\n",
      "1910  us            2\n",
      "1920  us            1\n",
      "1925  us            1\n",
      "1929  us            1\n",
      "1931  us            2\n",
      "1934  us            1\n",
      "1936  ca            1\n",
      "      us            1\n",
      "1937  us            2\n",
      "1939  us            3\n",
      "1941  us            1\n",
      "1942  us            2\n",
      "1943  gb            1\n",
      "      us            1\n",
      "1944  us            3\n",
      "1945  us            7\n",
      "1946  ca            1\n",
      "      us            8\n",
      "1947  us           33\n",
      "1948  us            7\n",
      "1949  us           15\n",
      "1950  us           21\n",
      "1951  ca            2\n",
      "      gb            1\n",
      "      us           13\n",
      "1952  ca            2\n",
      "      gb            1\n",
      "      us           37\n",
      "1953  ca            2\n",
      "      us           26\n",
      "                 ... \n",
      "2009  au           14\n",
      "      ca          134\n",
      "      de            6\n",
      "      gb          202\n",
      "      us         3677\n",
      "2010  au           16\n",
      "      ca          137\n",
      "      de            4\n",
      "      gb          115\n",
      "      us         3548\n",
      "2011  au           13\n",
      "      ca          127\n",
      "      de            3\n",
      "      gb           51\n",
      "      us         4379\n",
      "2012  au           19\n",
      "      ca          242\n",
      "      de            6\n",
      "      gb           82\n",
      "      us         6320\n",
      "2013  au           32\n",
      "      ca          248\n",
      "      de            6\n",
      "      gb           48\n",
      "      us         6056\n",
      "2014  au           14\n",
      "      ca           45\n",
      "      de            3\n",
      "      gb           21\n",
      "      us         1964\n",
      "Length: 282, dtype: int64\n"
     ]
    }
   ],
   "source": [
    "import pandas as pd\n",
    "import numpy as np\n",
    "\n",
    "ufo = pd.read_csv('ufo_sighting_data.csv')\n",
    "ufo['Date_time_formatted'] = ufo['Date_time'].apply(lambda x: x[:-6])\n",
    "ufo['Date_time_formatted'] = ufo['Date_time_formatted'].astype('datetime64[ns]')\n",
    "ufo['Year'] = ufo['Date_time_formatted'].apply(lambda x: x.year)\n",
    "\n",
    "\n",
    "print(ufo.groupby(['Year','country']).size())"
   ]
  },
  {
   "cell_type": "markdown",
   "metadata": {},
   "source": [
    "## Q134. Write a pandas program to get the difference (in days) between documented date and reporting date of unidentified flying object (UFO)."
   ]
  },
  {
   "cell_type": "code",
   "execution_count": 26,
   "metadata": {
    "scrolled": true
   },
   "outputs": [
    {
     "name": "stdout",
     "output_type": "stream",
     "text": [
      "Difference (in days) between documented date and reporting date of unidentified flying object (UFO)\n",
      "0       19923 days\n",
      "1       20521 days\n",
      "2       19096 days\n",
      "3       17265 days\n",
      "4       15809 days\n",
      "5       16635 days\n",
      "6       14737 days\n",
      "7       12410 days\n",
      "8       15501 days\n",
      "9       14093 days\n",
      "10      12804 days\n",
      "11      14490 days\n",
      "12      10806 days\n",
      "13      13641 days\n",
      "14      14007 days\n",
      "15      12028 days\n",
      "16      12726 days\n",
      "17      10941 days\n",
      "18      10320 days\n",
      "19       9070 days\n",
      "20      11802 days\n",
      "21      10881 days\n",
      "22      11815 days\n",
      "23      13634 days\n",
      "24      12116 days\n",
      "25       9999 days\n",
      "26       9655 days\n",
      "27      10341 days\n",
      "28       9320 days\n",
      "29       9233 days\n",
      "           ...    \n",
      "80302      15 days\n",
      "80303      15 days\n",
      "80304      15 days\n",
      "80305      15 days\n",
      "80306      15 days\n",
      "80307      15 days\n",
      "80308      15 days\n",
      "80309      15 days\n",
      "80310      15 days\n",
      "80311      15 days\n",
      "80312      15 days\n",
      "80313      21 days\n",
      "80314      21 days\n",
      "80315       0 days\n",
      "80316      21 days\n",
      "80317       0 days\n",
      "80318       0 days\n",
      "80319      21 days\n",
      "80320      21 days\n",
      "80321      21 days\n",
      "80322      21 days\n",
      "80323      21 days\n",
      "80324      21 days\n",
      "80325      21 days\n",
      "80326      21 days\n",
      "80327      21 days\n",
      "80328      21 days\n",
      "80329      21 days\n",
      "80330      21 days\n",
      "80331      21 days\n",
      "Length: 80332, dtype: timedelta64[ns]\n"
     ]
    }
   ],
   "source": [
    "import pandas as pd\n",
    "import numpy as np\n",
    "\n",
    "ufo = pd.read_csv('ufo_sighting_data.csv')\n",
    "\n",
    "ufo['Date_time_formatted'] = ufo['Date_time'].apply(lambda x: x[:-6])\n",
    "ufo['Date_time_formatted'] = ufo['Date_time_formatted'].astype('datetime64[ns]')\n",
    "\n",
    "ufo['date_documented'] = ufo['date_documented'].astype('datetime64[ns]')\n",
    "ufo['date_documented']\n",
    "\n",
    "diff = ufo['date_documented'] - ufo['Date_time_formatted']\n",
    "\n",
    "print('Difference (in days) between documented date and reporting date of unidentified flying object (UFO)')\n",
    "print(diff)"
   ]
  },
  {
   "cell_type": "markdown",
   "metadata": {},
   "source": [
    "## Q135. Write a pandas program to generate sequences of fixed- frequency dates and time spans."
   ]
  },
  {
   "cell_type": "code",
   "execution_count": 31,
   "metadata": {},
   "outputs": [
    {
     "name": "stdout",
     "output_type": "stream",
     "text": [
      "Hourly Frequency:\n",
      "DatetimeIndex(['2018-01-01 00:00:00', '2018-01-01 01:00:00',\n",
      "               '2018-01-01 02:00:00'],\n",
      "              dtype='datetime64[ns]', freq='H')\n",
      "Day wise Frequency:\n",
      "DatetimeIndex(['2018-01-01', '2018-01-02', '2018-01-03'], dtype='datetime64[ns]', freq='D')\n"
     ]
    }
   ],
   "source": [
    "import pandas as pd\n",
    "import numpy as np\n",
    "\n",
    "dti = pd.date_range('2018-01-01', periods=3, freq='H')\n",
    "print('Hourly Frequency:')\n",
    "print(dti)\n",
    "\n",
    "dti = pd.date_range('2018-01-01', periods=3, freq='D')\n",
    "print('Day wise Frequency:')\n",
    "print(dti)"
   ]
  },
  {
   "cell_type": "markdown",
   "metadata": {},
   "source": [
    "## Q136. Write a pandas program to manipulate and convert date times with timezone information."
   ]
  },
  {
   "cell_type": "code",
   "execution_count": 48,
   "metadata": {},
   "outputs": [
    {
     "name": "stdout",
     "output_type": "stream",
     "text": [
      "Original Datetimeindex:\n",
      "DatetimeIndex(['2018-01-01 00:00:00', '2018-01-01 01:00:00',\n",
      "               '2018-01-01 02:00:00'],\n",
      "              dtype='datetime64[ns]', freq='H')\n",
      "Manipulated Datetimeindex:\n",
      "DatetimeIndex(['2018-01-01 00:00:00+05:30', '2018-01-01 01:00:00+05:30',\n",
      "               '2018-01-01 02:00:00+05:30'],\n",
      "              dtype='datetime64[ns, Asia/Calcutta]', freq='H')\n",
      "Converted Datetimeindex:\n",
      "DatetimeIndex(['2017-12-31 19:30:00+01:00', '2017-12-31 20:30:00+01:00',\n",
      "               '2017-12-31 21:30:00+01:00'],\n",
      "              dtype='datetime64[ns, Europe/Berlin]', freq='H')\n"
     ]
    }
   ],
   "source": [
    "import pandas as pd\n",
    "import numpy as np\n",
    "\n",
    "dti = pd.date_range('2018-01-01', periods=3, freq='H')\n",
    "print('Original Datetimeindex:')\n",
    "print(dti)\n",
    "\n",
    "print('Manipulated Datetimeindex:')\n",
    "dti = dti.tz_localize(tz ='Asia/Calcutta')\n",
    "print(dti)\n",
    "\n",
    "dti = dti.tz_convert('Europe/Berlin')\n",
    "print('Converted Datetimeindex:')\n",
    "print(dti)"
   ]
  },
  {
   "cell_type": "markdown",
   "metadata": {},
   "source": [
    "## Q137. Write a pandas program to create the graphical analysis of UFO (unidentified flying object) Sightings year."
   ]
  },
  {
   "cell_type": "code",
   "execution_count": 3,
   "metadata": {
    "scrolled": false
   },
   "outputs": [
    {
     "data": {
      "text/plain": [
       "<matplotlib.axes._subplots.AxesSubplot at 0x2a07844f780>"
      ]
     },
     "execution_count": 3,
     "metadata": {},
     "output_type": "execute_result"
    },
    {
     "data": {
      "image/png": "[encoded data removed]",
      "text/plain": [
       "<Figure size 1296x576 with 1 Axes>"
      ]
     },
     "metadata": {
      "needs_background": "light"
     },
     "output_type": "display_data"
    }
   ],
   "source": [
    "import pandas as pd\n",
    "import numpy as np\n",
    "import matplotlib.pyplot as plt\n",
    "%matplotlib inline \n",
    "\n",
    "ufo = pd.read_csv('ufo_sighting_data.csv')\n",
    "ufo['Date_time_formatted'] = ufo['Date_time'].apply(lambda x: x[:-6])\n",
    "ufo['Date_time_formatted'] = ufo['Date_time_formatted'].astype('datetime64[ns]')\n",
    "ufo['Year'] = ufo['Date_time_formatted'].apply(lambda x: x.year)\n",
    "\n",
    "year = ufo.groupby(['Year']).size()\n",
    "# year\n",
    "year.plot(kind='bar', figsize=(18,8))"
   ]
  },
  {
   "cell_type": "markdown",
   "metadata": {},
   "source": [
    "## Q138. Write a pandas program to create a comparison of the top 10 years in which the (UFO) was sighted VS each Month."
   ]
  },
  {
   "cell_type": "code",
   "execution_count": 2,
   "metadata": {},
   "outputs": [
    {
     "data": {
      "text/html": [
       "<div>\n",
       "<style scoped>\n",
       "    .dataframe tbody tr th:only-of-type {\n",
       "        vertical-align: middle;\n",
       "    }\n",
       "\n",
       "    .dataframe tbody tr th {\n",
       "        vertical-align: top;\n",
       "    }\n",
       "\n",
       "    .dataframe thead th {\n",
       "        text-align: right;\n",
       "    }\n",
       "</style>\n",
       "<table border=\"1\" class=\"dataframe\">\n",
       "  <thead>\n",
       "    <tr style=\"text-align: right;\">\n",
       "      <th>Date_time_formatted</th>\n",
       "      <th>2003.0</th>\n",
       "      <th>2004.0</th>\n",
       "      <th>2005.0</th>\n",
       "      <th>2007.0</th>\n",
       "      <th>2008.0</th>\n",
       "      <th>2009.0</th>\n",
       "      <th>2010.0</th>\n",
       "      <th>2011.0</th>\n",
       "      <th>2012.0</th>\n",
       "      <th>2013.0</th>\n",
       "    </tr>\n",
       "    <tr>\n",
       "      <th>month</th>\n",
       "      <th></th>\n",
       "      <th></th>\n",
       "      <th></th>\n",
       "      <th></th>\n",
       "      <th></th>\n",
       "      <th></th>\n",
       "      <th></th>\n",
       "      <th></th>\n",
       "      <th></th>\n",
       "      <th></th>\n",
       "    </tr>\n",
       "  </thead>\n",
       "  <tbody>\n",
       "    <tr>\n",
       "      <th>1</th>\n",
       "      <td>287</td>\n",
       "      <td>266</td>\n",
       "      <td>228</td>\n",
       "      <td>398</td>\n",
       "      <td>436</td>\n",
       "      <td>454</td>\n",
       "      <td>258</td>\n",
       "      <td>298</td>\n",
       "      <td>528</td>\n",
       "      <td>356</td>\n",
       "    </tr>\n",
       "    <tr>\n",
       "      <th>2</th>\n",
       "      <td>230</td>\n",
       "      <td>265</td>\n",
       "      <td>255</td>\n",
       "      <td>243</td>\n",
       "      <td>345</td>\n",
       "      <td>367</td>\n",
       "      <td>171</td>\n",
       "      <td>255</td>\n",
       "      <td>357</td>\n",
       "      <td>264</td>\n",
       "    </tr>\n",
       "    <tr>\n",
       "      <th>3</th>\n",
       "      <td>169</td>\n",
       "      <td>372</td>\n",
       "      <td>327</td>\n",
       "      <td>331</td>\n",
       "      <td>304</td>\n",
       "      <td>313</td>\n",
       "      <td>236</td>\n",
       "      <td>309</td>\n",
       "      <td>489</td>\n",
       "      <td>372</td>\n",
       "    </tr>\n",
       "    <tr>\n",
       "      <th>4</th>\n",
       "      <td>204</td>\n",
       "      <td>355</td>\n",
       "      <td>294</td>\n",
       "      <td>290</td>\n",
       "      <td>404</td>\n",
       "      <td>294</td>\n",
       "      <td>269</td>\n",
       "      <td>294</td>\n",
       "      <td>462</td>\n",
       "      <td>387</td>\n",
       "    </tr>\n",
       "    <tr>\n",
       "      <th>5</th>\n",
       "      <td>220</td>\n",
       "      <td>353</td>\n",
       "      <td>271</td>\n",
       "      <td>278</td>\n",
       "      <td>313</td>\n",
       "      <td>339</td>\n",
       "      <td>306</td>\n",
       "      <td>283</td>\n",
       "      <td>472</td>\n",
       "      <td>487</td>\n",
       "    </tr>\n",
       "    <tr>\n",
       "      <th>6</th>\n",
       "      <td>271</td>\n",
       "      <td>376</td>\n",
       "      <td>370</td>\n",
       "      <td>384</td>\n",
       "      <td>443</td>\n",
       "      <td>357</td>\n",
       "      <td>341</td>\n",
       "      <td>374</td>\n",
       "      <td>695</td>\n",
       "      <td>581</td>\n",
       "    </tr>\n",
       "    <tr>\n",
       "      <th>7</th>\n",
       "      <td>410</td>\n",
       "      <td>401</td>\n",
       "      <td>419</td>\n",
       "      <td>432</td>\n",
       "      <td>530</td>\n",
       "      <td>543</td>\n",
       "      <td>793</td>\n",
       "      <td>715</td>\n",
       "      <td>880</td>\n",
       "      <td>902</td>\n",
       "    </tr>\n",
       "    <tr>\n",
       "      <th>8</th>\n",
       "      <td>499</td>\n",
       "      <td>498</td>\n",
       "      <td>321</td>\n",
       "      <td>430</td>\n",
       "      <td>468</td>\n",
       "      <td>464</td>\n",
       "      <td>480</td>\n",
       "      <td>599</td>\n",
       "      <td>827</td>\n",
       "      <td>842</td>\n",
       "    </tr>\n",
       "    <tr>\n",
       "      <th>9</th>\n",
       "      <td>467</td>\n",
       "      <td>379</td>\n",
       "      <td>480</td>\n",
       "      <td>416</td>\n",
       "      <td>356</td>\n",
       "      <td>569</td>\n",
       "      <td>414</td>\n",
       "      <td>503</td>\n",
       "      <td>695</td>\n",
       "      <td>717</td>\n",
       "    </tr>\n",
       "    <tr>\n",
       "      <th>10</th>\n",
       "      <td>424</td>\n",
       "      <td>417</td>\n",
       "      <td>444</td>\n",
       "      <td>398</td>\n",
       "      <td>485</td>\n",
       "      <td>286</td>\n",
       "      <td>422</td>\n",
       "      <td>590</td>\n",
       "      <td>620</td>\n",
       "      <td>720</td>\n",
       "    </tr>\n",
       "    <tr>\n",
       "      <th>11</th>\n",
       "      <td>437</td>\n",
       "      <td>294</td>\n",
       "      <td>420</td>\n",
       "      <td>341</td>\n",
       "      <td>419</td>\n",
       "      <td>293</td>\n",
       "      <td>316</td>\n",
       "      <td>403</td>\n",
       "      <td>719</td>\n",
       "      <td>719</td>\n",
       "    </tr>\n",
       "    <tr>\n",
       "      <th>12</th>\n",
       "      <td>344</td>\n",
       "      <td>281</td>\n",
       "      <td>254</td>\n",
       "      <td>328</td>\n",
       "      <td>317</td>\n",
       "      <td>262</td>\n",
       "      <td>277</td>\n",
       "      <td>484</td>\n",
       "      <td>613</td>\n",
       "      <td>690</td>\n",
       "    </tr>\n",
       "  </tbody>\n",
       "</table>\n",
       "</div>"
      ],
      "text/plain": [
       "Date_time_formatted  2003.0  2004.0  2005.0  2007.0  2008.0  2009.0  2010.0  \\\n",
       "month                                                                         \n",
       "1                       287     266     228     398     436     454     258   \n",
       "2                       230     265     255     243     345     367     171   \n",
       "3                       169     372     327     331     304     313     236   \n",
       "4                       204     355     294     290     404     294     269   \n",
       "5                       220     353     271     278     313     339     306   \n",
       "6                       271     376     370     384     443     357     341   \n",
       "7                       410     401     419     432     530     543     793   \n",
       "8                       499     498     321     430     468     464     480   \n",
       "9                       467     379     480     416     356     569     414   \n",
       "10                      424     417     444     398     485     286     422   \n",
       "11                      437     294     420     341     419     293     316   \n",
       "12                      344     281     254     328     317     262     277   \n",
       "\n",
       "Date_time_formatted  2011.0  2012.0  2013.0  \n",
       "month                                        \n",
       "1                       298     528     356  \n",
       "2                       255     357     264  \n",
       "3                       309     489     372  \n",
       "4                       294     462     387  \n",
       "5                       283     472     487  \n",
       "6                       374     695     581  \n",
       "7                       715     880     902  \n",
       "8                       599     827     842  \n",
       "9                       503     695     717  \n",
       "10                      590     620     720  \n",
       "11                      403     719     719  \n",
       "12                      484     613     690  "
      ]
     },
     "execution_count": 2,
     "metadata": {},
     "output_type": "execute_result"
    }
   ],
   "source": [
    "import pandas as pd\n",
    "import numpy as np\n",
    "import matplotlib.pyplot as plt\n",
    "%matplotlib inline \n",
    "from datetime import datetime as dt\n",
    "\n",
    "ufo = pd.read_csv('ufo_sighting_data.csv')\n",
    "ufo['Date_time_formatted'] = ufo['Date_time'].apply(lambda x: x[:-6])\n",
    "ufo['Date_time_formatted'] = ufo['Date_time_formatted'].astype('datetime64[ns]')\n",
    "ufo['month'] = ufo['Date_time_formatted'].apply(lambda x: x.month)\n",
    "\n",
    "top_10_years = ufo['Date_time_formatted'].dt.year.value_counts().head(10)\n",
    "\n",
    "def is_in_top_10(year):\n",
    "    if year in top_10_years:\n",
    "        return year\n",
    "\n",
    "years_vs_months = ufo.pivot_table(columns=ufo['Date_time_formatted'].dt.year.apply(is_in_top_10), \n",
    "                                index=ufo['month'], aggfunc='count', values='city')\n",
    "years_vs_months\n"
   ]
  },
  {
   "cell_type": "markdown",
   "metadata": {},
   "source": [
    "## Q139. Write a pandas program to create a heatmap (rectangular data as a colour-encoded matrix) for comparison of top 10 years in which (UFO ) was sighted VS each Month."
   ]
  },
  {
   "cell_type": "code",
   "execution_count": 3,
   "metadata": {
    "scrolled": false
   },
   "outputs": [
    {
     "name": "stderr",
     "output_type": "stream",
     "text": [
      "C:\\Users\\pilla\\Anaconda3\\lib\\site-packages\\IPython\\core\\interactiveshell.py:3057: DtypeWarning: Columns (5,9) have mixed types. Specify dtype option on import or set low_memory=False.\n",
      "  interactivity=interactivity, compiler=compiler, result=result)\n"
     ]
    },
    {
     "data": {
      "text/plain": [
       "<matplotlib.axes._subplots.AxesSubplot at 0x1e1cb941ef0>"
      ]
     },
     "execution_count": 3,
     "metadata": {},
     "output_type": "execute_result"
    },
    {
     "data": {
      "image/png": "[encoded data removed]",
      "text/plain": [
       "<Figure size 432x288 with 2 Axes>"
      ]
     },
     "metadata": {
      "needs_background": "light"
     },
     "output_type": "display_data"
    }
   ],
   "source": [
    "import pandas as pd\n",
    "import numpy as np\n",
    "import matplotlib.pyplot as plt\n",
    "import seaborn as sns\n",
    "%matplotlib inline \n",
    "from datetime import datetime as dt\n",
    "\n",
    "ufo = pd.read_csv('ufo_sighting_data.csv')\n",
    "ufo['Date_time_formatted'] = ufo['Date_time'].apply(lambda x: x[:-6])\n",
    "ufo['Date_time_formatted'] = ufo['Date_time_formatted'].astype('datetime64[ns]')\n",
    "ufo['month'] = ufo['Date_time_formatted'].apply(lambda x: x.month)\n",
    "\n",
    "top_10_years = ufo['Date_time_formatted'].dt.year.value_counts().head(10)\n",
    "\n",
    "def is_in_top_10(year):\n",
    "    if year in top_10_years:\n",
    "        return year\n",
    "\n",
    "years_vs_months = ufo.pivot_table(columns=ufo['Date_time_formatted'].dt.year.apply(is_in_top_10), \n",
    "                                index=ufo['month'], aggfunc='count', values='city')\n",
    "\n",
    "\n",
    "sns.heatmap(years_vs_months)"
   ]
  },
  {
   "cell_type": "markdown",
   "metadata": {},
   "source": [
    "## Q140. Write a pandas program to create a Timewheel of Hour VS Year comparison of the top 10 years in which the (UFO) was sighted."
   ]
  },
  {
   "cell_type": "markdown",
   "metadata": {},
   "source": [
    "## Q141. Write a python program to draw the line using given axis values with the suitable label in the x-axis, y-axis, and a title."
   ]
  },
  {
   "cell_type": "code",
   "execution_count": 23,
   "metadata": {
    "scrolled": true
   },
   "outputs": [
    {
     "data": {
      "text/plain": [
       "(1, 4)"
      ]
     },
     "execution_count": 23,
     "metadata": {},
     "output_type": "execute_result"
    },
    {
     "data": {
      "image/png": "[encoded data removed]",
      "text/plain": [
       "<Figure size 432x288 with 1 Axes>"
      ]
     },
     "metadata": {
      "needs_background": "light"
     },
     "output_type": "display_data"
    }
   ],
   "source": [
    "import pandas as pd\n",
    "import numpy as np\n",
    "import matplotlib.pyplot as plt\n",
    "import seaborn as sns\n",
    "%matplotlib inline \n",
    "\n",
    "x = [1,2,3]\n",
    "y = [2,4,1]\n",
    "plt.plot(x,y)\n",
    "plt.xlabel('x-axis')\n",
    "plt.ylabel('y-axis')\n",
    "plt.title('Sample graph')\n",
    "plt.xlim(1,3)\n",
    "plt.ylim(1,4)"
   ]
  },
  {
   "cell_type": "markdown",
   "metadata": {},
   "source": [
    "## Q142. Write a python program to draw the line charts of the financial data of the Alphabet Inc., between October."
   ]
  },
  {
   "cell_type": "code",
   "execution_count": 25,
   "metadata": {},
   "outputs": [
    {
     "data": {
      "text/plain": [
       "<matplotlib.axes._subplots.AxesSubplot at 0x1e1cd7767b8>"
      ]
     },
     "execution_count": 25,
     "metadata": {},
     "output_type": "execute_result"
    },
    {
     "data": {
      "image/png": "[encoded data removed]",
      "text/plain": [
       "<Figure size 432x288 with 1 Axes>"
      ]
     },
     "metadata": {
      "needs_background": "light"
     },
     "output_type": "display_data"
    }
   ],
   "source": [
    "import pandas as pd\n",
    "import numpy as np\n",
    "import matplotlib.pyplot as plt\n",
    "import seaborn as sns\n",
    "%matplotlib inline \n",
    "\n",
    "df = pd.read_csv('fdata.csv')\n",
    "\n",
    "\n",
    "df.plot()"
   ]
  },
  {
   "cell_type": "markdown",
   "metadata": {},
   "source": [
    "## Q143. Write a Python program to plot two or more lines on same plot with the suitable legends of each line."
   ]
  },
  {
   "cell_type": "code",
   "execution_count": 46,
   "metadata": {
    "scrolled": true
   },
   "outputs": [
    {
     "data": {
      "text/plain": [
       "Text(0, 0.5, 'y-axis')"
      ]
     },
     "execution_count": 46,
     "metadata": {},
     "output_type": "execute_result"
    },
    {
     "data": {
      "image/png": "[encoded data removed]",
      "text/plain": [
       "<Figure size 432x288 with 1 Axes>"
      ]
     },
     "metadata": {
      "needs_background": "light"
     },
     "output_type": "display_data"
    }
   ],
   "source": [
    "import pandas as pd\n",
    "import numpy as np\n",
    "import matplotlib.pyplot as plt\n",
    "import seaborn as sns\n",
    "%matplotlib inline \n",
    "\n",
    "df = pd.DataFrame({'line1':{10:20,20:40,30:10}, 'line2':{10:40,20:10,30:30}})\n",
    "\n",
    "df.plot(xlim=(10,30), ylim=(10,40), title='Two or more lines on same plot with the suitable legends of each line')\n",
    "plt.xlabel('x-axis')\n",
    "plt.ylabel('y-axis')"
   ]
  },
  {
   "cell_type": "markdown",
   "metadata": {},
   "source": [
    "## Q144. Write a python programming to display a bar chart of the popularity of programming languages.\n",
    "\n",
    "Sample data: \n",
    "\n",
    "programming languages- Java, Python, PHP, JavaScript, C#, C++ \n",
    "\n",
    "Popularity- 22.2, 17.6, 8.8, 8, 7.7 , 6.7"
   ]
  },
  {
   "cell_type": "code",
   "execution_count": 49,
   "metadata": {
    "scrolled": true
   },
   "outputs": [
    {
     "data": {
      "text/plain": [
       "<BarContainer object of 6 artists>"
      ]
     },
     "execution_count": 49,
     "metadata": {},
     "output_type": "execute_result"
    },
    {
     "data": {
      "image/png": "[encoded data removed]",
      "text/plain": [
       "<Figure size 432x288 with 1 Axes>"
      ]
     },
     "metadata": {
      "needs_background": "light"
     },
     "output_type": "display_data"
    }
   ],
   "source": [
    "import pandas as pd\n",
    "import numpy as np\n",
    "import matplotlib.pyplot as plt\n",
    "import seaborn as sns\n",
    "%matplotlib inline \n",
    "\n",
    "prog_lang = ['Java', 'Python', 'PHP', 'JavaScript', 'C#', 'C++']\n",
    "\n",
    "popularity =  [22.2, 17.6, 8.8, 8, 7.7 , 6.7]\n",
    "\n",
    "plt.bar(prog_lang, popularity)"
   ]
  },
  {
   "cell_type": "markdown",
   "metadata": {},
   "source": [
    "## Q145. Write a python programming to display a horizontal bar chart of the popularity of programming languages.\n",
    "\n",
    "Sample data: \n",
    "\n",
    "programming languages- Java, Python, PHP, JavaScript, C#, C++ \n",
    "\n",
    "Popularity- 22.2, 17.6, 8.8, 8, 7.7 , 6.7"
   ]
  },
  {
   "cell_type": "code",
   "execution_count": 51,
   "metadata": {
    "scrolled": true
   },
   "outputs": [
    {
     "data": {
      "text/plain": [
       "<BarContainer object of 6 artists>"
      ]
     },
     "execution_count": 51,
     "metadata": {},
     "output_type": "execute_result"
    },
    {
     "data": {
      "image/png": "[encoded data removed]",
      "text/plain": [
       "<Figure size 432x288 with 1 Axes>"
      ]
     },
     "metadata": {
      "needs_background": "light"
     },
     "output_type": "display_data"
    }
   ],
   "source": [
    "import pandas as pd\n",
    "import numpy as np\n",
    "import matplotlib.pyplot as plt\n",
    "import seaborn as sns\n",
    "%matplotlib inline \n",
    "\n",
    "prog_lang = ['Java', 'Python', 'PHP', 'JavaScript', 'C#', 'C++']\n",
    "\n",
    "popularity =  [22.2, 17.6, 8.8, 8, 7.7 , 6.7]\n",
    "\n",
    "plt.barh(prog_lang, popularity)"
   ]
  },
  {
   "cell_type": "markdown",
   "metadata": {},
   "source": [
    "## Q146. Write a python programming to display a bar chart of the Popularity of programming languages. Increase bottom margin.\n",
    "\n",
    "Sample data: \n",
    "\n",
    "programming languages- Java, Python, PHP, JavaScript, C#, C++ \n",
    "\n",
    "Popularity- 22.2, 17.6, 8.8, 8, 7.7 , 6.7"
   ]
  },
  {
   "cell_type": "code",
   "execution_count": 63,
   "metadata": {},
   "outputs": [
    {
     "data": {
      "image/png": "[encoded data removed]",
      "text/plain": [
       "<Figure size 432x288 with 1 Axes>"
      ]
     },
     "metadata": {
      "needs_background": "light"
     },
     "output_type": "display_data"
    }
   ],
   "source": [
    "import pandas as pd\n",
    "import numpy as np\n",
    "import matplotlib.pyplot as plt\n",
    "import seaborn as sns\n",
    "%matplotlib inline \n",
    "\n",
    "prog_lang = ['Java', 'Python', 'PHP', 'JavaScript', 'C#', 'C++']\n",
    "\n",
    "popularity =  [22.2, 17.6, 8.8, 8, 7.7 , 6.7]\n",
    "\n",
    "plt.bar(prog_lang, popularity)\n",
    "plt.xticks(prog_lang, rotation=90)\n",
    "plt.subplots_adjust(bottom=0.2)"
   ]
  },
  {
   "cell_type": "markdown",
   "metadata": {},
   "source": [
    "## Q147. Write a python program to create the bar plot from a DataFrame.\n",
    "\n",
    "a b c d e \n",
    "\n",
    "2 4,8,5,7,6 \n",
    "\n",
    "4 2,3,4,2,6 \n",
    "\n",
    "6 4,7,4,7,8 \n",
    "\n",
    "8 2,6,4,8,6 \n",
    "\n",
    "10 2,4,3,3,2"
   ]
  },
  {
   "cell_type": "code",
   "execution_count": 67,
   "metadata": {
    "scrolled": true
   },
   "outputs": [
    {
     "data": {
      "text/plain": [
       "<matplotlib.axes._subplots.AxesSubplot at 0x1e1d2339630>"
      ]
     },
     "execution_count": 67,
     "metadata": {},
     "output_type": "execute_result"
    },
    {
     "data": {
      "image/png": "[encoded data removed]",
      "text/plain": [
       "<Figure size 432x288 with 1 Axes>"
      ]
     },
     "metadata": {
      "needs_background": "light"
     },
     "output_type": "display_data"
    }
   ],
   "source": [
    "import pandas as pd\n",
    "import numpy as np\n",
    "import matplotlib.pyplot as plt\n",
    "import seaborn as sns\n",
    "%matplotlib inline \n",
    "\n",
    "df = pd.DataFrame({'a':[4,2,4,2,2],'b':[8,3,7,6,4],'c':[5,4,4,4,3],'d':[7,2,7,8,3],'e':[6,6,8,6,2]},index=[2,4,6,8,10])\n",
    "\n",
    "df.plot(kind='bar')"
   ]
  },
  {
   "cell_type": "markdown",
   "metadata": {},
   "source": [
    "## Q148. Write a python program to draw the scatter plot comparing two subject marks of Mathematics and Science. Use marks of 10 students.\n",
    "\n",
    "Sample data: \n",
    "\n",
    "Test Data- \n",
    "\n",
    "math_marks = [88, 92 , 80, 89, 100, 80, 60, 100, 80, 34] \n",
    "\n",
    "science_marks = [35, 79, 79 , 48, 100, 88, 32, 45, 20, 30] \n",
    "\n",
    "marks_range = [10, 20, 30, 40, 50, 60, 70, 80, 90, 100]"
   ]
  },
  {
   "cell_type": "code",
   "execution_count": 85,
   "metadata": {
    "scrolled": true
   },
   "outputs": [
    {
     "data": {
      "text/plain": [
       "Text(0.5, 1.0, 'Scatter Plot')"
      ]
     },
     "execution_count": 85,
     "metadata": {},
     "output_type": "execute_result"
    },
    {
     "data": {
      "image/png": "[encoded data removed]",
      "text/plain": [
       "<Figure size 432x288 with 1 Axes>"
      ]
     },
     "metadata": {
      "needs_background": "light"
     },
     "output_type": "display_data"
    }
   ],
   "source": [
    "import pandas as pd\n",
    "import numpy as np\n",
    "import matplotlib.pyplot as plt\n",
    "import seaborn as sns\n",
    "%matplotlib inline \n",
    "\n",
    "math_marks = [88, 92 , 80, 89, 100, 80, 60, 100, 80, 34]\n",
    "science_marks = [35, 79, 79 , 48, 100, 88, 32, 45, 20, 30]\n",
    "marks_range = [10, 20, 30, 40, 50, 60, 70, 80, 90, 100]\n",
    "\n",
    "plt.scatter(marks_range,math_marks, label='Math Marks', color='b')\n",
    "plt.scatter(marks_range,science_marks, label='Science Marks', color='g')\n",
    "plt.legend()\n",
    "plt.xlabel('Marks Range')\n",
    "plt.ylabel('Marks SCored')\n",
    "plt.title('Scatter Plot')"
   ]
  },
  {
   "cell_type": "markdown",
   "metadata": {},
   "source": [
    "## Q149. Write a python program to draw the scatter plot for three different groups comparing weights and heights."
   ]
  },
  {
   "cell_type": "code",
   "execution_count": null,
   "metadata": {},
   "outputs": [],
   "source": [
    "import pandas as pd\n",
    "import numpy as np\n",
    "import matplotlib.pyplot as plt\n",
    "import seaborn as sns\n",
    "%matplotlib inline \n",
    "\n"
   ]
  },
  {
   "cell_type": "markdown",
   "metadata": {},
   "source": [
    "## Q150. Write a python program to draw a scatter plot to find sea-level rise in past 100 years."
   ]
  },
  {
   "cell_type": "code",
   "execution_count": 106,
   "metadata": {},
   "outputs": [
    {
     "data": {
      "text/plain": [
       "<matplotlib.axes._subplots.AxesSubplot at 0x1e1d2b60518>"
      ]
     },
     "execution_count": 106,
     "metadata": {},
     "output_type": "execute_result"
    },
    {
     "data": {
      "image/png": "[encoded data removed]",
      "text/plain": [
       "<Figure size 432x288 with 1 Axes>"
      ]
     },
     "metadata": {
      "needs_background": "light"
     },
     "output_type": "display_data"
    }
   ],
   "source": [
    "import pandas as pd\n",
    "import numpy as np\n",
    "import matplotlib.pyplot as plt\n",
    "import seaborn as sns\n",
    "%matplotlib inline \n",
    "\n",
    "df = pd.read_csv('epa-sea-level_csv.csv')\n",
    "# plt.scatter(df['Year'],df['CSIRO Adjusted Sea Level'])\n",
    "\n",
    "sns.scatterplot(df['Year'],df['CSIRO Adjusted Sea Level'], data=df)"
   ]
  }
 ],
 "metadata": {
  "kernelspec": {
   "display_name": "Python 3",
   "language": "python",
   "name": "python3"
  },
  "language_info": {
   "codemirror_mode": {
    "name": "ipython",
    "version": 3
   },
   "file_extension": ".py",
   "mimetype": "text/x-python",
   "name": "python",
   "nbconvert_exporter": "python",
   "pygments_lexer": "ipython3",
   "version": "3.7.3"
  }
 },
 "nbformat": 4,
 "nbformat_minor": 2
}
