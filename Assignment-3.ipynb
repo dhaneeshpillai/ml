{
 "cells": [
  {
   "cell_type": "markdown",
   "metadata": {},
   "source": [
    "# Assignment - 3"
   ]
  },
  {
   "cell_type": "markdown",
   "metadata": {},
   "source": [
    "## Task - 1"
   ]
  },
  {
   "cell_type": "markdown",
   "metadata": {},
   "source": [
    "### 1) Write a function to compute 5/0 and use try/except to catch the exceptions."
   ]
  },
  {
   "cell_type": "code",
   "execution_count": 1,
   "metadata": {},
   "outputs": [
    {
     "name": "stdout",
     "output_type": "stream",
     "text": [
      "division by zero\n"
     ]
    }
   ],
   "source": [
    "def division(a,b):\n",
    "    \"\"\"Division Function\"\"\"\n",
    "    return a/b\n",
    "\n",
    "try:\n",
    "    division(5,0)\n",
    "except ZeroDivisionError as e:\n",
    "    print(e)\n",
    "except Exception as e:\n",
    "    print(e)"
   ]
  },
  {
   "cell_type": "markdown",
   "metadata": {},
   "source": [
    "### 2) Implement a Python program to generate all sentences where subject is in [\"Americans\",\"Indians\"] and verb is in [\"Play\", \"watch\"] and the object is in [\"Baseball\",\"cricket\"].\n",
    "\n",
    "Hint: Subject,Verb and Object should be declared in the program as shown below.\n",
    "\n",
    "subjects=[\"Americans \",\"Indians\"]\n",
    "verbs=[\"play\",\"watch\"]\n",
    "objects=[\"Baseball\",\"Cricket\"]\n",
    "\n",
    "#### Output should come as below:\n",
    "Americans play Baseball.\n",
    "Americans play Cricket.\n",
    "Americans watch Baseball.\n",
    "Americans watch Cricket.\n",
    "Indians play Baseball.\n",
    "Indians play Cricket.\n",
    "Indians watch Baseball.\n",
    "Indians watch Cricket."
   ]
  },
  {
   "cell_type": "code",
   "execution_count": 2,
   "metadata": {},
   "outputs": [
    {
     "name": "stdout",
     "output_type": "stream",
     "text": [
      "Americans play Baseball\n",
      "Americans play cricket\n",
      "Americans watch Baseball\n",
      "Americans watch cricket\n",
      "Indians play Baseball\n",
      "Indians play cricket\n",
      "Indians watch Baseball\n",
      "Indians watch cricket\n"
     ]
    }
   ],
   "source": [
    "subjects = [\"Americans\",\"Indians\"]\n",
    "verbs = [\"play\", \"watch\"]\n",
    "objects = [\"Baseball\",\"cricket\"]\n",
    "\n",
    "for sub in subjects:\n",
    "    for verb in verbs:\n",
    "        for objct in objects:\n",
    "            print(f'{sub} {verb} {objct}')"
   ]
  },
  {
   "cell_type": "markdown",
   "metadata": {},
   "source": [
    "## Task-2"
   ]
  },
  {
   "cell_type": "markdown",
   "metadata": {},
   "source": [
    "### 1) Write a function so that the columns of the output matrix are powers of the input vector.\n",
    "\n",
    "The order of the powers is determined by the increasing boolean argument. Specifically, when\n",
    "increasing is False, the i-th output column is the input vector raised element-wise to the power\n",
    "of N - i - 1.\n",
    "\n",
    "HINT: Such a matrix with a geometric progression in each row is named for Alexandre-\n",
    "Theophile Vandermonde."
   ]
  },
  {
   "cell_type": "code",
   "execution_count": 3,
   "metadata": {},
   "outputs": [
    {
     "data": {
      "text/plain": [
       "[[1, 1, 1, 1, 1],\n",
       " [16, 8, 4, 2, 1],\n",
       " [81, 27, 9, 3, 1],\n",
       " [256, 64, 16, 4, 1],\n",
       " [625, 125, 25, 5, 1]]"
      ]
     },
     "execution_count": 3,
     "metadata": {},
     "output_type": "execute_result"
    }
   ],
   "source": [
    "def atv(arr, n:int=0, increasing=False):\n",
    "    \"\"\"Function for generating Alexandre-Theophile Vandermonde matrix \n",
    "    \n",
    "    Arguments:\n",
    "        arr (iterable): input vector\n",
    "        n (int): Number of columns, optional\n",
    "        increasing (bool): Order of the powers of the columns. If True, the powers increase from left to right, \n",
    "                            if False (the default) they are reversed.\n",
    "        \n",
    "    Returns:\n",
    "        list: Returns a multi-dimensional list\n",
    "    \"\"\"\n",
    "    atv_mat = []\n",
    "    if not n:\n",
    "        n = len(arr)\n",
    "    for ele in arr:\n",
    "        row = []\n",
    "        for i in range(n):\n",
    "            if increasing:\n",
    "                row.append(ele**i)\n",
    "            else:\n",
    "                row.append(ele**(n-1-i))\n",
    "        atv_mat.append(row)\n",
    "    return atv_mat\n",
    "\n",
    "atv([1,2,3,4,5])"
   ]
  },
  {
   "cell_type": "code",
   "execution_count": 4,
   "metadata": {},
   "outputs": [
    {
     "data": {
      "text/plain": [
       "[[1, 1, 1, 1, 1],\n",
       " [1, 2, 4, 8, 16],\n",
       " [1, 3, 9, 27, 81],\n",
       " [1, 4, 16, 64, 256],\n",
       " [1, 5, 25, 125, 625]]"
      ]
     },
     "execution_count": 4,
     "metadata": {},
     "output_type": "execute_result"
    }
   ],
   "source": [
    "# Alexandre-Theophile Vandermonde matrix using list comprehension\n",
    "\n",
    "def atv_lst_compr(arr, n=None, increasing=False):\n",
    "    \"\"\"Function for generating Alexandre-Theophile Vandermonde matrix \n",
    "    \n",
    "    Arguments:\n",
    "        arr (iterable): input vector\n",
    "        n (int): Number of columns, optional\n",
    "        increasing (bool): Order of the powers of the columns. If True, the powers increase from left to right, \n",
    "                            if False (the default) they are reversed.\n",
    "        \n",
    "    Returns:\n",
    "        list: Returns a multi-dimensional list\n",
    "    \"\"\"\n",
    "    if not n:\n",
    "        n = len(arr)\n",
    "    if increasing:\n",
    "        return [[x**i for i in range(n)] for x in arr]\n",
    "    else:\n",
    "        return [[x**(n-1-i) for i in range(n)] for x in arr]\n",
    "    \n",
    "atv_lst_compr([1,2,3,4,5],increasing=True)"
   ]
  }
 ],
 "metadata": {
  "kernelspec": {
   "display_name": "Python 3",
   "language": "python",
   "name": "python3"
  },
  "language_info": {
   "codemirror_mode": {
    "name": "ipython",
    "version": 3
   },
   "file_extension": ".py",
   "mimetype": "text/x-python",
   "name": "python",
   "nbconvert_exporter": "python",
   "pygments_lexer": "ipython3",
   "version": "3.7.3"
  }
 },
 "nbformat": 4,
 "nbformat_minor": 2
}
